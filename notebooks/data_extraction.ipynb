{
 "cells": [
  {
   "cell_type": "markdown",
   "metadata": {
    "heading_collapsed": true
   },
   "source": [
    "## Getting audio clips of required classes from google audioset data #### \n",
    "https://research.google.com/audioset/dataset/index.html\n",
    "* Since the dataset is too huge, shortlisted a few classes to work on\n",
    "    * Natural sounds: Fire vs Wind/Water/Storm.\n",
    "* To get maximum data for the above classes, have used all the data available from the audioset data\n",
    "    * Refer https://research.google.com/audioset//download.html#split for more details\n",
    "    * ID to Class mapping is available in this link - https://github.com/audioset/ontology/blob/master/ontology.json"
   ]
  },
  {
   "cell_type": "code",
   "execution_count": 1,
   "metadata": {
    "hidden": true
   },
   "outputs": [],
   "source": [
    "import os\n",
    "import subprocess\n",
    "import youtube_dl\n",
    "import pandas as pd\n",
    "import glob\n",
    "import numpy as np\n",
    "import tqdm"
   ]
  },
  {
   "cell_type": "code",
   "execution_count": 2,
   "metadata": {},
   "outputs": [
    {
     "name": "stdout",
     "output_type": "stream",
     "text": [
      "/home/sramirez/git/FeuerFreiKiller/notebooks\n"
     ]
    }
   ],
   "source": [
    "!pwd"
   ]
  },
  {
   "cell_type": "code",
   "execution_count": 3,
   "metadata": {},
   "outputs": [],
   "source": [
    "os.chdir('/home/sramirez/git/FeuerFreiKiller/notebooks/')"
   ]
  },
  {
   "cell_type": "code",
   "execution_count": 4,
   "metadata": {},
   "outputs": [
    {
     "name": "stdout",
     "output_type": "stream",
     "text": [
      "--2019-08-18 16:34:21--  http://storage.googleapis.com/us_audioset/youtube_corpus/v1/csv/unbalanced_train_segments.csv\n",
      "Resolving storage.googleapis.com (storage.googleapis.com)... 216.58.201.176, 2a00:1450:4003:803::2010\n",
      "Connecting to storage.googleapis.com (storage.googleapis.com)|216.58.201.176|:80... connected.\n",
      "HTTP request sent, awaiting response... 200 OK\n",
      "Length: 101468408 (97M) [application/octet-stream]\n",
      "Saving to: ‘../data/external/unbalanced_data.csv’\n",
      "\n",
      "../data/external/un 100%[===================>]  96,77M  9,52MB/s    in 12s     \n",
      "\n",
      "2019-08-18 16:34:34 (7,75 MB/s) - ‘../data/external/unbalanced_data.csv’ saved [101468408/101468408]\n",
      "\n"
     ]
    }
   ],
   "source": [
    "!wget http://storage.googleapis.com/us_audioset/youtube_corpus/v1/csv/unbalanced_train_segments.csv -O '../data/external/unbalanced_data.csv'"
   ]
  },
  {
   "cell_type": "code",
   "execution_count": 5,
   "metadata": {},
   "outputs": [
    {
     "name": "stdout",
     "output_type": "stream",
     "text": [
      "--2019-08-18 16:34:35--  http://storage.googleapis.com/us_audioset/youtube_corpus/v1/csv/balanced_train_segments.csv\n",
      "Resolving storage.googleapis.com (storage.googleapis.com)... 216.58.201.176, 2a00:1450:4003:803::2010\n",
      "Connecting to storage.googleapis.com (storage.googleapis.com)|216.58.201.176|:80... connected.\n",
      "HTTP request sent, awaiting response... 200 OK\n",
      "Length: 1211931 (1,2M) [application/octet-stream]\n",
      "Saving to: ‘../data/external/balanced_train_data.csv’\n",
      "\n",
      "../data/external/ba 100%[===================>]   1,16M  7,48MB/s    in 0,2s    \n",
      "\n",
      "2019-08-18 16:34:35 (7,48 MB/s) - ‘../data/external/balanced_train_data.csv’ saved [1211931/1211931]\n",
      "\n"
     ]
    }
   ],
   "source": [
    "!wget http://storage.googleapis.com/us_audioset/youtube_corpus/v1/csv/balanced_train_segments.csv -O '../data/external/balanced_train_data.csv'"
   ]
  },
  {
   "cell_type": "code",
   "execution_count": 6,
   "metadata": {},
   "outputs": [
    {
     "name": "stdout",
     "output_type": "stream",
     "text": [
      "--2019-08-18 16:34:35--  http://storage.googleapis.com/us_audioset/youtube_corpus/v1/csv/eval_segments.csv\n",
      "Resolving storage.googleapis.com (storage.googleapis.com)... 216.58.201.176, 2a00:1450:4003:803::2010\n",
      "Connecting to storage.googleapis.com (storage.googleapis.com)|216.58.201.176|:80... connected.\n",
      "HTTP request sent, awaiting response... 200 OK\n",
      "Length: 1143389 (1,1M) [application/octet-stream]\n",
      "Saving to: ‘../data/external/eval_data.csv’\n",
      "\n",
      "../data/external/ev 100%[===================>]   1,09M  --.-KB/s    in 0,1s    \n",
      "\n",
      "2019-08-18 16:34:36 (8,18 MB/s) - ‘../data/external/eval_data.csv’ saved [1143389/1143389]\n",
      "\n"
     ]
    }
   ],
   "source": [
    "!wget http://storage.googleapis.com/us_audioset/youtube_corpus/v1/csv/eval_segments.csv -O '../data/external/eval_data.csv'"
   ]
  },
  {
   "cell_type": "markdown",
   "metadata": {
    "heading_collapsed": true
   },
   "source": [
    "## Merging the csv annotation files - Eval, Balanced and Unbalanced to get maximum data"
   ]
  },
  {
   "cell_type": "code",
   "execution_count": 7,
   "metadata": {
    "hidden": true
   },
   "outputs": [],
   "source": [
    "#os.chdir('../data/external/')"
   ]
  },
  {
   "cell_type": "code",
   "execution_count": 8,
   "metadata": {},
   "outputs": [
    {
     "name": "stdout",
     "output_type": "stream",
     "text": [
      "../data/external/balanced_train_data.csv\n",
      "../data/external/eval_data.csv\n",
      "../data/external/unbalanced_data.csv\n"
     ]
    }
   ],
   "source": [
    "path = '../data/external/'\n",
    "all_files = glob.glob(path + \"/*.csv\")\n",
    "li = []\n",
    "\n",
    "for filename in all_files:\n",
    "    print(filename)\n",
    "    df = pd.read_csv(filename, skiprows=2, quotechar='\"', engine='python', skipinitialspace=True)\n",
    "    li.append(df)\n",
    "\n",
    "df = pd.concat(li, axis=0, ignore_index=True)"
   ]
  },
  {
   "cell_type": "code",
   "execution_count": 9,
   "metadata": {},
   "outputs": [
    {
     "data": {
      "text/plain": [
       "((2084320, 4), 2085544)"
      ]
     },
     "execution_count": 9,
     "metadata": {},
     "output_type": "execute_result"
    }
   ],
   "source": [
    "df.shape,  2042985 + 22176 + 20383"
   ]
  },
  {
   "cell_type": "code",
   "execution_count": 10,
   "metadata": {},
   "outputs": [
    {
     "data": {
      "text/html": [
       "<div>\n",
       "<style scoped>\n",
       "    .dataframe tbody tr th:only-of-type {\n",
       "        vertical-align: middle;\n",
       "    }\n",
       "\n",
       "    .dataframe tbody tr th {\n",
       "        vertical-align: top;\n",
       "    }\n",
       "\n",
       "    .dataframe thead th {\n",
       "        text-align: right;\n",
       "    }\n",
       "</style>\n",
       "<table border=\"1\" class=\"dataframe\">\n",
       "  <thead>\n",
       "    <tr style=\"text-align: right;\">\n",
       "      <th></th>\n",
       "      <th># YTID</th>\n",
       "      <th>start_seconds</th>\n",
       "      <th>end_seconds</th>\n",
       "      <th>positive_labels</th>\n",
       "    </tr>\n",
       "  </thead>\n",
       "  <tbody>\n",
       "    <tr>\n",
       "      <th>0</th>\n",
       "      <td>--PJHxphWEs</td>\n",
       "      <td>30.0</td>\n",
       "      <td>40.0</td>\n",
       "      <td>/m/09x0r,/t/dd00088</td>\n",
       "    </tr>\n",
       "    <tr>\n",
       "      <th>1</th>\n",
       "      <td>--ZhevVpy1s</td>\n",
       "      <td>50.0</td>\n",
       "      <td>60.0</td>\n",
       "      <td>/m/012xff</td>\n",
       "    </tr>\n",
       "    <tr>\n",
       "      <th>2</th>\n",
       "      <td>--aE2O5G5WE</td>\n",
       "      <td>0.0</td>\n",
       "      <td>10.0</td>\n",
       "      <td>/m/03fwl,/m/04rlf,/m/09x0r</td>\n",
       "    </tr>\n",
       "    <tr>\n",
       "      <th>3</th>\n",
       "      <td>--aO5cdqSAg</td>\n",
       "      <td>30.0</td>\n",
       "      <td>40.0</td>\n",
       "      <td>/t/dd00003,/t/dd00005</td>\n",
       "    </tr>\n",
       "    <tr>\n",
       "      <th>4</th>\n",
       "      <td>--aaILOrkII</td>\n",
       "      <td>200.0</td>\n",
       "      <td>210.0</td>\n",
       "      <td>/m/032s66,/m/073cg4</td>\n",
       "    </tr>\n",
       "  </tbody>\n",
       "</table>\n",
       "</div>"
      ],
      "text/plain": [
       "        # YTID  start_seconds  end_seconds             positive_labels\n",
       "0  --PJHxphWEs           30.0         40.0         /m/09x0r,/t/dd00088\n",
       "1  --ZhevVpy1s           50.0         60.0                   /m/012xff\n",
       "2  --aE2O5G5WE            0.0         10.0  /m/03fwl,/m/04rlf,/m/09x0r\n",
       "3  --aO5cdqSAg           30.0         40.0       /t/dd00003,/t/dd00005\n",
       "4  --aaILOrkII          200.0        210.0         /m/032s66,/m/073cg4"
      ]
     },
     "execution_count": 10,
     "metadata": {},
     "output_type": "execute_result"
    }
   ],
   "source": [
    "df.head()"
   ]
  },
  {
   "cell_type": "code",
   "execution_count": 11,
   "metadata": {},
   "outputs": [
    {
     "data": {
      "text/plain": [
       "0"
      ]
     },
     "execution_count": 11,
     "metadata": {},
     "output_type": "execute_result"
    }
   ],
   "source": [
    "df.duplicated().sum()"
   ]
  },
  {
   "cell_type": "code",
   "execution_count": 12,
   "metadata": {
    "hidden": true
   },
   "outputs": [
    {
     "name": "stdout",
     "output_type": "stream",
     "text": [
      "multi     1183535\n",
      "single     900785\n",
      "Name: label, dtype: int64\n"
     ]
    }
   ],
   "source": [
    "df['label'] = df.positive_labels.map(lambda x: 'single' if len(x.split(',')) == 1 else 'multi')\n",
    "print(df.label.value_counts())"
   ]
  },
  {
   "cell_type": "code",
   "execution_count": 13,
   "metadata": {},
   "outputs": [
    {
     "data": {
      "text/html": [
       "<div>\n",
       "<style scoped>\n",
       "    .dataframe tbody tr th:only-of-type {\n",
       "        vertical-align: middle;\n",
       "    }\n",
       "\n",
       "    .dataframe tbody tr th {\n",
       "        vertical-align: top;\n",
       "    }\n",
       "\n",
       "    .dataframe thead th {\n",
       "        text-align: right;\n",
       "    }\n",
       "</style>\n",
       "<table border=\"1\" class=\"dataframe\">\n",
       "  <thead>\n",
       "    <tr style=\"text-align: right;\">\n",
       "      <th></th>\n",
       "      <th># YTID</th>\n",
       "      <th>start_seconds</th>\n",
       "      <th>end_seconds</th>\n",
       "      <th>positive_labels</th>\n",
       "      <th>label</th>\n",
       "    </tr>\n",
       "  </thead>\n",
       "  <tbody>\n",
       "    <tr>\n",
       "      <th>0</th>\n",
       "      <td>--PJHxphWEs</td>\n",
       "      <td>30.0</td>\n",
       "      <td>40.0</td>\n",
       "      <td>/m/09x0r,/t/dd00088</td>\n",
       "      <td>multi</td>\n",
       "    </tr>\n",
       "    <tr>\n",
       "      <th>1</th>\n",
       "      <td>--ZhevVpy1s</td>\n",
       "      <td>50.0</td>\n",
       "      <td>60.0</td>\n",
       "      <td>/m/012xff</td>\n",
       "      <td>single</td>\n",
       "    </tr>\n",
       "    <tr>\n",
       "      <th>2</th>\n",
       "      <td>--aE2O5G5WE</td>\n",
       "      <td>0.0</td>\n",
       "      <td>10.0</td>\n",
       "      <td>/m/03fwl,/m/04rlf,/m/09x0r</td>\n",
       "      <td>multi</td>\n",
       "    </tr>\n",
       "    <tr>\n",
       "      <th>3</th>\n",
       "      <td>--aO5cdqSAg</td>\n",
       "      <td>30.0</td>\n",
       "      <td>40.0</td>\n",
       "      <td>/t/dd00003,/t/dd00005</td>\n",
       "      <td>multi</td>\n",
       "    </tr>\n",
       "    <tr>\n",
       "      <th>4</th>\n",
       "      <td>--aaILOrkII</td>\n",
       "      <td>200.0</td>\n",
       "      <td>210.0</td>\n",
       "      <td>/m/032s66,/m/073cg4</td>\n",
       "      <td>multi</td>\n",
       "    </tr>\n",
       "  </tbody>\n",
       "</table>\n",
       "</div>"
      ],
      "text/plain": [
       "        # YTID  start_seconds  end_seconds             positive_labels   label\n",
       "0  --PJHxphWEs           30.0         40.0         /m/09x0r,/t/dd00088   multi\n",
       "1  --ZhevVpy1s           50.0         60.0                   /m/012xff  single\n",
       "2  --aE2O5G5WE            0.0         10.0  /m/03fwl,/m/04rlf,/m/09x0r   multi\n",
       "3  --aO5cdqSAg           30.0         40.0       /t/dd00003,/t/dd00005   multi\n",
       "4  --aaILOrkII          200.0        210.0         /m/032s66,/m/073cg4   multi"
      ]
     },
     "execution_count": 13,
     "metadata": {},
     "output_type": "execute_result"
    }
   ],
   "source": [
    "df.head()"
   ]
  },
  {
   "cell_type": "markdown",
   "metadata": {
    "heading_collapsed": true
   },
   "source": [
    "## Filtering clips with required classes"
   ]
  },
  {
   "cell_type": "code",
   "execution_count": 14,
   "metadata": {
    "hidden": true
   },
   "outputs": [],
   "source": [
    "# Use the corressponding ids based for the classes as available in json file mentioned at the start \n",
    "str2id = {'Fire': '/m/02_41', 'Wind': '/m/03m9d0z', 'Water': '/m/0838f', 'Thunderstorm': '/m/0jb2l'}\n",
    "id2str = {v: k for k, v in str2id.items()}\n",
    "\n",
    "for k in str2id.keys():\n",
    "    df[k] = df.positive_labels.map(lambda x: 1 if (str2id[k] in x.split(',')) else 0)"
   ]
  },
  {
   "cell_type": "code",
   "execution_count": 15,
   "metadata": {},
   "outputs": [
    {
     "name": "stdout",
     "output_type": "stream",
     "text": [
      "Category: Fire, # of elements: 1445\n",
      "Category: Wind, # of elements: 6805\n",
      "Category: Water, # of elements: 8994\n",
      "Category: Thunderstorm, # of elements: 1262\n"
     ]
    }
   ],
   "source": [
    "for k in str2id.keys():\n",
    "    print('Category: {}, # of elements: {}'.format(k, df[k].sum()))\n",
    "    "
   ]
  },
  {
   "cell_type": "code",
   "execution_count": 16,
   "metadata": {},
   "outputs": [
    {
     "data": {
      "text/plain": [
       "['Fire', 'Wind', 'Water', 'Thunderstorm']"
      ]
     },
     "execution_count": 16,
     "metadata": {},
     "output_type": "execute_result"
    }
   ],
   "source": [
    "list(str2id.keys())\n"
   ]
  },
  {
   "cell_type": "code",
   "execution_count": 17,
   "metadata": {},
   "outputs": [
    {
     "data": {
      "text/plain": [
       "(18082, 9)"
      ]
     },
     "execution_count": 17,
     "metadata": {},
     "output_type": "execute_result"
    }
   ],
   "source": [
    "# Filter out those registers with value for either classes considered (output class: fire)\n",
    "columns = list(str2id.keys())\n",
    "fw_df = df[df[columns].sum(axis=1) > 0]\n",
    "fw_df.shape"
   ]
  },
  {
   "cell_type": "code",
   "execution_count": 18,
   "metadata": {},
   "outputs": [
    {
     "data": {
      "text/html": [
       "<div>\n",
       "<style scoped>\n",
       "    .dataframe tbody tr th:only-of-type {\n",
       "        vertical-align: middle;\n",
       "    }\n",
       "\n",
       "    .dataframe tbody tr th {\n",
       "        vertical-align: top;\n",
       "    }\n",
       "\n",
       "    .dataframe thead th {\n",
       "        text-align: right;\n",
       "    }\n",
       "</style>\n",
       "<table border=\"1\" class=\"dataframe\">\n",
       "  <thead>\n",
       "    <tr style=\"text-align: right;\">\n",
       "      <th></th>\n",
       "      <th># YTID</th>\n",
       "      <th>start_seconds</th>\n",
       "      <th>end_seconds</th>\n",
       "      <th>positive_labels</th>\n",
       "      <th>label</th>\n",
       "      <th>Fire</th>\n",
       "      <th>Wind</th>\n",
       "      <th>Water</th>\n",
       "      <th>Thunderstorm</th>\n",
       "    </tr>\n",
       "  </thead>\n",
       "  <tbody>\n",
       "    <tr>\n",
       "      <th>8</th>\n",
       "      <td>-0DdlOuIFUI</td>\n",
       "      <td>50.0</td>\n",
       "      <td>60.0</td>\n",
       "      <td>/m/0130jx,/m/02jz0l,/m/0838f</td>\n",
       "      <td>multi</td>\n",
       "      <td>0</td>\n",
       "      <td>0</td>\n",
       "      <td>1</td>\n",
       "      <td>0</td>\n",
       "    </tr>\n",
       "    <tr>\n",
       "      <th>38</th>\n",
       "      <td>-5GhUbDLYkQ</td>\n",
       "      <td>16.0</td>\n",
       "      <td>26.0</td>\n",
       "      <td>/m/0130jx,/m/02jz0l,/m/0838f</td>\n",
       "      <td>multi</td>\n",
       "      <td>0</td>\n",
       "      <td>0</td>\n",
       "      <td>1</td>\n",
       "      <td>0</td>\n",
       "    </tr>\n",
       "    <tr>\n",
       "      <th>71</th>\n",
       "      <td>-8_HpHg6nCw</td>\n",
       "      <td>30.0</td>\n",
       "      <td>40.0</td>\n",
       "      <td>/m/07ptzwd,/m/0838f</td>\n",
       "      <td>multi</td>\n",
       "      <td>0</td>\n",
       "      <td>0</td>\n",
       "      <td>1</td>\n",
       "      <td>0</td>\n",
       "    </tr>\n",
       "    <tr>\n",
       "      <th>76</th>\n",
       "      <td>-99daJhXYJY</td>\n",
       "      <td>30.0</td>\n",
       "      <td>40.0</td>\n",
       "      <td>/m/019jd,/m/02rlv9,/m/03m9d0z,/t/dd00092</td>\n",
       "      <td>multi</td>\n",
       "      <td>0</td>\n",
       "      <td>1</td>\n",
       "      <td>0</td>\n",
       "      <td>0</td>\n",
       "    </tr>\n",
       "    <tr>\n",
       "      <th>156</th>\n",
       "      <td>-JKLmqDk9p8</td>\n",
       "      <td>490.0</td>\n",
       "      <td>500.0</td>\n",
       "      <td>/m/06mb1,/m/07r10fb,/m/0jb2l,/m/0ngt1,/t/dd00038</td>\n",
       "      <td>multi</td>\n",
       "      <td>0</td>\n",
       "      <td>0</td>\n",
       "      <td>0</td>\n",
       "      <td>1</td>\n",
       "    </tr>\n",
       "  </tbody>\n",
       "</table>\n",
       "</div>"
      ],
      "text/plain": [
       "          # YTID  start_seconds  end_seconds  \\\n",
       "8    -0DdlOuIFUI           50.0         60.0   \n",
       "38   -5GhUbDLYkQ           16.0         26.0   \n",
       "71   -8_HpHg6nCw           30.0         40.0   \n",
       "76   -99daJhXYJY           30.0         40.0   \n",
       "156  -JKLmqDk9p8          490.0        500.0   \n",
       "\n",
       "                                      positive_labels  label  Fire  Wind  \\\n",
       "8                        /m/0130jx,/m/02jz0l,/m/0838f  multi     0     0   \n",
       "38                       /m/0130jx,/m/02jz0l,/m/0838f  multi     0     0   \n",
       "71                                /m/07ptzwd,/m/0838f  multi     0     0   \n",
       "76           /m/019jd,/m/02rlv9,/m/03m9d0z,/t/dd00092  multi     0     1   \n",
       "156  /m/06mb1,/m/07r10fb,/m/0jb2l,/m/0ngt1,/t/dd00038  multi     0     0   \n",
       "\n",
       "     Water  Thunderstorm  \n",
       "8        1             0  \n",
       "38       1             0  \n",
       "71       1             0  \n",
       "76       0             0  \n",
       "156      0             1  "
      ]
     },
     "execution_count": 18,
     "metadata": {},
     "output_type": "execute_result"
    }
   ],
   "source": [
    "fw_df.head()"
   ]
  },
  {
   "cell_type": "code",
   "execution_count": 19,
   "metadata": {},
   "outputs": [
    {
     "name": "stderr",
     "output_type": "stream",
     "text": [
      "/home/sramirez/.local/lib/python3.6/site-packages/ipykernel_launcher.py:2: SettingWithCopyWarning: \n",
      "A value is trying to be set on a copy of a slice from a DataFrame.\n",
      "Try using .loc[row_indexer,col_indexer] = value instead\n",
      "\n",
      "See the caveats in the documentation: http://pandas.pydata.org/pandas-docs/stable/indexing.html#indexing-view-versus-copy\n",
      "  \n"
     ]
    }
   ],
   "source": [
    "# Translate after selection\n",
    "fw_df['translated_labels'] = fw_df.positive_labels.map(lambda x: ','.join([id2str[y] for y in x.split(',') if y in id2str.keys()]))"
   ]
  },
  {
   "cell_type": "code",
   "execution_count": 20,
   "metadata": {},
   "outputs": [
    {
     "data": {
      "text/plain": [
       "Water                 8978\n",
       "Wind                  6388\n",
       "Thunderstorm          1233\n",
       "Fire                  1059\n",
       "Fire,Wind              381\n",
       "Wind,Thunderstorm       27\n",
       "Wind,Water               9\n",
       "Fire,Water               5\n",
       "Water,Thunderstorm       2\n",
       "Name: translated_labels, dtype: int64"
      ]
     },
     "execution_count": 20,
     "metadata": {},
     "output_type": "execute_result"
    }
   ],
   "source": [
    "fw_df.translated_labels.value_counts()"
   ]
  },
  {
   "cell_type": "code",
   "execution_count": 21,
   "metadata": {},
   "outputs": [
    {
     "data": {
      "text/html": [
       "<div>\n",
       "<style scoped>\n",
       "    .dataframe tbody tr th:only-of-type {\n",
       "        vertical-align: middle;\n",
       "    }\n",
       "\n",
       "    .dataframe tbody tr th {\n",
       "        vertical-align: top;\n",
       "    }\n",
       "\n",
       "    .dataframe thead th {\n",
       "        text-align: right;\n",
       "    }\n",
       "</style>\n",
       "<table border=\"1\" class=\"dataframe\">\n",
       "  <thead>\n",
       "    <tr style=\"text-align: right;\">\n",
       "      <th></th>\n",
       "      <th># YTID</th>\n",
       "      <th>start_seconds</th>\n",
       "      <th>end_seconds</th>\n",
       "      <th>positive_labels</th>\n",
       "      <th>label</th>\n",
       "      <th>Fire</th>\n",
       "      <th>Wind</th>\n",
       "      <th>Water</th>\n",
       "      <th>Thunderstorm</th>\n",
       "      <th>translated_labels</th>\n",
       "    </tr>\n",
       "  </thead>\n",
       "  <tbody>\n",
       "    <tr>\n",
       "      <th>22956</th>\n",
       "      <td>1009ux1xbkg</td>\n",
       "      <td>0.0</td>\n",
       "      <td>10.0</td>\n",
       "      <td>/m/02_41,/m/0838f</td>\n",
       "      <td>multi</td>\n",
       "      <td>1</td>\n",
       "      <td>0</td>\n",
       "      <td>1</td>\n",
       "      <td>0</td>\n",
       "      <td>Fire,Water</td>\n",
       "    </tr>\n",
       "    <tr>\n",
       "      <th>25249</th>\n",
       "      <td>7Zdx0YrzHVk</td>\n",
       "      <td>20.0</td>\n",
       "      <td>30.0</td>\n",
       "      <td>/m/02_41,/m/0838f</td>\n",
       "      <td>multi</td>\n",
       "      <td>1</td>\n",
       "      <td>0</td>\n",
       "      <td>1</td>\n",
       "      <td>0</td>\n",
       "      <td>Fire,Water</td>\n",
       "    </tr>\n",
       "    <tr>\n",
       "      <th>1226923</th>\n",
       "      <td>ToKqR2NHqwQ</td>\n",
       "      <td>200.0</td>\n",
       "      <td>210.0</td>\n",
       "      <td>/m/02_41,/m/0838f,/m/09x0r</td>\n",
       "      <td>multi</td>\n",
       "      <td>1</td>\n",
       "      <td>0</td>\n",
       "      <td>1</td>\n",
       "      <td>0</td>\n",
       "      <td>Fire,Water</td>\n",
       "    </tr>\n",
       "    <tr>\n",
       "      <th>1237531</th>\n",
       "      <td>UB7upK3ZBsA</td>\n",
       "      <td>30.0</td>\n",
       "      <td>40.0</td>\n",
       "      <td>/m/02_41,/m/07p9k1k,/m/0838f</td>\n",
       "      <td>multi</td>\n",
       "      <td>1</td>\n",
       "      <td>0</td>\n",
       "      <td>1</td>\n",
       "      <td>0</td>\n",
       "      <td>Fire,Water</td>\n",
       "    </tr>\n",
       "    <tr>\n",
       "      <th>1894207</th>\n",
       "      <td>s6dbv2C2N8M</td>\n",
       "      <td>30.0</td>\n",
       "      <td>40.0</td>\n",
       "      <td>/m/02_41,/m/0838f,/m/09x0r</td>\n",
       "      <td>multi</td>\n",
       "      <td>1</td>\n",
       "      <td>0</td>\n",
       "      <td>1</td>\n",
       "      <td>0</td>\n",
       "      <td>Fire,Water</td>\n",
       "    </tr>\n",
       "  </tbody>\n",
       "</table>\n",
       "</div>"
      ],
      "text/plain": [
       "              # YTID  start_seconds  end_seconds  \\\n",
       "22956    1009ux1xbkg            0.0         10.0   \n",
       "25249    7Zdx0YrzHVk           20.0         30.0   \n",
       "1226923  ToKqR2NHqwQ          200.0        210.0   \n",
       "1237531  UB7upK3ZBsA           30.0         40.0   \n",
       "1894207  s6dbv2C2N8M           30.0         40.0   \n",
       "\n",
       "                      positive_labels  label  Fire  Wind  Water  Thunderstorm  \\\n",
       "22956               /m/02_41,/m/0838f  multi     1     0      1             0   \n",
       "25249               /m/02_41,/m/0838f  multi     1     0      1             0   \n",
       "1226923    /m/02_41,/m/0838f,/m/09x0r  multi     1     0      1             0   \n",
       "1237531  /m/02_41,/m/07p9k1k,/m/0838f  multi     1     0      1             0   \n",
       "1894207    /m/02_41,/m/0838f,/m/09x0r  multi     1     0      1             0   \n",
       "\n",
       "        translated_labels  \n",
       "22956          Fire,Water  \n",
       "25249          Fire,Water  \n",
       "1226923        Fire,Water  \n",
       "1237531        Fire,Water  \n",
       "1894207        Fire,Water  "
      ]
     },
     "execution_count": 21,
     "metadata": {},
     "output_type": "execute_result"
    }
   ],
   "source": [
    "# Let's check an example for fire-water tuple\n",
    "fw_df[fw_df.translated_labels == 'Fire,Water']"
   ]
  },
  {
   "cell_type": "code",
   "execution_count": 22,
   "metadata": {},
   "outputs": [
    {
     "data": {
      "text/html": [
       "<div>\n",
       "<style scoped>\n",
       "    .dataframe tbody tr th:only-of-type {\n",
       "        vertical-align: middle;\n",
       "    }\n",
       "\n",
       "    .dataframe tbody tr th {\n",
       "        vertical-align: top;\n",
       "    }\n",
       "\n",
       "    .dataframe thead th {\n",
       "        text-align: right;\n",
       "    }\n",
       "</style>\n",
       "<table border=\"1\" class=\"dataframe\">\n",
       "  <thead>\n",
       "    <tr style=\"text-align: right;\">\n",
       "      <th></th>\n",
       "      <th># YTID</th>\n",
       "      <th>start_seconds</th>\n",
       "      <th>end_seconds</th>\n",
       "      <th>positive_labels</th>\n",
       "      <th>label</th>\n",
       "      <th>Fire</th>\n",
       "      <th>Wind</th>\n",
       "      <th>Water</th>\n",
       "      <th>Thunderstorm</th>\n",
       "      <th>translated_labels</th>\n",
       "    </tr>\n",
       "  </thead>\n",
       "  <tbody>\n",
       "    <tr>\n",
       "      <th>8</th>\n",
       "      <td>-0DdlOuIFUI</td>\n",
       "      <td>50.0</td>\n",
       "      <td>60.0</td>\n",
       "      <td>/m/0130jx,/m/02jz0l,/m/0838f</td>\n",
       "      <td>multi</td>\n",
       "      <td>0</td>\n",
       "      <td>0</td>\n",
       "      <td>1</td>\n",
       "      <td>0</td>\n",
       "      <td>Water</td>\n",
       "    </tr>\n",
       "    <tr>\n",
       "      <th>38</th>\n",
       "      <td>-5GhUbDLYkQ</td>\n",
       "      <td>16.0</td>\n",
       "      <td>26.0</td>\n",
       "      <td>/m/0130jx,/m/02jz0l,/m/0838f</td>\n",
       "      <td>multi</td>\n",
       "      <td>0</td>\n",
       "      <td>0</td>\n",
       "      <td>1</td>\n",
       "      <td>0</td>\n",
       "      <td>Water</td>\n",
       "    </tr>\n",
       "    <tr>\n",
       "      <th>71</th>\n",
       "      <td>-8_HpHg6nCw</td>\n",
       "      <td>30.0</td>\n",
       "      <td>40.0</td>\n",
       "      <td>/m/07ptzwd,/m/0838f</td>\n",
       "      <td>multi</td>\n",
       "      <td>0</td>\n",
       "      <td>0</td>\n",
       "      <td>1</td>\n",
       "      <td>0</td>\n",
       "      <td>Water</td>\n",
       "    </tr>\n",
       "    <tr>\n",
       "      <th>76</th>\n",
       "      <td>-99daJhXYJY</td>\n",
       "      <td>30.0</td>\n",
       "      <td>40.0</td>\n",
       "      <td>/m/019jd,/m/02rlv9,/m/03m9d0z,/t/dd00092</td>\n",
       "      <td>multi</td>\n",
       "      <td>0</td>\n",
       "      <td>1</td>\n",
       "      <td>0</td>\n",
       "      <td>0</td>\n",
       "      <td>Wind</td>\n",
       "    </tr>\n",
       "    <tr>\n",
       "      <th>156</th>\n",
       "      <td>-JKLmqDk9p8</td>\n",
       "      <td>490.0</td>\n",
       "      <td>500.0</td>\n",
       "      <td>/m/06mb1,/m/07r10fb,/m/0jb2l,/m/0ngt1,/t/dd00038</td>\n",
       "      <td>multi</td>\n",
       "      <td>0</td>\n",
       "      <td>0</td>\n",
       "      <td>0</td>\n",
       "      <td>1</td>\n",
       "      <td>Thunderstorm</td>\n",
       "    </tr>\n",
       "  </tbody>\n",
       "</table>\n",
       "</div>"
      ],
      "text/plain": [
       "          # YTID  start_seconds  end_seconds  \\\n",
       "8    -0DdlOuIFUI           50.0         60.0   \n",
       "38   -5GhUbDLYkQ           16.0         26.0   \n",
       "71   -8_HpHg6nCw           30.0         40.0   \n",
       "76   -99daJhXYJY           30.0         40.0   \n",
       "156  -JKLmqDk9p8          490.0        500.0   \n",
       "\n",
       "                                      positive_labels  label  Fire  Wind  \\\n",
       "8                        /m/0130jx,/m/02jz0l,/m/0838f  multi     0     0   \n",
       "38                       /m/0130jx,/m/02jz0l,/m/0838f  multi     0     0   \n",
       "71                                /m/07ptzwd,/m/0838f  multi     0     0   \n",
       "76           /m/019jd,/m/02rlv9,/m/03m9d0z,/t/dd00092  multi     0     1   \n",
       "156  /m/06mb1,/m/07r10fb,/m/0jb2l,/m/0ngt1,/t/dd00038  multi     0     0   \n",
       "\n",
       "     Water  Thunderstorm translated_labels  \n",
       "8        1             0             Water  \n",
       "38       1             0             Water  \n",
       "71       1             0             Water  \n",
       "76       0             0              Wind  \n",
       "156      0             1      Thunderstorm  "
      ]
     },
     "execution_count": 22,
     "metadata": {},
     "output_type": "execute_result"
    }
   ],
   "source": [
    "fw_df.head()"
   ]
  },
  {
   "cell_type": "code",
   "execution_count": 23,
   "metadata": {},
   "outputs": [
    {
     "data": {
      "text/plain": [
       "Wind                  1100\n",
       "Water                 1100\n",
       "Thunderstorm          1100\n",
       "Fire                  1059\n",
       "Fire,Wind              381\n",
       "Wind,Thunderstorm       27\n",
       "Wind,Water               9\n",
       "Fire,Water               5\n",
       "Water,Thunderstorm       2\n",
       "Name: translated_labels, dtype: int64"
      ]
     },
     "execution_count": 23,
     "metadata": {},
     "output_type": "execute_result"
    }
   ],
   "source": [
    "## Create subset with only around 1K from each type of sound, and all that mix several types.\n",
    "size = 1100        # sample size\n",
    "replace = False  # with replacement\n",
    "subset = fw_df.groupby('translated_labels').apply(lambda x: x.sample(min(size, x.shape[0]), replace = replace)).reset_index(drop=True)\n",
    "subset.translated_labels.value_counts()"
   ]
  },
  {
   "cell_type": "code",
   "execution_count": 24,
   "metadata": {},
   "outputs": [],
   "source": [
    "fw_df.to_csv('../data/interim/firewind_dataset_links.csv')\n",
    "fw_df.to_pickle('../data/interim/firewind_dataset_links.pickle')\n",
    "subset.to_pickle('../data/interim/stratified_dataset_links.pickle')\n",
    "subset.to_csv('../data/interim/stratified_dataset_links.csv')"
   ]
  },
  {
   "cell_type": "code",
   "execution_count": 25,
   "metadata": {},
   "outputs": [],
   "source": [
    "assert(fw_df[fw_df['# YTID'] == \"1icE61afXcY\"].start_seconds.values[0] == 270)"
   ]
  },
  {
   "cell_type": "markdown",
   "metadata": {
    "heading_collapsed": true
   },
   "source": [
    "## Download the 10 sec audio snippets for the filtered classes from youtube videos\n",
    "* Using ffmpeg to get the audio and extract the requried 10s clip\n",
    "* This part takes up lot of time as it involved downloading the entire video. Coudnt figure out a way to extract only the audio for a predefined time period. Any suggestions here would be very helpful"
   ]
  },
  {
   "cell_type": "code",
   "execution_count": 4,
   "metadata": {},
   "outputs": [],
   "source": [
    "meta_df = pd.read_pickle('../data/interim/stratified_dataset_links.pickle')\n",
    "clipsmeta = list(zip(meta_df['# YTID'].values, meta_df.start_seconds.values))"
   ]
  },
  {
   "cell_type": "code",
   "execution_count": 6,
   "metadata": {},
   "outputs": [
    {
     "data": {
      "text/plain": [
       "Index(['# YTID', 'start_seconds', 'end_seconds', 'positive_labels', 'label',\n",
       "       'Water', 'Thunderstorm', 'Wind', 'Fire', 'translated_labels'],\n",
       "      dtype='object')"
      ]
     },
     "execution_count": 6,
     "metadata": {},
     "output_type": "execute_result"
    }
   ],
   "source": [
    "meta_df.columns"
   ]
  },
  {
   "cell_type": "code",
   "execution_count": 8,
   "metadata": {},
   "outputs": [
    {
     "data": {
      "text/html": [
       "<div>\n",
       "<style>\n",
       "    .dataframe thead tr:only-child th {\n",
       "        text-align: right;\n",
       "    }\n",
       "\n",
       "    .dataframe thead th {\n",
       "        text-align: left;\n",
       "    }\n",
       "\n",
       "    .dataframe tbody tr th {\n",
       "        vertical-align: top;\n",
       "    }\n",
       "</style>\n",
       "<table border=\"1\" class=\"dataframe\">\n",
       "  <thead>\n",
       "    <tr style=\"text-align: right;\">\n",
       "      <th></th>\n",
       "      <th># YTID</th>\n",
       "      <th>start_seconds</th>\n",
       "      <th>end_seconds</th>\n",
       "      <th>positive_labels</th>\n",
       "      <th>label</th>\n",
       "      <th>Water</th>\n",
       "      <th>Thunderstorm</th>\n",
       "      <th>Wind</th>\n",
       "      <th>Fire</th>\n",
       "      <th>translated_labels</th>\n",
       "    </tr>\n",
       "  </thead>\n",
       "  <tbody>\n",
       "    <tr>\n",
       "      <th>0</th>\n",
       "      <td>90DSJfFfvio</td>\n",
       "      <td>200.0</td>\n",
       "      <td>210.0</td>\n",
       "      <td>/m/012f08,/m/012ndj,/m/02_41,/m/07r04,/m/07yv9</td>\n",
       "      <td>multi</td>\n",
       "      <td>0</td>\n",
       "      <td>0</td>\n",
       "      <td>0</td>\n",
       "      <td>1</td>\n",
       "      <td>Fire</td>\n",
       "    </tr>\n",
       "    <tr>\n",
       "      <th>1</th>\n",
       "      <td>2H1h6nizICI</td>\n",
       "      <td>20.0</td>\n",
       "      <td>30.0</td>\n",
       "      <td>/m/02_41,/m/07yv9</td>\n",
       "      <td>multi</td>\n",
       "      <td>0</td>\n",
       "      <td>0</td>\n",
       "      <td>0</td>\n",
       "      <td>1</td>\n",
       "      <td>Fire</td>\n",
       "    </tr>\n",
       "    <tr>\n",
       "      <th>2</th>\n",
       "      <td>6JF0IbMBFkQ</td>\n",
       "      <td>220.0</td>\n",
       "      <td>230.0</td>\n",
       "      <td>/m/02_41,/m/07yv9,/m/09x0r</td>\n",
       "      <td>multi</td>\n",
       "      <td>0</td>\n",
       "      <td>0</td>\n",
       "      <td>0</td>\n",
       "      <td>1</td>\n",
       "      <td>Fire</td>\n",
       "    </tr>\n",
       "    <tr>\n",
       "      <th>3</th>\n",
       "      <td>fn5gRQ87Ga0</td>\n",
       "      <td>100.0</td>\n",
       "      <td>110.0</td>\n",
       "      <td>/m/02_41,/m/09x0r</td>\n",
       "      <td>multi</td>\n",
       "      <td>0</td>\n",
       "      <td>0</td>\n",
       "      <td>0</td>\n",
       "      <td>1</td>\n",
       "      <td>Fire</td>\n",
       "    </tr>\n",
       "    <tr>\n",
       "      <th>4</th>\n",
       "      <td>1Emd2moPfRk</td>\n",
       "      <td>20.0</td>\n",
       "      <td>30.0</td>\n",
       "      <td>/m/02_41,/m/09x0r</td>\n",
       "      <td>multi</td>\n",
       "      <td>0</td>\n",
       "      <td>0</td>\n",
       "      <td>0</td>\n",
       "      <td>1</td>\n",
       "      <td>Fire</td>\n",
       "    </tr>\n",
       "  </tbody>\n",
       "</table>\n",
       "</div>"
      ],
      "text/plain": [
       "        # YTID  start_seconds  end_seconds  \\\n",
       "0  90DSJfFfvio          200.0        210.0   \n",
       "1  2H1h6nizICI           20.0         30.0   \n",
       "2  6JF0IbMBFkQ          220.0        230.0   \n",
       "3  fn5gRQ87Ga0          100.0        110.0   \n",
       "4  1Emd2moPfRk           20.0         30.0   \n",
       "\n",
       "                                  positive_labels  label  Water  Thunderstorm  \\\n",
       "0  /m/012f08,/m/012ndj,/m/02_41,/m/07r04,/m/07yv9  multi      0             0   \n",
       "1                               /m/02_41,/m/07yv9  multi      0             0   \n",
       "2                      /m/02_41,/m/07yv9,/m/09x0r  multi      0             0   \n",
       "3                               /m/02_41,/m/09x0r  multi      0             0   \n",
       "4                               /m/02_41,/m/09x0r  multi      0             0   \n",
       "\n",
       "   Wind  Fire translated_labels  \n",
       "0     0     1              Fire  \n",
       "1     0     1              Fire  \n",
       "2     0     1              Fire  \n",
       "3     0     1              Fire  \n",
       "4     0     1              Fire  "
      ]
     },
     "execution_count": 8,
     "metadata": {},
     "output_type": "execute_result"
    }
   ],
   "source": [
    "meta_df.head() # positive labels can include other beyond nature sounds"
   ]
  },
  {
   "cell_type": "code",
   "execution_count": 25,
   "metadata": {},
   "outputs": [
    {
     "data": {
      "text/html": [
       "<div>\n",
       "<style>\n",
       "    .dataframe thead tr:only-child th {\n",
       "        text-align: right;\n",
       "    }\n",
       "\n",
       "    .dataframe thead th {\n",
       "        text-align: left;\n",
       "    }\n",
       "\n",
       "    .dataframe tbody tr th {\n",
       "        vertical-align: top;\n",
       "    }\n",
       "</style>\n",
       "<table border=\"1\" class=\"dataframe\">\n",
       "  <thead>\n",
       "    <tr style=\"text-align: right;\">\n",
       "      <th></th>\n",
       "      <th>YTID</th>\n",
       "      <th>start_seconds</th>\n",
       "      <th>end_seconds</th>\n",
       "      <th>positive_labels</th>\n",
       "      <th>label</th>\n",
       "      <th>Water</th>\n",
       "      <th>Thunderstorm</th>\n",
       "      <th>Wind</th>\n",
       "      <th>Fire</th>\n",
       "      <th>translated_nature_labels</th>\n",
       "    </tr>\n",
       "  </thead>\n",
       "  <tbody>\n",
       "    <tr>\n",
       "      <th>0</th>\n",
       "      <td>90DSJfFfvio</td>\n",
       "      <td>200.0</td>\n",
       "      <td>210.0</td>\n",
       "      <td>/m/012f08,/m/012ndj,/m/02_41,/m/07r04,/m/07yv9</td>\n",
       "      <td>multi</td>\n",
       "      <td>0</td>\n",
       "      <td>0</td>\n",
       "      <td>0</td>\n",
       "      <td>1</td>\n",
       "      <td>Fire</td>\n",
       "    </tr>\n",
       "    <tr>\n",
       "      <th>1</th>\n",
       "      <td>2H1h6nizICI</td>\n",
       "      <td>20.0</td>\n",
       "      <td>30.0</td>\n",
       "      <td>/m/02_41,/m/07yv9</td>\n",
       "      <td>multi</td>\n",
       "      <td>0</td>\n",
       "      <td>0</td>\n",
       "      <td>0</td>\n",
       "      <td>1</td>\n",
       "      <td>Fire</td>\n",
       "    </tr>\n",
       "    <tr>\n",
       "      <th>2</th>\n",
       "      <td>6JF0IbMBFkQ</td>\n",
       "      <td>220.0</td>\n",
       "      <td>230.0</td>\n",
       "      <td>/m/02_41,/m/07yv9,/m/09x0r</td>\n",
       "      <td>multi</td>\n",
       "      <td>0</td>\n",
       "      <td>0</td>\n",
       "      <td>0</td>\n",
       "      <td>1</td>\n",
       "      <td>Fire</td>\n",
       "    </tr>\n",
       "    <tr>\n",
       "      <th>3</th>\n",
       "      <td>fn5gRQ87Ga0</td>\n",
       "      <td>100.0</td>\n",
       "      <td>110.0</td>\n",
       "      <td>/m/02_41,/m/09x0r</td>\n",
       "      <td>multi</td>\n",
       "      <td>0</td>\n",
       "      <td>0</td>\n",
       "      <td>0</td>\n",
       "      <td>1</td>\n",
       "      <td>Fire</td>\n",
       "    </tr>\n",
       "    <tr>\n",
       "      <th>4</th>\n",
       "      <td>1Emd2moPfRk</td>\n",
       "      <td>20.0</td>\n",
       "      <td>30.0</td>\n",
       "      <td>/m/02_41,/m/09x0r</td>\n",
       "      <td>multi</td>\n",
       "      <td>0</td>\n",
       "      <td>0</td>\n",
       "      <td>0</td>\n",
       "      <td>1</td>\n",
       "      <td>Fire</td>\n",
       "    </tr>\n",
       "  </tbody>\n",
       "</table>\n",
       "</div>"
      ],
      "text/plain": [
       "          YTID  start_seconds  end_seconds  \\\n",
       "0  90DSJfFfvio          200.0        210.0   \n",
       "1  2H1h6nizICI           20.0         30.0   \n",
       "2  6JF0IbMBFkQ          220.0        230.0   \n",
       "3  fn5gRQ87Ga0          100.0        110.0   \n",
       "4  1Emd2moPfRk           20.0         30.0   \n",
       "\n",
       "                                  positive_labels  label  Water  Thunderstorm  \\\n",
       "0  /m/012f08,/m/012ndj,/m/02_41,/m/07r04,/m/07yv9  multi      0             0   \n",
       "1                               /m/02_41,/m/07yv9  multi      0             0   \n",
       "2                      /m/02_41,/m/07yv9,/m/09x0r  multi      0             0   \n",
       "3                               /m/02_41,/m/09x0r  multi      0             0   \n",
       "4                               /m/02_41,/m/09x0r  multi      0             0   \n",
       "\n",
       "   Wind  Fire translated_nature_labels  \n",
       "0     0     1                     Fire  \n",
       "1     0     1                     Fire  \n",
       "2     0     1                     Fire  \n",
       "3     0     1                     Fire  \n",
       "4     0     1                     Fire  "
      ]
     },
     "execution_count": 25,
     "metadata": {},
     "output_type": "execute_result"
    }
   ],
   "source": [
    "meta_df.columns = ['YTID', 'start_seconds', 'end_seconds', 'positive_labels', 'label',\n",
    "       'Water', 'Thunderstorm', 'Wind', 'Fire', 'translated_nature_labels']\n",
    "meta_df.head()"
   ]
  },
  {
   "cell_type": "code",
   "execution_count": 101,
   "metadata": {},
   "outputs": [
    {
     "data": {
      "text/plain": [
       "4783"
      ]
     },
     "execution_count": 101,
     "metadata": {},
     "output_type": "execute_result"
    }
   ],
   "source": [
    "len(clipsmeta)"
   ]
  },
  {
   "cell_type": "code",
   "execution_count": 102,
   "metadata": {
    "hidden": true
   },
   "outputs": [],
   "source": [
    "processed_path = '../data/processed/'\n",
    "os.chdir(processed_path)"
   ]
  },
  {
   "cell_type": "code",
   "execution_count": 103,
   "metadata": {},
   "outputs": [
    {
     "name": "stdout",
     "output_type": "stream",
     "text": [
      "/home/sramirez/git/FeuerFreiKiller/data/processed\n"
     ]
    }
   ],
   "source": [
    "!pwd"
   ]
  },
  {
   "cell_type": "code",
   "execution_count": 107,
   "metadata": {
    "hidden": true,
    "scrolled": true
   },
   "outputs": [],
   "source": [
    "def download_audioset(metadata):\n",
    "    i, start = metadata\n",
    "    dur = 10\n",
    "    #print(i, start, dur)\n",
    "    ydl_opts = {'format': 'bestaudio/best',\n",
    "                'outtmpl': './{}'.format(i+ '.mp4'),\n",
    "                'postprocessors': [{'key': 'FFmpegExtractAudio','preferredcodec': 'wav','preferredquality': '192'}],\n",
    "                'prefer_ffmpeg': True,\n",
    "                'keepvideo': True,\n",
    "                'info_dict': {'start_time': start,\n",
    "                'end_time': start + dur}}\n",
    "    try:\n",
    "        with youtube_dl.YoutubeDL(ydl_opts) as ydl:\n",
    "            #ydl.download(['http://www.youtube.com/watch?v={}'.format(i)]);\n",
    "            url = 'http://www.youtube.com/watch?v={}'.format(i)\n",
    "            #command = \"ffmpeg -k -ss {} -t {} -i ./{}.wav ./{}.wav\".format(start, dur, i,i+'_seg')\n",
    "            command = \"./ffmpeg -ss {} -i $(youtube-dl -f mp4 --get-url {}) -t {} -vn -c:v copy -c:a copy {}.aac\".format(int(start), url, dur, i)\n",
    "            print(command)\n",
    "            subprocess.call(command, shell=True)\n",
    "            #os.remove('./{}.wav'.format(i))\n",
    "            #os.rename('./{}_seg.wav'.format(i),'./{}.wav'.format(i))\n",
    "    except:\n",
    "        print('Video not available{}'.format(i))"
   ]
  },
  {
   "cell_type": "code",
   "execution_count": null,
   "metadata": {
    "hidden": true
   },
   "outputs": [],
   "source": [
    "import multiprocessing as mp\n",
    "mp.cpu_count()\n",
    "\n",
    "with mp.Pool(8) as pool:\n",
    "    list(tqdm.tqdm(pool.imap(download_audioset, clipsmeta), total=len(clipsmeta)))"
   ]
  },
  {
   "cell_type": "code",
   "execution_count": 133,
   "metadata": {
    "hidden": true
   },
   "outputs": [
    {
     "name": "stdout",
     "output_type": "stream",
     "text": [
      "4396 4783\n"
     ]
    }
   ],
   "source": [
    "# some clips will be missing due to unavailability of video\n",
    "print(len(os.listdir('./')), len(clipsmeta))"
   ]
  },
  {
   "cell_type": "code",
   "execution_count": 76,
   "metadata": {},
   "outputs": [
    {
     "data": {
      "text/plain": [
       "389"
      ]
     },
     "execution_count": 76,
     "metadata": {},
     "output_type": "execute_result"
    }
   ],
   "source": [
    "# Let's see what is the most affected class\n",
    "\n",
    "files = os.listdir('../data/processed/')\n",
    "result = map(lambda x: x.split('.')[0], files)\n",
    "saved_id = list(result)\n",
    "not_present = set(meta_df.YTID).difference(set(saved_id))\n",
    "len(not_present)"
   ]
  },
  {
   "cell_type": "code",
   "execution_count": 77,
   "metadata": {},
   "outputs": [
    {
     "data": {
      "text/plain": [
       "Water           126\n",
       "Thunderstorm     92\n",
       "Fire             85\n",
       "Wind             60\n",
       "Fire,Wind        25\n",
       "Wind,Water        1\n",
       "Name: translated_nature_labels, dtype: int64"
      ]
     },
     "execution_count": 77,
     "metadata": {},
     "output_type": "execute_result"
    }
   ],
   "source": [
    "meta_df[meta_df.YTID.isin(not_present)].translated_nature_labels.value_counts()"
   ]
  }
 ],
 "metadata": {
  "kernelspec": {
   "display_name": "Python 3",
   "language": "python",
   "name": "python3"
  },
  "language_info": {
   "codemirror_mode": {
    "name": "ipython",
    "version": 3
   },
   "file_extension": ".py",
   "mimetype": "text/x-python",
   "name": "python",
   "nbconvert_exporter": "python",
   "pygments_lexer": "ipython3",
   "version": "3.6.8"
  },
  "varInspector": {
   "cols": {
    "lenName": 16,
    "lenType": 16,
    "lenVar": 40
   },
   "kernels_config": {
    "python": {
     "delete_cmd_postfix": "",
     "delete_cmd_prefix": "del ",
     "library": "var_list.py",
     "varRefreshCmd": "print(var_dic_list())"
    },
    "r": {
     "delete_cmd_postfix": ") ",
     "delete_cmd_prefix": "rm(",
     "library": "var_list.r",
     "varRefreshCmd": "cat(var_dic_list()) "
    }
   },
   "types_to_exclude": [
    "module",
    "function",
    "builtin_function_or_method",
    "instance",
    "_Feature"
   ],
   "window_display": false
  }
 },
 "nbformat": 4,
 "nbformat_minor": 2
}
