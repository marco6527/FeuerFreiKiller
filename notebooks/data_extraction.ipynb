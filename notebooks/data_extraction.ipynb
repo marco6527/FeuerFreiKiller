{
 "cells": [
  {
   "cell_type": "markdown",
   "metadata": {
    "heading_collapsed": true
   },
   "source": [
    "## Getting audio clips of required classes from google audioset data #### \n",
    "https://research.google.com/audioset/dataset/index.html\n",
    "* Since the dataset is too huge, shortlisted a few classes to work on\n",
    "    * Natural sounds: Fire vs Wind/Water/Storm.\n",
    "* To get maximum data for the above classes, have used all the data available from the audioset data\n",
    "    * Refer https://research.google.com/audioset//download.html#split for more details\n",
    "    * ID to Class mapping is available in this link - https://github.com/audioset/ontology/blob/master/ontology.json"
   ]
  },
  {
   "cell_type": "code",
   "execution_count": 6,
   "metadata": {
    "hidden": true
   },
   "outputs": [],
   "source": [
    "import os\n",
    "import subprocess\n",
    "import youtube_dl\n",
    "import pandas as pd\n",
    "import glob"
   ]
  },
  {
   "cell_type": "code",
   "execution_count": 13,
   "metadata": {},
   "outputs": [
    {
     "name": "stdout",
     "output_type": "stream",
     "text": [
      "/home/sramirez/git/FeuerFreiKiller/data/external\n"
     ]
    }
   ],
   "source": [
    "!pwd"
   ]
  },
  {
   "cell_type": "code",
   "execution_count": 18,
   "metadata": {},
   "outputs": [],
   "source": [
    "os.chdir('/home/sramirez/git/FeuerFreiKiller/notebooks/')"
   ]
  },
  {
   "cell_type": "code",
   "execution_count": 21,
   "metadata": {},
   "outputs": [
    {
     "name": "stdout",
     "output_type": "stream",
     "text": [
      "--2019-08-12 13:53:31--  http://storage.googleapis.com/us_audioset/youtube_corpus/v1/csv/unbalanced_train_segments.csv\n",
      "Resolving storage.googleapis.com (storage.googleapis.com)... 172.217.168.176, 2a00:1450:4003:809::2010\n",
      "Connecting to storage.googleapis.com (storage.googleapis.com)|172.217.168.176|:80... connected.\n",
      "HTTP request sent, awaiting response... 200 OK\n",
      "Length: 101468408 (97M) [application/octet-stream]\n",
      "Saving to: ‘../data/external/unbalanced_data.csv’\n",
      "\n",
      "../data/external/un 100%[===================>]  96,77M  1015KB/s    in 95s     \n",
      "\n",
      "2019-08-12 13:55:07 (1,01 MB/s) - ‘../data/external/unbalanced_data.csv’ saved [101468408/101468408]\n",
      "\n"
     ]
    }
   ],
   "source": [
    "!wget http://storage.googleapis.com/us_audioset/youtube_corpus/v1/csv/unbalanced_train_segments.csv -O '../data/external/unbalanced_data.csv'"
   ]
  },
  {
   "cell_type": "code",
   "execution_count": 19,
   "metadata": {},
   "outputs": [
    {
     "name": "stdout",
     "output_type": "stream",
     "text": [
      "--2019-08-12 13:53:14--  http://storage.googleapis.com/us_audioset/youtube_corpus/v1/csv/balanced_train_segments.csv\n",
      "Resolving storage.googleapis.com (storage.googleapis.com)... 172.217.168.176, 2a00:1450:4003:809::2010\n",
      "Connecting to storage.googleapis.com (storage.googleapis.com)|172.217.168.176|:80... connected.\n",
      "HTTP request sent, awaiting response... 200 OK\n",
      "Length: 1211931 (1,2M) [application/octet-stream]\n",
      "Saving to: ‘../data/external/balanced_train_data.csv’\n",
      "\n",
      "../data/external/ba 100%[===================>]   1,16M  2,85MB/s    in 0,4s    \n",
      "\n",
      "2019-08-12 13:53:15 (2,85 MB/s) - ‘../data/external/balanced_train_data.csv’ saved [1211931/1211931]\n",
      "\n"
     ]
    }
   ],
   "source": [
    "!wget http://storage.googleapis.com/us_audioset/youtube_corpus/v1/csv/balanced_train_segments.csv -O '../data/external/balanced_train_data.csv'"
   ]
  },
  {
   "cell_type": "code",
   "execution_count": 20,
   "metadata": {},
   "outputs": [
    {
     "name": "stdout",
     "output_type": "stream",
     "text": [
      "--2019-08-12 13:53:26--  http://storage.googleapis.com/us_audioset/youtube_corpus/v1/csv/eval_segments.csv\n",
      "Resolving storage.googleapis.com (storage.googleapis.com)... 172.217.168.176, 2a00:1450:4003:809::2010\n",
      "Connecting to storage.googleapis.com (storage.googleapis.com)|172.217.168.176|:80... connected.\n",
      "HTTP request sent, awaiting response... 200 OK\n",
      "Length: 1143389 (1,1M) [application/octet-stream]\n",
      "Saving to: ‘../data/external/eval_data.csv’\n",
      "\n",
      "../data/external/ev 100%[===================>]   1,09M  3,74MB/s    in 0,3s    \n",
      "\n",
      "2019-08-12 13:53:27 (3,74 MB/s) - ‘../data/external/eval_data.csv’ saved [1143389/1143389]\n",
      "\n"
     ]
    }
   ],
   "source": [
    "!wget http://storage.googleapis.com/us_audioset/youtube_corpus/v1/csv/eval_segments.csv -O '../data/external/eval_data.csv'"
   ]
  },
  {
   "cell_type": "markdown",
   "metadata": {
    "heading_collapsed": true
   },
   "source": [
    "## Merging the csv annotation files - Eval, Balanced and Unbalanced to get maximum data"
   ]
  },
  {
   "cell_type": "code",
   "execution_count": 22,
   "metadata": {
    "hidden": true
   },
   "outputs": [],
   "source": [
    "#os.chdir('../data/external/')"
   ]
  },
  {
   "cell_type": "code",
   "execution_count": 31,
   "metadata": {},
   "outputs": [
    {
     "name": "stdout",
     "output_type": "stream",
     "text": [
      "../data/external/balanced_train_data.csv\n",
      "../data/external/eval_data.csv\n",
      "../data/external/unbalanced_data.csv\n"
     ]
    }
   ],
   "source": [
    "path = '../data/external/'\n",
    "all_files = glob.glob(path + \"/*.csv\")\n",
    "li = []\n",
    "\n",
    "for filename in all_files:\n",
    "    print(filename)\n",
    "    df = pd.read_csv(filename, skiprows=2, quotechar='\"', engine='python', skipinitialspace=True)\n",
    "    li.append(df)\n",
    "\n",
    "df = pd.concat(li, axis=0, ignore_index=True)"
   ]
  },
  {
   "cell_type": "code",
   "execution_count": 36,
   "metadata": {},
   "outputs": [
    {
     "data": {
      "text/plain": [
       "((2084320, 4), 2085544)"
      ]
     },
     "execution_count": 36,
     "metadata": {},
     "output_type": "execute_result"
    }
   ],
   "source": [
    "df.shape,  2042985 + 22176 + 20383"
   ]
  },
  {
   "cell_type": "code",
   "execution_count": 37,
   "metadata": {},
   "outputs": [
    {
     "data": {
      "text/html": [
       "<div>\n",
       "<style scoped>\n",
       "    .dataframe tbody tr th:only-of-type {\n",
       "        vertical-align: middle;\n",
       "    }\n",
       "\n",
       "    .dataframe tbody tr th {\n",
       "        vertical-align: top;\n",
       "    }\n",
       "\n",
       "    .dataframe thead th {\n",
       "        text-align: right;\n",
       "    }\n",
       "</style>\n",
       "<table border=\"1\" class=\"dataframe\">\n",
       "  <thead>\n",
       "    <tr style=\"text-align: right;\">\n",
       "      <th></th>\n",
       "      <th># YTID</th>\n",
       "      <th>start_seconds</th>\n",
       "      <th>end_seconds</th>\n",
       "      <th>positive_labels</th>\n",
       "    </tr>\n",
       "  </thead>\n",
       "  <tbody>\n",
       "    <tr>\n",
       "      <th>0</th>\n",
       "      <td>--PJHxphWEs</td>\n",
       "      <td>30.0</td>\n",
       "      <td>40.0</td>\n",
       "      <td>/m/09x0r,/t/dd00088</td>\n",
       "    </tr>\n",
       "    <tr>\n",
       "      <th>1</th>\n",
       "      <td>--ZhevVpy1s</td>\n",
       "      <td>50.0</td>\n",
       "      <td>60.0</td>\n",
       "      <td>/m/012xff</td>\n",
       "    </tr>\n",
       "    <tr>\n",
       "      <th>2</th>\n",
       "      <td>--aE2O5G5WE</td>\n",
       "      <td>0.0</td>\n",
       "      <td>10.0</td>\n",
       "      <td>/m/03fwl,/m/04rlf,/m/09x0r</td>\n",
       "    </tr>\n",
       "    <tr>\n",
       "      <th>3</th>\n",
       "      <td>--aO5cdqSAg</td>\n",
       "      <td>30.0</td>\n",
       "      <td>40.0</td>\n",
       "      <td>/t/dd00003,/t/dd00005</td>\n",
       "    </tr>\n",
       "    <tr>\n",
       "      <th>4</th>\n",
       "      <td>--aaILOrkII</td>\n",
       "      <td>200.0</td>\n",
       "      <td>210.0</td>\n",
       "      <td>/m/032s66,/m/073cg4</td>\n",
       "    </tr>\n",
       "  </tbody>\n",
       "</table>\n",
       "</div>"
      ],
      "text/plain": [
       "        # YTID  start_seconds  end_seconds             positive_labels\n",
       "0  --PJHxphWEs           30.0         40.0         /m/09x0r,/t/dd00088\n",
       "1  --ZhevVpy1s           50.0         60.0                   /m/012xff\n",
       "2  --aE2O5G5WE            0.0         10.0  /m/03fwl,/m/04rlf,/m/09x0r\n",
       "3  --aO5cdqSAg           30.0         40.0       /t/dd00003,/t/dd00005\n",
       "4  --aaILOrkII          200.0        210.0         /m/032s66,/m/073cg4"
      ]
     },
     "execution_count": 37,
     "metadata": {},
     "output_type": "execute_result"
    }
   ],
   "source": [
    "df.head()"
   ]
  },
  {
   "cell_type": "code",
   "execution_count": 40,
   "metadata": {},
   "outputs": [
    {
     "data": {
      "text/plain": [
       "0"
      ]
     },
     "execution_count": 40,
     "metadata": {},
     "output_type": "execute_result"
    }
   ],
   "source": [
    "df.duplicated().sum()"
   ]
  },
  {
   "cell_type": "code",
   "execution_count": 34,
   "metadata": {},
   "outputs": [
    {
     "data": {
      "text/plain": [
       "False"
      ]
     },
     "execution_count": 34,
     "metadata": {},
     "output_type": "execute_result"
    }
   ],
   "source": [
    "df.shape[0] == 2042985 + 22176 + 20383"
   ]
  },
  {
   "cell_type": "code",
   "execution_count": 41,
   "metadata": {
    "hidden": true
   },
   "outputs": [
    {
     "name": "stdout",
     "output_type": "stream",
     "text": [
      "multi     1183535\n",
      "single     900785\n",
      "Name: label, dtype: int64\n"
     ]
    }
   ],
   "source": [
    "df['label'] = df.positive_labels.map(lambda x: 'single' if len(x.split(',')) == 1 else 'multi')\n",
    "print(df.label.value_counts())"
   ]
  },
  {
   "cell_type": "markdown",
   "metadata": {
    "heading_collapsed": true
   },
   "source": [
    "## Filtering clips with required classes"
   ]
  },
  {
   "cell_type": "code",
   "execution_count": 109,
   "metadata": {
    "hidden": true
   },
   "outputs": [],
   "source": [
    "# Use the corressponding ids based for the classes as available in json file mentioned at the start \n",
    "str2id = {'Fire': '/m/02_41', 'Wind': '/m/03m9d0z', 'Water': '/m/0838f', 'Thunderstorm': '/m/0jb2l'}\n",
    "id2str = {v: k for k, v in str2id.items()}\n",
    "\n",
    "for k in str2id.keys():\n",
    "    df[k] = df.positive_labels.map(lambda x: 1 if (str2id[k] in x.split(',')) else 0)"
   ]
  },
  {
   "cell_type": "code",
   "execution_count": 110,
   "metadata": {},
   "outputs": [
    {
     "name": "stdout",
     "output_type": "stream",
     "text": [
      "Category: Fire, # of elements: 1445\n",
      "Category: Wind, # of elements: 6805\n",
      "Category: Water, # of elements: 8994\n",
      "Category: Thunderstorm, # of elements: 1262\n"
     ]
    }
   ],
   "source": [
    "for k in str2id.keys():\n",
    "    print('Category: {}, # of elements: {}'.format(k, df[k].sum()))\n",
    "    "
   ]
  },
  {
   "cell_type": "code",
   "execution_count": 111,
   "metadata": {},
   "outputs": [
    {
     "data": {
      "text/plain": [
       "(18082, 10)"
      ]
     },
     "execution_count": 111,
     "metadata": {},
     "output_type": "execute_result"
    }
   ],
   "source": [
    "# Filter out those registers with value for either classes considered (output class: fire)\n",
    "fw_df = df[df[str2id.keys()].sum(axis=1) > 0]\n",
    "fw_df.shape"
   ]
  },
  {
   "cell_type": "code",
   "execution_count": 114,
   "metadata": {},
   "outputs": [
    {
     "name": "stderr",
     "output_type": "stream",
     "text": [
      "/home/sramirez/.local/lib/python3.6/site-packages/ipykernel_launcher.py:2: UserWarning: Pandas doesn't allow columns to be created via a new attribute name - see https://pandas.pydata.org/pandas-docs/stable/indexing.html#attribute-access\n",
      "  \n"
     ]
    }
   ],
   "source": [
    "# Translate after selection\n",
    "fw_df.translated_labels = fw_df.positive_labels.map(lambda x: ','.join([id2str[y] for y in x.split(',') if y in id2str.keys()]))"
   ]
  },
  {
   "cell_type": "code",
   "execution_count": 115,
   "metadata": {},
   "outputs": [
    {
     "data": {
      "text/plain": [
       "Water                 8978\n",
       "Wind                  6388\n",
       "Thunderstorm          1233\n",
       "Fire                  1059\n",
       "Fire,Wind              381\n",
       "Wind,Thunderstorm       27\n",
       "Wind,Water               9\n",
       "Fire,Water               5\n",
       "Water,Thunderstorm       2\n",
       "Name: positive_labels, dtype: int64"
      ]
     },
     "execution_count": 115,
     "metadata": {},
     "output_type": "execute_result"
    }
   ],
   "source": [
    "fw_df.translated_labels.value_counts()"
   ]
  },
  {
   "cell_type": "code",
   "execution_count": 124,
   "metadata": {},
   "outputs": [
    {
     "data": {
      "text/html": [
       "<div>\n",
       "<style scoped>\n",
       "    .dataframe tbody tr th:only-of-type {\n",
       "        vertical-align: middle;\n",
       "    }\n",
       "\n",
       "    .dataframe tbody tr th {\n",
       "        vertical-align: top;\n",
       "    }\n",
       "\n",
       "    .dataframe thead th {\n",
       "        text-align: right;\n",
       "    }\n",
       "</style>\n",
       "<table border=\"1\" class=\"dataframe\">\n",
       "  <thead>\n",
       "    <tr style=\"text-align: right;\">\n",
       "      <th></th>\n",
       "      <th># YTID</th>\n",
       "      <th>start_seconds</th>\n",
       "      <th>end_seconds</th>\n",
       "      <th>positive_labels</th>\n",
       "      <th>label</th>\n",
       "      <th>Fire</th>\n",
       "      <th>Wind</th>\n",
       "      <th>Water</th>\n",
       "      <th>Thunderstorm</th>\n",
       "      <th>Thunder</th>\n",
       "    </tr>\n",
       "  </thead>\n",
       "  <tbody>\n",
       "    <tr>\n",
       "      <th>22956</th>\n",
       "      <td>1009ux1xbkg</td>\n",
       "      <td>0.0</td>\n",
       "      <td>10.0</td>\n",
       "      <td>/m/02_41,/m/0838f</td>\n",
       "      <td>multi</td>\n",
       "      <td>1</td>\n",
       "      <td>0</td>\n",
       "      <td>1</td>\n",
       "      <td>0</td>\n",
       "      <td>0</td>\n",
       "    </tr>\n",
       "    <tr>\n",
       "      <th>25249</th>\n",
       "      <td>7Zdx0YrzHVk</td>\n",
       "      <td>20.0</td>\n",
       "      <td>30.0</td>\n",
       "      <td>/m/02_41,/m/0838f</td>\n",
       "      <td>multi</td>\n",
       "      <td>1</td>\n",
       "      <td>0</td>\n",
       "      <td>1</td>\n",
       "      <td>0</td>\n",
       "      <td>0</td>\n",
       "    </tr>\n",
       "    <tr>\n",
       "      <th>1226923</th>\n",
       "      <td>ToKqR2NHqwQ</td>\n",
       "      <td>200.0</td>\n",
       "      <td>210.0</td>\n",
       "      <td>/m/02_41,/m/0838f,/m/09x0r</td>\n",
       "      <td>multi</td>\n",
       "      <td>1</td>\n",
       "      <td>0</td>\n",
       "      <td>1</td>\n",
       "      <td>0</td>\n",
       "      <td>0</td>\n",
       "    </tr>\n",
       "    <tr>\n",
       "      <th>1237531</th>\n",
       "      <td>UB7upK3ZBsA</td>\n",
       "      <td>30.0</td>\n",
       "      <td>40.0</td>\n",
       "      <td>/m/02_41,/m/07p9k1k,/m/0838f</td>\n",
       "      <td>multi</td>\n",
       "      <td>1</td>\n",
       "      <td>0</td>\n",
       "      <td>1</td>\n",
       "      <td>0</td>\n",
       "      <td>0</td>\n",
       "    </tr>\n",
       "    <tr>\n",
       "      <th>1894207</th>\n",
       "      <td>s6dbv2C2N8M</td>\n",
       "      <td>30.0</td>\n",
       "      <td>40.0</td>\n",
       "      <td>/m/02_41,/m/0838f,/m/09x0r</td>\n",
       "      <td>multi</td>\n",
       "      <td>1</td>\n",
       "      <td>0</td>\n",
       "      <td>1</td>\n",
       "      <td>0</td>\n",
       "      <td>0</td>\n",
       "    </tr>\n",
       "  </tbody>\n",
       "</table>\n",
       "</div>"
      ],
      "text/plain": [
       "              # YTID  start_seconds  end_seconds  \\\n",
       "22956    1009ux1xbkg            0.0         10.0   \n",
       "25249    7Zdx0YrzHVk           20.0         30.0   \n",
       "1226923  ToKqR2NHqwQ          200.0        210.0   \n",
       "1237531  UB7upK3ZBsA           30.0         40.0   \n",
       "1894207  s6dbv2C2N8M           30.0         40.0   \n",
       "\n",
       "                      positive_labels  label  Fire  Wind  Water  Thunderstorm  \\\n",
       "22956               /m/02_41,/m/0838f  multi     1     0      1             0   \n",
       "25249               /m/02_41,/m/0838f  multi     1     0      1             0   \n",
       "1226923    /m/02_41,/m/0838f,/m/09x0r  multi     1     0      1             0   \n",
       "1237531  /m/02_41,/m/07p9k1k,/m/0838f  multi     1     0      1             0   \n",
       "1894207    /m/02_41,/m/0838f,/m/09x0r  multi     1     0      1             0   \n",
       "\n",
       "         Thunder  \n",
       "22956          0  \n",
       "25249          0  \n",
       "1226923        0  \n",
       "1237531        0  \n",
       "1894207        0  "
      ]
     },
     "execution_count": 124,
     "metadata": {},
     "output_type": "execute_result"
    }
   ],
   "source": [
    "# Let's check an example for fire-water tuple\n",
    "\n",
    "fw_df[fw_df.translated_labels == 'Fire,Water']\n"
   ]
  },
  {
   "cell_type": "code",
   "execution_count": 118,
   "metadata": {},
   "outputs": [
    {
     "data": {
      "text/html": [
       "<div>\n",
       "<style scoped>\n",
       "    .dataframe tbody tr th:only-of-type {\n",
       "        vertical-align: middle;\n",
       "    }\n",
       "\n",
       "    .dataframe tbody tr th {\n",
       "        vertical-align: top;\n",
       "    }\n",
       "\n",
       "    .dataframe thead th {\n",
       "        text-align: right;\n",
       "    }\n",
       "</style>\n",
       "<table border=\"1\" class=\"dataframe\">\n",
       "  <thead>\n",
       "    <tr style=\"text-align: right;\">\n",
       "      <th></th>\n",
       "      <th># YTID</th>\n",
       "      <th>start_seconds</th>\n",
       "      <th>end_seconds</th>\n",
       "      <th>positive_labels</th>\n",
       "      <th>label</th>\n",
       "      <th>Fire</th>\n",
       "      <th>Wind</th>\n",
       "      <th>Water</th>\n",
       "      <th>Thunderstorm</th>\n",
       "      <th>Thunder</th>\n",
       "    </tr>\n",
       "  </thead>\n",
       "  <tbody>\n",
       "    <tr>\n",
       "      <th>8</th>\n",
       "      <td>-0DdlOuIFUI</td>\n",
       "      <td>50.0</td>\n",
       "      <td>60.0</td>\n",
       "      <td>/m/0130jx,/m/02jz0l,/m/0838f</td>\n",
       "      <td>multi</td>\n",
       "      <td>0</td>\n",
       "      <td>0</td>\n",
       "      <td>1</td>\n",
       "      <td>0</td>\n",
       "      <td>0</td>\n",
       "    </tr>\n",
       "    <tr>\n",
       "      <th>38</th>\n",
       "      <td>-5GhUbDLYkQ</td>\n",
       "      <td>16.0</td>\n",
       "      <td>26.0</td>\n",
       "      <td>/m/0130jx,/m/02jz0l,/m/0838f</td>\n",
       "      <td>multi</td>\n",
       "      <td>0</td>\n",
       "      <td>0</td>\n",
       "      <td>1</td>\n",
       "      <td>0</td>\n",
       "      <td>0</td>\n",
       "    </tr>\n",
       "    <tr>\n",
       "      <th>71</th>\n",
       "      <td>-8_HpHg6nCw</td>\n",
       "      <td>30.0</td>\n",
       "      <td>40.0</td>\n",
       "      <td>/m/07ptzwd,/m/0838f</td>\n",
       "      <td>multi</td>\n",
       "      <td>0</td>\n",
       "      <td>0</td>\n",
       "      <td>1</td>\n",
       "      <td>0</td>\n",
       "      <td>0</td>\n",
       "    </tr>\n",
       "    <tr>\n",
       "      <th>76</th>\n",
       "      <td>-99daJhXYJY</td>\n",
       "      <td>30.0</td>\n",
       "      <td>40.0</td>\n",
       "      <td>/m/019jd,/m/02rlv9,/m/03m9d0z,/t/dd00092</td>\n",
       "      <td>multi</td>\n",
       "      <td>0</td>\n",
       "      <td>1</td>\n",
       "      <td>0</td>\n",
       "      <td>0</td>\n",
       "      <td>0</td>\n",
       "    </tr>\n",
       "    <tr>\n",
       "      <th>156</th>\n",
       "      <td>-JKLmqDk9p8</td>\n",
       "      <td>490.0</td>\n",
       "      <td>500.0</td>\n",
       "      <td>/m/06mb1,/m/07r10fb,/m/0jb2l,/m/0ngt1,/t/dd00038</td>\n",
       "      <td>multi</td>\n",
       "      <td>0</td>\n",
       "      <td>0</td>\n",
       "      <td>0</td>\n",
       "      <td>1</td>\n",
       "      <td>1</td>\n",
       "    </tr>\n",
       "  </tbody>\n",
       "</table>\n",
       "</div>"
      ],
      "text/plain": [
       "          # YTID  start_seconds  end_seconds  \\\n",
       "8    -0DdlOuIFUI           50.0         60.0   \n",
       "38   -5GhUbDLYkQ           16.0         26.0   \n",
       "71   -8_HpHg6nCw           30.0         40.0   \n",
       "76   -99daJhXYJY           30.0         40.0   \n",
       "156  -JKLmqDk9p8          490.0        500.0   \n",
       "\n",
       "                                      positive_labels  label  Fire  Wind  \\\n",
       "8                        /m/0130jx,/m/02jz0l,/m/0838f  multi     0     0   \n",
       "38                       /m/0130jx,/m/02jz0l,/m/0838f  multi     0     0   \n",
       "71                                /m/07ptzwd,/m/0838f  multi     0     0   \n",
       "76           /m/019jd,/m/02rlv9,/m/03m9d0z,/t/dd00092  multi     0     1   \n",
       "156  /m/06mb1,/m/07r10fb,/m/0jb2l,/m/0ngt1,/t/dd00038  multi     0     0   \n",
       "\n",
       "     Water  Thunderstorm  Thunder  \n",
       "8        1             0        0  \n",
       "38       1             0        0  \n",
       "71       1             0        0  \n",
       "76       0             0        0  \n",
       "156      0             1        1  "
      ]
     },
     "execution_count": 118,
     "metadata": {},
     "output_type": "execute_result"
    }
   ],
   "source": [
    "fw_df.head()"
   ]
  },
  {
   "cell_type": "code",
   "execution_count": 119,
   "metadata": {},
   "outputs": [],
   "source": [
    "fw_df.to_csv('../data/interim/firewind_dataset_links.csv')\n",
    "fw_df.to_pickle('../data/interim/firewind_dataset_links.pickle')"
   ]
  },
  {
   "cell_type": "markdown",
   "metadata": {
    "heading_collapsed": true
   },
   "source": [
    "## Download the 10 sec audio snippets for the filtered classes from youtube videos\n",
    "* Using ffmpeg to get the audio and extract the requried 10s clip\n",
    "* This part takes up lot of time as it involved downloading the entire video. Coudnt figure out a way to extract only the audio for a predefined time period. Any suggestions here would be very helpful"
   ]
  },
  {
   "cell_type": "code",
   "execution_count": 129,
   "metadata": {},
   "outputs": [],
   "source": [
    "meta_df = pd.read_pickle('../data/interim/firewind_dataset_links.pickle')\n",
    "clipsmeta = list(zip(meta_df['# YTID'].values, meta_df.start_seconds.values))"
   ]
  },
  {
   "cell_type": "code",
   "execution_count": 162,
   "metadata": {
    "hidden": true
   },
   "outputs": [
    {
     "ename": "FileNotFoundError",
     "evalue": "[Errno 2] No such file or directory: '../data/processed/'",
     "output_type": "error",
     "traceback": [
      "\u001b[0;31m---------------------------------------------------------------------------\u001b[0m",
      "\u001b[0;31mFileNotFoundError\u001b[0m                         Traceback (most recent call last)",
      "\u001b[0;32m<ipython-input-162-a3dc48850873>\u001b[0m in \u001b[0;36m<module>\u001b[0;34m\u001b[0m\n\u001b[1;32m      1\u001b[0m \u001b[0mprocessed_path\u001b[0m \u001b[0;34m=\u001b[0m \u001b[0;34m'../data/processed/'\u001b[0m\u001b[0;34m\u001b[0m\u001b[0;34m\u001b[0m\u001b[0m\n\u001b[0;32m----> 2\u001b[0;31m \u001b[0mos\u001b[0m\u001b[0;34m.\u001b[0m\u001b[0mchdir\u001b[0m\u001b[0;34m(\u001b[0m\u001b[0mprocessed_path\u001b[0m\u001b[0;34m)\u001b[0m\u001b[0;34m\u001b[0m\u001b[0;34m\u001b[0m\u001b[0m\n\u001b[0m",
      "\u001b[0;31mFileNotFoundError\u001b[0m: [Errno 2] No such file or directory: '../data/processed/'"
     ]
    }
   ],
   "source": [
    "processed_path = '../data/processed/'\n",
    "os.chdir(processed_path)"
   ]
  },
  {
   "cell_type": "code",
   "execution_count": 169,
   "metadata": {
    "hidden": true,
    "scrolled": true
   },
   "outputs": [],
   "source": [
    "def download_audioset(metadata):\n",
    "    i, start = metadata\n",
    "    dur = 10\n",
    "    print(i, start, dur)\n",
    "    ydl_opts = {'format': 'bestaudio/best',\n",
    "                'outtmpl': './{}'.format(i+ '.mp4'),\n",
    "                'postprocessors': [{'key': 'FFmpegExtractAudio','preferredcodec': 'wav','preferredquality': '192'}],\n",
    "                'prefer_ffmpeg': True,\n",
    "                'keepvideo': True,\n",
    "                'info_dict': {'start_time': start,\n",
    "                'end_time': start + dur}}\n",
    "    try:\n",
    "        with youtube_dl.YoutubeDL(ydl_opts) as ydl:\n",
    "            ydl.download(['http://www.youtube.com/watch?v={}'.format(i)]);\n",
    "            #command = \"ffmpeg -k -ss {} -t {} -i ./{}.wav ./{}.wav\".format(start, dur, i,i+'_seg')\n",
    "            #print(command)\n",
    "            #subprocess.call(command, shell=True);\n",
    "            #os.remove('./{}.wav'.format(i))\n",
    "            #os.rename('./{}_seg.wav'.format(i),'./{}.wav'.format(i))\n",
    "    except:\n",
    "        print('Video not available{}'.format(i))"
   ]
  },
  {
   "cell_type": "code",
   "execution_count": 170,
   "metadata": {
    "hidden": true
   },
   "outputs": [
    {
     "name": "stdout",
     "output_type": "stream",
     "text": [
      "-0DdlOuIFUI 50.0 10\n",
      "0uIe4dKUC1s 50.0 10\n",
      "0NZLG7HMiLg 590.0 10\n",
      "-2FVPRdbLdA 10.0 10\n",
      "2u9Vh6Q-gKQ 0.0 10\n",
      "4lke5p8dxI0 50.0 10\n",
      "6Yv2uAr_54w 0.0 10\n",
      "8QmwXbKIwUA 0.0 10\n",
      "[youtube] -0DdlOuIFUI: Downloading webpage\n",
      "[youtube] -2FVPRdbLdA: Downloading webpage\n",
      "[youtube] 2u9Vh6Q-gKQ: Downloading webpage\n",
      "[youtube] 0NZLG7HMiLg: Downloading webpage\n",
      "[youtube] 0uIe4dKUC1s: Downloading webpage\n",
      "[youtube] 8QmwXbKIwUA: Downloading webpage\n",
      "[youtube] 4lke5p8dxI0: Downloading webpage\n",
      "[youtube] 6Yv2uAr_54w: Downloading webpage\n",
      "[youtube] 4lke5p8dxI0: Downloading video info webpage\n",
      "[youtube] 0NZLG7HMiLg: Downloading video info webpage\n",
      "[youtube] -2FVPRdbLdA: Downloading video info webpage\n",
      "[youtube] 8QmwXbKIwUA: Downloading video info webpage\n",
      "[youtube] 6Yv2uAr_54w: Downloading video info webpage\n",
      "[youtube] 0uIe4dKUC1s: Downloading video info webpage\n",
      "[youtube] 2u9Vh6Q-gKQ: Downloading video info webpage\n",
      "[youtube] -0DdlOuIFUI: Downloading video info webpage\n"
     ]
    },
    {
     "name": "stderr",
     "output_type": "stream",
     "text": [
      "ERROR: This video contains content from AdonnanteTv. It is not available in your country.\n"
     ]
    },
    {
     "name": "stdout",
     "output_type": "stream",
     "text": [
      "Video not available4lke5p8dxI0\n",
      "4ltnOsbLIJI 40.0 10\n",
      "[youtube] 0uIe4dKUC1s: Downloading MPD manifest\n",
      "[download] Destination: ./0NZLG7HMiLg.mp4\n",
      "[download]   0.3% of 11.28MiB at  1.32MiB/s ETA 00:08[youtube] 4ltnOsbLIJI: Downloading webpage\n",
      "[download] Destination: ./-2FVPRdbLdA.mp4\n",
      "[download]   2.2% of 11.28MiB at  2.93MiB/s ETA 00:03[download] Destination: ./8QmwXbKIwUA.mp4\n",
      "[download]   8.9% of 11.28MiB at 824.47KiB/s ETA 00:12[download] Destination: ./6Yv2uAr_54w.mp4\n",
      "[download] Destination: ./2u9Vh6Q-gKQ.mp4\n",
      "[download]  12.6% of 500.88KiB at 296.61KiB/s ETA 00:01[download] Destination: ./-0DdlOuIFUI.mp4\n",
      "[download]   0.0% of 2.67MiB at 1012.00B/s ETA 46:07[youtube] 4ltnOsbLIJI: Downloading video info webpage\n",
      "[download] 100% of 407.62KiB in 00:02\n",
      "[download] 100% of 710.39KiB in 00:02\n",
      "[download] 100% of 124.97KiB in 00:02\n",
      "[download]  18.5% of 2.67MiB at 446.36KiB/s ETA 00:04[ffmpeg] Destination: ./6Yv2uAr_54w.wav\n",
      "[ffmpeg] Correcting container in \"./8QmwXbKIwUA.mp4\"\n",
      "6ZFCXGAbz3s 340.0 10\n",
      "[ffmpeg] Correcting container in \"./-2FVPRdbLdA.mp4\"\n",
      "[ffmpeg] Destination: ./8QmwXbKIwUA.wav\n",
      "[ffmpeg] Destination: ./-2FVPRdbLdA.wav\n",
      "[youtube] 6ZFCXGAbz3s: Downloading webpage\n",
      "8RM4ExvUKoM 1.0 10\n",
      "-2NNI-DKgkI 30.0 10\n",
      "[download]  38.9% of 500.88KiB at 93.87KiB/s ETA 00:03[youtube] 8RM4ExvUKoM: Downloading webpage\n",
      "[download]  36.9% of 2.67MiB at 472.53KiB/s ETA 00:03[youtube] -2NNI-DKgkI: Downloading webpage\n"
     ]
    },
    {
     "name": "stderr",
     "output_type": "stream",
     "text": [
      "WARNING: Unable to extract video title\n",
      "WARNING: unable to extract description; please report this issue on https://yt-dl.org/bug . Make sure you are using the latest version; see  https://yt-dl.org/update  on how to update. Be sure to call youtube-dl with the --verbose flag and include its complete output.\n",
      "ERROR: This video is unavailable.\n"
     ]
    },
    {
     "name": "stdout",
     "output_type": "stream",
     "text": [
      "Video not available4ltnOsbLIJI\n",
      "4lwK3Ms-_DA 30.0 10\n",
      "[download] 100% of 500.88KiB in 00:03\n",
      "[download]  15.0% of 11.28MiB at 503.46KiB/s ETA 00:19[ffmpeg] Destination: ./2u9Vh6Q-gKQ.wav\n",
      "[youtube] 4lwK3Ms-_DA: Downloading webpage\n",
      "2uH6sLmJgA4 30.0 10\n",
      "[youtube] 2uH6sLmJgA4: Downloading webpage\n",
      "[download]  19.2% of 11.28MiB at 416.28KiB/s ETA 00:22[youtube] 6ZFCXGAbz3s: Downloading video info webpage\n",
      "[youtube] 8RM4ExvUKoM: Downloading video info webpage\n",
      "[download] 100% of 2.67MiB in 00:05\n",
      "[download]  21.4% of 11.28MiB at 451.63KiB/s ETA 00:20[youtube] 2uH6sLmJgA4: Downloading video info webpage\n",
      "[ffmpeg] Correcting container in \"./-0DdlOuIFUI.mp4\"\n",
      "[ffmpeg] Destination: ./-0DdlOuIFUI.wav\n",
      "-5GhUbDLYkQ 16.0 10\n",
      "[youtube] -2NNI-DKgkI: Downloading video info webpage\n",
      "[download]  30.7% of 11.28MiB at 547.00KiB/s ETA 00:14[youtube] -5GhUbDLYkQ: Downloading webpage\n",
      "[download] Destination: ./-2NNI-DKgkI.mp4\n",
      "[download]   7.3% of 3.41MiB at  4.31MiB/s ETA 00:00[download] Destination: ./2uH6sLmJgA4.mp4\n",
      "[download]  46.6% of 3.41MiB at  1.36MiB/s ETA 00:01[download] Destination: ./8RM4ExvUKoM.mp4\n",
      "[download] 100% of 114.77KiB in 00:03\n",
      "[ffmpeg] Destination: ./8RM4ExvUKoM.wav\n",
      "[download] 100% of 574.30KiB in 00:02\n",
      "[ffmpeg] Destination: ./2uH6sLmJgA4.wav\n",
      "8RPUXWeXhSQ 90.0 10\n",
      "[youtube] -5GhUbDLYkQ: Downloading video info webpage\n",
      "2utaodyuqRY 50.0 10\n",
      "[youtube] 8RPUXWeXhSQ: Downloading webpage\n",
      "[youtube] 2utaodyuqRY: Downloading webpage\n",
      "[download] Destination: ./-5GhUbDLYkQ.mp4\n",
      "[download] 100% of 434.21KiB in 00:00\n",
      "[download]  45.4% of 11.28MiB at 479.16KiB/s ETA 00:13[ffmpeg] Destination: ./-5GhUbDLYkQ.wav\n",
      "-8_HpHg6nCw 30.0 10\n",
      "[youtube] -8_HpHg6nCw: Downloading webpage\n",
      "[download]  55.2% of 11.28MiB at 534.60KiB/s ETA 00:09[youtube] 2utaodyuqRY: Downloading video info webpage\n",
      "[youtube] 4lwK3Ms-_DA: Downloading video info webpage\n",
      "[download]  65.2% of 11.28MiB at 580.82KiB/s ETA 00:06[youtube] -8_HpHg6nCw: Downloading video info webpage\n",
      "[download] Destination: ./-8_HpHg6nCw.mp4\n",
      "[download]  14.0% of 909.20KiB at  3.93MiB/s ETA 00:00[download] Destination: ./2utaodyuqRY.mp4\n",
      "[download]   0.1% of 3.23MiB at 313.51KiB/s ETA 00:10[download] Destination: ./4lwK3Ms-_DA.mp4\n",
      "[download] 100% of 909.20KiB in 00:00\n",
      "[ffmpeg] Destination: ./-8_HpHg6nCw.wav\n",
      "[download]   4.1% of 8.50MiB at 335.82KiB/s ETA 00:24-99daJhXYJY 30.0 10\n",
      "[download]  21.1% of 3.23MiB at 574.90KiB/s ETA 00:04[youtube] -99daJhXYJY: Downloading webpage\n",
      "[download]  13.5% of 8.50MiB at 310.97KiB/s ETA 00:24[youtube] -99daJhXYJY: Downloading video info webpage\n",
      "[download]  18.0% of 8.50MiB at 397.70KiB/s ETA 00:17[download] Destination: ./6ZFCXGAbz3s.mp4\n",
      "[download]   9.6% of 6.16MiB at 515.89KiB/s ETA 00:11[youtube] 8RPUXWeXhSQ: Downloading video info webpage\n",
      "[download]  29.8% of 6.16MiB at 862.10KiB/s ETA 00:05[download] Destination: ./8RPUXWeXhSQ.mp4\n",
      "[download]   4.8% of 7.19MiB at 333.15KiB/s ETA 00:21[download] Destination: ./-99daJhXYJY.mp4\n",
      "[download]   4.5% of 694.58KiB at 278.41KiB/s ETA 00:02Video not available2utaodyuqRY\n",
      "Video not available6ZFCXGAbz3s\n",
      "Video not available4lwK3Ms-_DA\n",
      "Video not available-2NNI-DKgkI\n",
      "Video not available8RPUXWeXhSQ\n",
      "Video not available0uIe4dKUC1s\n",
      "Video not available-99daJhXYJY\n",
      "8Rfn_cZbAOU 30.0 10\n",
      "Video not available0NZLG7HMiLg\n",
      "4m82meICmBE 20.0 10\n",
      "6ZYHL4SXvwU 380.0 10\n",
      "2vhdK8GSS8E 4.0 10\n",
      "-2T-couEK1Y 90.0 10\n",
      "-JKLmqDk9p8 490.0 10\n"
     ]
    },
    {
     "ename": "KeyboardInterrupt",
     "evalue": "",
     "output_type": "error",
     "traceback": [
      "\u001b[0;31m---------------------------------------------------------------------------\u001b[0m",
      "\u001b[0;31mKeyboardInterrupt\u001b[0m                         Traceback (most recent call last)",
      "\u001b[0;32m<ipython-input-170-62526290cbed>\u001b[0m in \u001b[0;36m<module>\u001b[0;34m\u001b[0m\n\u001b[1;32m      3\u001b[0m \u001b[0;34m\u001b[0m\u001b[0m\n\u001b[1;32m      4\u001b[0m \u001b[0;32mwith\u001b[0m \u001b[0mmp\u001b[0m\u001b[0;34m.\u001b[0m\u001b[0mPool\u001b[0m\u001b[0;34m(\u001b[0m\u001b[0;36m8\u001b[0m\u001b[0;34m)\u001b[0m \u001b[0;32mas\u001b[0m \u001b[0mpool\u001b[0m\u001b[0;34m:\u001b[0m\u001b[0;34m\u001b[0m\u001b[0;34m\u001b[0m\u001b[0m\n\u001b[0;32m----> 5\u001b[0;31m     \u001b[0mpool\u001b[0m\u001b[0;34m.\u001b[0m\u001b[0mmap\u001b[0m\u001b[0;34m(\u001b[0m\u001b[0mdownload_audioset\u001b[0m\u001b[0;34m,\u001b[0m \u001b[0mclipsmeta\u001b[0m\u001b[0;34m)\u001b[0m\u001b[0;34m\u001b[0m\u001b[0;34m\u001b[0m\u001b[0m\n\u001b[0m",
      "\u001b[0;32m/usr/lib/python3.6/multiprocessing/pool.py\u001b[0m in \u001b[0;36mmap\u001b[0;34m(self, func, iterable, chunksize)\u001b[0m\n\u001b[1;32m    264\u001b[0m         \u001b[0;32min\u001b[0m \u001b[0ma\u001b[0m \u001b[0mlist\u001b[0m \u001b[0mthat\u001b[0m \u001b[0;32mis\u001b[0m \u001b[0mreturned\u001b[0m\u001b[0;34m.\u001b[0m\u001b[0;34m\u001b[0m\u001b[0;34m\u001b[0m\u001b[0m\n\u001b[1;32m    265\u001b[0m         '''\n\u001b[0;32m--> 266\u001b[0;31m         \u001b[0;32mreturn\u001b[0m \u001b[0mself\u001b[0m\u001b[0;34m.\u001b[0m\u001b[0m_map_async\u001b[0m\u001b[0;34m(\u001b[0m\u001b[0mfunc\u001b[0m\u001b[0;34m,\u001b[0m \u001b[0miterable\u001b[0m\u001b[0;34m,\u001b[0m \u001b[0mmapstar\u001b[0m\u001b[0;34m,\u001b[0m \u001b[0mchunksize\u001b[0m\u001b[0;34m)\u001b[0m\u001b[0;34m.\u001b[0m\u001b[0mget\u001b[0m\u001b[0;34m(\u001b[0m\u001b[0;34m)\u001b[0m\u001b[0;34m\u001b[0m\u001b[0;34m\u001b[0m\u001b[0m\n\u001b[0m\u001b[1;32m    267\u001b[0m \u001b[0;34m\u001b[0m\u001b[0m\n\u001b[1;32m    268\u001b[0m     \u001b[0;32mdef\u001b[0m \u001b[0mstarmap\u001b[0m\u001b[0;34m(\u001b[0m\u001b[0mself\u001b[0m\u001b[0;34m,\u001b[0m \u001b[0mfunc\u001b[0m\u001b[0;34m,\u001b[0m \u001b[0miterable\u001b[0m\u001b[0;34m,\u001b[0m \u001b[0mchunksize\u001b[0m\u001b[0;34m=\u001b[0m\u001b[0;32mNone\u001b[0m\u001b[0;34m)\u001b[0m\u001b[0;34m:\u001b[0m\u001b[0;34m\u001b[0m\u001b[0;34m\u001b[0m\u001b[0m\n",
      "\u001b[0;32m/usr/lib/python3.6/multiprocessing/pool.py\u001b[0m in \u001b[0;36mget\u001b[0;34m(self, timeout)\u001b[0m\n\u001b[1;32m    636\u001b[0m \u001b[0;34m\u001b[0m\u001b[0m\n\u001b[1;32m    637\u001b[0m     \u001b[0;32mdef\u001b[0m \u001b[0mget\u001b[0m\u001b[0;34m(\u001b[0m\u001b[0mself\u001b[0m\u001b[0;34m,\u001b[0m \u001b[0mtimeout\u001b[0m\u001b[0;34m=\u001b[0m\u001b[0;32mNone\u001b[0m\u001b[0;34m)\u001b[0m\u001b[0;34m:\u001b[0m\u001b[0;34m\u001b[0m\u001b[0;34m\u001b[0m\u001b[0m\n\u001b[0;32m--> 638\u001b[0;31m         \u001b[0mself\u001b[0m\u001b[0;34m.\u001b[0m\u001b[0mwait\u001b[0m\u001b[0;34m(\u001b[0m\u001b[0mtimeout\u001b[0m\u001b[0;34m)\u001b[0m\u001b[0;34m\u001b[0m\u001b[0;34m\u001b[0m\u001b[0m\n\u001b[0m\u001b[1;32m    639\u001b[0m         \u001b[0;32mif\u001b[0m \u001b[0;32mnot\u001b[0m \u001b[0mself\u001b[0m\u001b[0;34m.\u001b[0m\u001b[0mready\u001b[0m\u001b[0;34m(\u001b[0m\u001b[0;34m)\u001b[0m\u001b[0;34m:\u001b[0m\u001b[0;34m\u001b[0m\u001b[0;34m\u001b[0m\u001b[0m\n\u001b[1;32m    640\u001b[0m             \u001b[0;32mraise\u001b[0m \u001b[0mTimeoutError\u001b[0m\u001b[0;34m\u001b[0m\u001b[0;34m\u001b[0m\u001b[0m\n",
      "\u001b[0;32m/usr/lib/python3.6/multiprocessing/pool.py\u001b[0m in \u001b[0;36mwait\u001b[0;34m(self, timeout)\u001b[0m\n\u001b[1;32m    633\u001b[0m \u001b[0;34m\u001b[0m\u001b[0m\n\u001b[1;32m    634\u001b[0m     \u001b[0;32mdef\u001b[0m \u001b[0mwait\u001b[0m\u001b[0;34m(\u001b[0m\u001b[0mself\u001b[0m\u001b[0;34m,\u001b[0m \u001b[0mtimeout\u001b[0m\u001b[0;34m=\u001b[0m\u001b[0;32mNone\u001b[0m\u001b[0;34m)\u001b[0m\u001b[0;34m:\u001b[0m\u001b[0;34m\u001b[0m\u001b[0;34m\u001b[0m\u001b[0m\n\u001b[0;32m--> 635\u001b[0;31m         \u001b[0mself\u001b[0m\u001b[0;34m.\u001b[0m\u001b[0m_event\u001b[0m\u001b[0;34m.\u001b[0m\u001b[0mwait\u001b[0m\u001b[0;34m(\u001b[0m\u001b[0mtimeout\u001b[0m\u001b[0;34m)\u001b[0m\u001b[0;34m\u001b[0m\u001b[0;34m\u001b[0m\u001b[0m\n\u001b[0m\u001b[1;32m    636\u001b[0m \u001b[0;34m\u001b[0m\u001b[0m\n\u001b[1;32m    637\u001b[0m     \u001b[0;32mdef\u001b[0m \u001b[0mget\u001b[0m\u001b[0;34m(\u001b[0m\u001b[0mself\u001b[0m\u001b[0;34m,\u001b[0m \u001b[0mtimeout\u001b[0m\u001b[0;34m=\u001b[0m\u001b[0;32mNone\u001b[0m\u001b[0;34m)\u001b[0m\u001b[0;34m:\u001b[0m\u001b[0;34m\u001b[0m\u001b[0;34m\u001b[0m\u001b[0m\n",
      "\u001b[0;32m/usr/lib/python3.6/threading.py\u001b[0m in \u001b[0;36mwait\u001b[0;34m(self, timeout)\u001b[0m\n\u001b[1;32m    549\u001b[0m             \u001b[0msignaled\u001b[0m \u001b[0;34m=\u001b[0m \u001b[0mself\u001b[0m\u001b[0;34m.\u001b[0m\u001b[0m_flag\u001b[0m\u001b[0;34m\u001b[0m\u001b[0;34m\u001b[0m\u001b[0m\n\u001b[1;32m    550\u001b[0m             \u001b[0;32mif\u001b[0m \u001b[0;32mnot\u001b[0m \u001b[0msignaled\u001b[0m\u001b[0;34m:\u001b[0m\u001b[0;34m\u001b[0m\u001b[0;34m\u001b[0m\u001b[0m\n\u001b[0;32m--> 551\u001b[0;31m                 \u001b[0msignaled\u001b[0m \u001b[0;34m=\u001b[0m \u001b[0mself\u001b[0m\u001b[0;34m.\u001b[0m\u001b[0m_cond\u001b[0m\u001b[0;34m.\u001b[0m\u001b[0mwait\u001b[0m\u001b[0;34m(\u001b[0m\u001b[0mtimeout\u001b[0m\u001b[0;34m)\u001b[0m\u001b[0;34m\u001b[0m\u001b[0;34m\u001b[0m\u001b[0m\n\u001b[0m\u001b[1;32m    552\u001b[0m             \u001b[0;32mreturn\u001b[0m \u001b[0msignaled\u001b[0m\u001b[0;34m\u001b[0m\u001b[0;34m\u001b[0m\u001b[0m\n\u001b[1;32m    553\u001b[0m \u001b[0;34m\u001b[0m\u001b[0m\n",
      "\u001b[0;32m/usr/lib/python3.6/threading.py\u001b[0m in \u001b[0;36mwait\u001b[0;34m(self, timeout)\u001b[0m\n\u001b[1;32m    293\u001b[0m         \u001b[0;32mtry\u001b[0m\u001b[0;34m:\u001b[0m    \u001b[0;31m# restore state no matter what (e.g., KeyboardInterrupt)\u001b[0m\u001b[0;34m\u001b[0m\u001b[0;34m\u001b[0m\u001b[0m\n\u001b[1;32m    294\u001b[0m             \u001b[0;32mif\u001b[0m \u001b[0mtimeout\u001b[0m \u001b[0;32mis\u001b[0m \u001b[0;32mNone\u001b[0m\u001b[0;34m:\u001b[0m\u001b[0;34m\u001b[0m\u001b[0;34m\u001b[0m\u001b[0m\n\u001b[0;32m--> 295\u001b[0;31m                 \u001b[0mwaiter\u001b[0m\u001b[0;34m.\u001b[0m\u001b[0macquire\u001b[0m\u001b[0;34m(\u001b[0m\u001b[0;34m)\u001b[0m\u001b[0;34m\u001b[0m\u001b[0;34m\u001b[0m\u001b[0m\n\u001b[0m\u001b[1;32m    296\u001b[0m                 \u001b[0mgotit\u001b[0m \u001b[0;34m=\u001b[0m \u001b[0;32mTrue\u001b[0m\u001b[0;34m\u001b[0m\u001b[0;34m\u001b[0m\u001b[0m\n\u001b[1;32m    297\u001b[0m             \u001b[0;32melse\u001b[0m\u001b[0;34m:\u001b[0m\u001b[0;34m\u001b[0m\u001b[0;34m\u001b[0m\u001b[0m\n",
      "\u001b[0;31mKeyboardInterrupt\u001b[0m: "
     ]
    }
   ],
   "source": [
    "import multiprocessing as mp\n",
    "mp.cpu_count()\n",
    "\n",
    "with mp.Pool(8) as pool:\n",
    "    pool.map(download_audioset, clipsmeta)"
   ]
  },
  {
   "cell_type": "code",
   "execution_count": null,
   "metadata": {
    "hidden": true
   },
   "outputs": [],
   "source": [
    "# some clips will be missing due to unavailability of video\n",
    "print(len(os.listdir('./')), len(clipsmeta))"
   ]
  },
  {
   "cell_type": "code",
   "execution_count": 44,
   "metadata": {
    "hidden": true
   },
   "outputs": [],
   "source": [
    "fnames = [i[:-4] for i in os.listdir('./')]"
   ]
  },
  {
   "cell_type": "code",
   "execution_count": 48,
   "metadata": {
    "hidden": true
   },
   "outputs": [
    {
     "data": {
      "text/plain": [
       "Index(['# YTID', 'start_seconds', 'end_seconds', 'positive_labels', 'type',\n",
       "       'Boat', 'Motorcycle', 'Racecar', 'Helicopter', 'Railroadcar'],\n",
       "      dtype='object')"
      ]
     },
     "execution_count": 48,
     "metadata": {},
     "output_type": "execute_result"
    }
   ],
   "source": [
    "BMdf.columns"
   ]
  },
  {
   "cell_type": "code",
   "execution_count": 49,
   "metadata": {
    "hidden": true
   },
   "outputs": [],
   "source": [
    "BMdf.columns = ['YTID', 'start_seconds', 'end_seconds', 'positive_labels', 'type','Boat', 'Motorcycle', 'Racecar', 'Helicopter', 'Railroadcar']"
   ]
  },
  {
   "cell_type": "code",
   "execution_count": 55,
   "metadata": {
    "hidden": true,
    "scrolled": true
   },
   "outputs": [],
   "source": [
    "# Saving the metadata to generate labels.csv file later\n",
    "BMdf[BMdf['YTID'].isin(fnames)].to_csv('./Vehicle_clips_metadata', sep=' ', index=False)"
   ]
  },
  {
   "cell_type": "code",
   "execution_count": null,
   "metadata": {
    "hidden": true
   },
   "outputs": [],
   "source": []
  }
 ],
 "metadata": {
  "kernelspec": {
   "display_name": "Python 3",
   "language": "python",
   "name": "python3"
  },
  "language_info": {
   "codemirror_mode": {
    "name": "ipython",
    "version": 3
   },
   "file_extension": ".py",
   "mimetype": "text/x-python",
   "name": "python",
   "nbconvert_exporter": "python",
   "pygments_lexer": "ipython3",
   "version": "3.6.8"
  },
  "varInspector": {
   "cols": {
    "lenName": 16,
    "lenType": 16,
    "lenVar": 40
   },
   "kernels_config": {
    "python": {
     "delete_cmd_postfix": "",
     "delete_cmd_prefix": "del ",
     "library": "var_list.py",
     "varRefreshCmd": "print(var_dic_list())"
    },
    "r": {
     "delete_cmd_postfix": ") ",
     "delete_cmd_prefix": "rm(",
     "library": "var_list.r",
     "varRefreshCmd": "cat(var_dic_list()) "
    }
   },
   "types_to_exclude": [
    "module",
    "function",
    "builtin_function_or_method",
    "instance",
    "_Feature"
   ],
   "window_display": false
  }
 },
 "nbformat": 4,
 "nbformat_minor": 2
}
