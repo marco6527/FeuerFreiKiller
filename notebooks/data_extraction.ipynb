{
 "cells": [
  {
   "cell_type": "markdown",
   "metadata": {
    "heading_collapsed": true
   },
   "source": [
    "## Getting audio clips of required classes from google audioset data #### \n",
    "https://research.google.com/audioset/dataset/index.html\n",
    "* Since the dataset is too huge, shortlisted a few classes to work on\n",
    "    * Natural sounds: Fire vs Wind/Water/Storm.\n",
    "* To get maximum data for the above classes, have used all the data available from the audioset data\n",
    "    * Refer https://research.google.com/audioset//download.html#split for more details\n",
    "    * ID to Class mapping is available in this link - https://github.com/audioset/ontology/blob/master/ontology.json"
   ]
  },
  {
   "cell_type": "code",
   "execution_count": 125,
   "metadata": {
    "hidden": true
   },
   "outputs": [],
   "source": [
    "import os\n",
    "import subprocess\n",
    "import youtube_dl\n",
    "import pandas as pd\n",
    "import glob\n",
    "import numpy as np\n",
    "import tqdm"
   ]
  },
  {
   "cell_type": "code",
   "execution_count": 4,
   "metadata": {},
   "outputs": [
    {
     "name": "stdout",
     "output_type": "stream",
     "text": [
      "/home/sramirez/git/FeuerFreiKiller/notebooks\n"
     ]
    }
   ],
   "source": [
    "!pwd"
   ]
  },
  {
   "cell_type": "code",
   "execution_count": 96,
   "metadata": {},
   "outputs": [],
   "source": [
    "os.chdir('/home/sramirez/git/FeuerFreiKiller/notebooks/')"
   ]
  },
  {
   "cell_type": "code",
   "execution_count": 6,
   "metadata": {},
   "outputs": [
    {
     "name": "stdout",
     "output_type": "stream",
     "text": [
      "--2019-08-17 12:22:06--  http://storage.googleapis.com/us_audioset/youtube_corpus/v1/csv/unbalanced_train_segments.csv\n",
      "Resolviendo storage.googleapis.com (storage.googleapis.com)... 216.58.201.176, 2a00:1450:4003:803::2010\n",
      "Conectando con storage.googleapis.com (storage.googleapis.com)[216.58.201.176]:80... conectado.\n",
      "Petición HTTP enviada, esperando respuesta... 200 OK\n",
      "Longitud: 101468408 (97M) [application/octet-stream]\n",
      "Grabando a: “../data/external/unbalanced_data.csv”\n",
      "\n",
      "../data/external/un 100%[=====================>]  96,77M  4,52MB/s   en 29s    \n",
      "\n",
      "2019-08-17 12:22:37 (3,29 MB/s) - “../data/external/unbalanced_data.csv” guardado [101468408/101468408]\n",
      "\n"
     ]
    }
   ],
   "source": [
    "!wget http://storage.googleapis.com/us_audioset/youtube_corpus/v1/csv/unbalanced_train_segments.csv -O '../data/external/unbalanced_data.csv'"
   ]
  },
  {
   "cell_type": "code",
   "execution_count": 7,
   "metadata": {},
   "outputs": [
    {
     "name": "stdout",
     "output_type": "stream",
     "text": [
      "--2019-08-17 12:22:37--  http://storage.googleapis.com/us_audioset/youtube_corpus/v1/csv/balanced_train_segments.csv\n",
      "Resolviendo storage.googleapis.com (storage.googleapis.com)... 216.58.201.176, 2a00:1450:4003:803::2010\n",
      "Conectando con storage.googleapis.com (storage.googleapis.com)[216.58.201.176]:80... conectado.\n",
      "Petición HTTP enviada, esperando respuesta... 200 OK\n",
      "Longitud: 1211931 (1,2M) [application/octet-stream]\n",
      "Grabando a: “../data/external/balanced_train_data.csv”\n",
      "\n",
      "../data/external/ba 100%[=====================>]   1,16M  3,13MB/s   en 0,4s   \n",
      "\n",
      "2019-08-17 12:22:38 (3,13 MB/s) - “../data/external/balanced_train_data.csv” guardado [1211931/1211931]\n",
      "\n"
     ]
    }
   ],
   "source": [
    "!wget http://storage.googleapis.com/us_audioset/youtube_corpus/v1/csv/balanced_train_segments.csv -O '../data/external/balanced_train_data.csv'"
   ]
  },
  {
   "cell_type": "code",
   "execution_count": 8,
   "metadata": {},
   "outputs": [
    {
     "name": "stdout",
     "output_type": "stream",
     "text": [
      "--2019-08-17 12:22:38--  http://storage.googleapis.com/us_audioset/youtube_corpus/v1/csv/eval_segments.csv\n",
      "Resolviendo storage.googleapis.com (storage.googleapis.com)... 216.58.201.176, 2a00:1450:4003:803::2010\n",
      "Conectando con storage.googleapis.com (storage.googleapis.com)[216.58.201.176]:80... conectado.\n",
      "Petición HTTP enviada, esperando respuesta... 200 OK\n",
      "Longitud: 1143389 (1,1M) [application/octet-stream]\n",
      "Grabando a: “../data/external/eval_data.csv”\n",
      "\n",
      "../data/external/ev 100%[=====================>]   1,09M  3,62MB/s   en 0,3s   \n",
      "\n",
      "2019-08-17 12:22:39 (3,62 MB/s) - “../data/external/eval_data.csv” guardado [1143389/1143389]\n",
      "\n"
     ]
    }
   ],
   "source": [
    "!wget http://storage.googleapis.com/us_audioset/youtube_corpus/v1/csv/eval_segments.csv -O '../data/external/eval_data.csv'"
   ]
  },
  {
   "cell_type": "markdown",
   "metadata": {
    "heading_collapsed": true
   },
   "source": [
    "## Merging the csv annotation files - Eval, Balanced and Unbalanced to get maximum data"
   ]
  },
  {
   "cell_type": "code",
   "execution_count": null,
   "metadata": {
    "hidden": true
   },
   "outputs": [],
   "source": [
    "#os.chdir('../data/external/')"
   ]
  },
  {
   "cell_type": "code",
   "execution_count": 9,
   "metadata": {},
   "outputs": [
    {
     "name": "stdout",
     "output_type": "stream",
     "text": [
      "../data/external/eval_data.csv\n",
      "../data/external/unbalanced_data.csv\n",
      "../data/external/balanced_train_data.csv\n"
     ]
    }
   ],
   "source": [
    "path = '../data/external/'\n",
    "all_files = glob.glob(path + \"/*.csv\")\n",
    "li = []\n",
    "\n",
    "for filename in all_files:\n",
    "    print(filename)\n",
    "    df = pd.read_csv(filename, skiprows=2, quotechar='\"', engine='python', skipinitialspace=True)\n",
    "    li.append(df)\n",
    "\n",
    "df = pd.concat(li, axis=0, ignore_index=True)"
   ]
  },
  {
   "cell_type": "code",
   "execution_count": 10,
   "metadata": {},
   "outputs": [
    {
     "data": {
      "text/plain": [
       "((2084320, 4), 2085544)"
      ]
     },
     "execution_count": 10,
     "metadata": {},
     "output_type": "execute_result"
    }
   ],
   "source": [
    "df.shape,  2042985 + 22176 + 20383"
   ]
  },
  {
   "cell_type": "code",
   "execution_count": 11,
   "metadata": {},
   "outputs": [
    {
     "data": {
      "text/html": [
       "<div>\n",
       "<style>\n",
       "    .dataframe thead tr:only-child th {\n",
       "        text-align: right;\n",
       "    }\n",
       "\n",
       "    .dataframe thead th {\n",
       "        text-align: left;\n",
       "    }\n",
       "\n",
       "    .dataframe tbody tr th {\n",
       "        vertical-align: top;\n",
       "    }\n",
       "</style>\n",
       "<table border=\"1\" class=\"dataframe\">\n",
       "  <thead>\n",
       "    <tr style=\"text-align: right;\">\n",
       "      <th></th>\n",
       "      <th># YTID</th>\n",
       "      <th>start_seconds</th>\n",
       "      <th>end_seconds</th>\n",
       "      <th>positive_labels</th>\n",
       "    </tr>\n",
       "  </thead>\n",
       "  <tbody>\n",
       "    <tr>\n",
       "      <th>0</th>\n",
       "      <td>--4gqARaEJE</td>\n",
       "      <td>0.0</td>\n",
       "      <td>10.0</td>\n",
       "      <td>/m/068hy,/m/07q6cd_,/m/0bt9lr,/m/0jbk</td>\n",
       "    </tr>\n",
       "    <tr>\n",
       "      <th>1</th>\n",
       "      <td>--BfvyPmVMo</td>\n",
       "      <td>20.0</td>\n",
       "      <td>30.0</td>\n",
       "      <td>/m/03l9g</td>\n",
       "    </tr>\n",
       "    <tr>\n",
       "      <th>2</th>\n",
       "      <td>--U7joUcTCo</td>\n",
       "      <td>0.0</td>\n",
       "      <td>10.0</td>\n",
       "      <td>/m/01b_21</td>\n",
       "    </tr>\n",
       "    <tr>\n",
       "      <th>3</th>\n",
       "      <td>--i-y1v8Hy8</td>\n",
       "      <td>0.0</td>\n",
       "      <td>9.0</td>\n",
       "      <td>/m/04rlf,/m/09x0r,/t/dd00004,/t/dd00005</td>\n",
       "    </tr>\n",
       "    <tr>\n",
       "      <th>4</th>\n",
       "      <td>-0BIyqJj9ZU</td>\n",
       "      <td>30.0</td>\n",
       "      <td>40.0</td>\n",
       "      <td>/m/07rgt08,/m/07sq110,/t/dd00001</td>\n",
       "    </tr>\n",
       "  </tbody>\n",
       "</table>\n",
       "</div>"
      ],
      "text/plain": [
       "        # YTID  start_seconds  end_seconds  \\\n",
       "0  --4gqARaEJE            0.0         10.0   \n",
       "1  --BfvyPmVMo           20.0         30.0   \n",
       "2  --U7joUcTCo            0.0         10.0   \n",
       "3  --i-y1v8Hy8            0.0          9.0   \n",
       "4  -0BIyqJj9ZU           30.0         40.0   \n",
       "\n",
       "                           positive_labels  \n",
       "0    /m/068hy,/m/07q6cd_,/m/0bt9lr,/m/0jbk  \n",
       "1                                 /m/03l9g  \n",
       "2                                /m/01b_21  \n",
       "3  /m/04rlf,/m/09x0r,/t/dd00004,/t/dd00005  \n",
       "4         /m/07rgt08,/m/07sq110,/t/dd00001  "
      ]
     },
     "execution_count": 11,
     "metadata": {},
     "output_type": "execute_result"
    }
   ],
   "source": [
    "df.head()"
   ]
  },
  {
   "cell_type": "code",
   "execution_count": 12,
   "metadata": {},
   "outputs": [
    {
     "data": {
      "text/plain": [
       "0"
      ]
     },
     "execution_count": 12,
     "metadata": {},
     "output_type": "execute_result"
    }
   ],
   "source": [
    "df.duplicated().sum()"
   ]
  },
  {
   "cell_type": "code",
   "execution_count": 13,
   "metadata": {},
   "outputs": [
    {
     "data": {
      "text/plain": [
       "False"
      ]
     },
     "execution_count": 13,
     "metadata": {},
     "output_type": "execute_result"
    }
   ],
   "source": [
    "df.shape[0] == 2042985 + 22176 + 20383"
   ]
  },
  {
   "cell_type": "code",
   "execution_count": 14,
   "metadata": {
    "hidden": true
   },
   "outputs": [
    {
     "name": "stdout",
     "output_type": "stream",
     "text": [
      "multi     1183535\n",
      "single     900785\n",
      "Name: label, dtype: int64\n"
     ]
    }
   ],
   "source": [
    "df['label'] = df.positive_labels.map(lambda x: 'single' if len(x.split(',')) == 1 else 'multi')\n",
    "print(df.label.value_counts())"
   ]
  },
  {
   "cell_type": "markdown",
   "metadata": {
    "heading_collapsed": true
   },
   "source": [
    "## Filtering clips with required classes"
   ]
  },
  {
   "cell_type": "code",
   "execution_count": 15,
   "metadata": {
    "hidden": true
   },
   "outputs": [],
   "source": [
    "# Use the corressponding ids based for the classes as available in json file mentioned at the start \n",
    "str2id = {'Fire': '/m/02_41', 'Wind': '/m/03m9d0z', 'Water': '/m/0838f', 'Thunderstorm': '/m/0jb2l'}\n",
    "id2str = {v: k for k, v in str2id.items()}\n",
    "\n",
    "for k in str2id.keys():\n",
    "    df[k] = df.positive_labels.map(lambda x: 1 if (str2id[k] in x.split(',')) else 0)"
   ]
  },
  {
   "cell_type": "code",
   "execution_count": 16,
   "metadata": {},
   "outputs": [
    {
     "name": "stdout",
     "output_type": "stream",
     "text": [
      "Category: Water, # of elements: 8994\n",
      "Category: Thunderstorm, # of elements: 1262\n",
      "Category: Wind, # of elements: 6805\n",
      "Category: Fire, # of elements: 1445\n"
     ]
    }
   ],
   "source": [
    "for k in str2id.keys():\n",
    "    print('Category: {}, # of elements: {}'.format(k, df[k].sum()))\n",
    "    "
   ]
  },
  {
   "cell_type": "code",
   "execution_count": 23,
   "metadata": {},
   "outputs": [
    {
     "data": {
      "text/plain": [
       "['Water', 'Thunderstorm', 'Wind', 'Fire']"
      ]
     },
     "execution_count": 23,
     "metadata": {},
     "output_type": "execute_result"
    }
   ],
   "source": [
    "list(str2id.keys())\n"
   ]
  },
  {
   "cell_type": "code",
   "execution_count": 87,
   "metadata": {},
   "outputs": [
    {
     "data": {
      "text/plain": [
       "(18082, 9)"
      ]
     },
     "execution_count": 87,
     "metadata": {},
     "output_type": "execute_result"
    }
   ],
   "source": [
    "# Filter out those registers with value for either classes considered (output class: fire)\n",
    "columns = list(str2id.keys())\n",
    "fw_df = df[df[columns].sum(axis=1) > 0]\n",
    "fw_df.shape"
   ]
  },
  {
   "cell_type": "code",
   "execution_count": 88,
   "metadata": {},
   "outputs": [
    {
     "name": "stderr",
     "output_type": "stream",
     "text": [
      "/usr/local/lib/python3.4/dist-packages/ipykernel_launcher.py:2: SettingWithCopyWarning: \n",
      "A value is trying to be set on a copy of a slice from a DataFrame.\n",
      "Try using .loc[row_indexer,col_indexer] = value instead\n",
      "\n",
      "See the caveats in the documentation: http://pandas.pydata.org/pandas-docs/stable/indexing.html#indexing-view-versus-copy\n",
      "  \n"
     ]
    }
   ],
   "source": [
    "# Translate after selection\n",
    "fw_df['translated_labels'] = fw_df.positive_labels.map(lambda x: ','.join([id2str[y] for y in x.split(',') if y in id2str.keys()]))"
   ]
  },
  {
   "cell_type": "code",
   "execution_count": 89,
   "metadata": {},
   "outputs": [
    {
     "data": {
      "text/plain": [
       "Water                 8978\n",
       "Wind                  6388\n",
       "Thunderstorm          1233\n",
       "Fire                  1059\n",
       "Fire,Wind              381\n",
       "Wind,Thunderstorm       27\n",
       "Wind,Water               9\n",
       "Fire,Water               5\n",
       "Water,Thunderstorm       2\n",
       "Name: translated_labels, dtype: int64"
      ]
     },
     "execution_count": 89,
     "metadata": {},
     "output_type": "execute_result"
    }
   ],
   "source": [
    "fw_df.translated_labels.value_counts()"
   ]
  },
  {
   "cell_type": "code",
   "execution_count": 90,
   "metadata": {},
   "outputs": [
    {
     "data": {
      "text/html": [
       "<div>\n",
       "<style>\n",
       "    .dataframe thead tr:only-child th {\n",
       "        text-align: right;\n",
       "    }\n",
       "\n",
       "    .dataframe thead th {\n",
       "        text-align: left;\n",
       "    }\n",
       "\n",
       "    .dataframe tbody tr th {\n",
       "        vertical-align: top;\n",
       "    }\n",
       "</style>\n",
       "<table border=\"1\" class=\"dataframe\">\n",
       "  <thead>\n",
       "    <tr style=\"text-align: right;\">\n",
       "      <th></th>\n",
       "      <th># YTID</th>\n",
       "      <th>start_seconds</th>\n",
       "      <th>end_seconds</th>\n",
       "      <th>positive_labels</th>\n",
       "      <th>label</th>\n",
       "      <th>Water</th>\n",
       "      <th>Thunderstorm</th>\n",
       "      <th>Wind</th>\n",
       "      <th>Fire</th>\n",
       "      <th>translated_labels</th>\n",
       "    </tr>\n",
       "  </thead>\n",
       "  <tbody>\n",
       "    <tr>\n",
       "      <th>796</th>\n",
       "      <td>1009ux1xbkg</td>\n",
       "      <td>0.0</td>\n",
       "      <td>10.0</td>\n",
       "      <td>/m/02_41,/m/0838f</td>\n",
       "      <td>multi</td>\n",
       "      <td>1</td>\n",
       "      <td>0</td>\n",
       "      <td>0</td>\n",
       "      <td>1</td>\n",
       "      <td>Fire,Water</td>\n",
       "    </tr>\n",
       "    <tr>\n",
       "      <th>3089</th>\n",
       "      <td>7Zdx0YrzHVk</td>\n",
       "      <td>20.0</td>\n",
       "      <td>30.0</td>\n",
       "      <td>/m/02_41,/m/0838f</td>\n",
       "      <td>multi</td>\n",
       "      <td>1</td>\n",
       "      <td>0</td>\n",
       "      <td>0</td>\n",
       "      <td>1</td>\n",
       "      <td>Fire,Water</td>\n",
       "    </tr>\n",
       "    <tr>\n",
       "      <th>1204763</th>\n",
       "      <td>ToKqR2NHqwQ</td>\n",
       "      <td>200.0</td>\n",
       "      <td>210.0</td>\n",
       "      <td>/m/02_41,/m/0838f,/m/09x0r</td>\n",
       "      <td>multi</td>\n",
       "      <td>1</td>\n",
       "      <td>0</td>\n",
       "      <td>0</td>\n",
       "      <td>1</td>\n",
       "      <td>Fire,Water</td>\n",
       "    </tr>\n",
       "    <tr>\n",
       "      <th>1215371</th>\n",
       "      <td>UB7upK3ZBsA</td>\n",
       "      <td>30.0</td>\n",
       "      <td>40.0</td>\n",
       "      <td>/m/02_41,/m/07p9k1k,/m/0838f</td>\n",
       "      <td>multi</td>\n",
       "      <td>1</td>\n",
       "      <td>0</td>\n",
       "      <td>0</td>\n",
       "      <td>1</td>\n",
       "      <td>Fire,Water</td>\n",
       "    </tr>\n",
       "    <tr>\n",
       "      <th>1872047</th>\n",
       "      <td>s6dbv2C2N8M</td>\n",
       "      <td>30.0</td>\n",
       "      <td>40.0</td>\n",
       "      <td>/m/02_41,/m/0838f,/m/09x0r</td>\n",
       "      <td>multi</td>\n",
       "      <td>1</td>\n",
       "      <td>0</td>\n",
       "      <td>0</td>\n",
       "      <td>1</td>\n",
       "      <td>Fire,Water</td>\n",
       "    </tr>\n",
       "  </tbody>\n",
       "</table>\n",
       "</div>"
      ],
      "text/plain": [
       "              # YTID  start_seconds  end_seconds  \\\n",
       "796      1009ux1xbkg            0.0         10.0   \n",
       "3089     7Zdx0YrzHVk           20.0         30.0   \n",
       "1204763  ToKqR2NHqwQ          200.0        210.0   \n",
       "1215371  UB7upK3ZBsA           30.0         40.0   \n",
       "1872047  s6dbv2C2N8M           30.0         40.0   \n",
       "\n",
       "                      positive_labels  label  Water  Thunderstorm  Wind  Fire  \\\n",
       "796                 /m/02_41,/m/0838f  multi      1             0     0     1   \n",
       "3089                /m/02_41,/m/0838f  multi      1             0     0     1   \n",
       "1204763    /m/02_41,/m/0838f,/m/09x0r  multi      1             0     0     1   \n",
       "1215371  /m/02_41,/m/07p9k1k,/m/0838f  multi      1             0     0     1   \n",
       "1872047    /m/02_41,/m/0838f,/m/09x0r  multi      1             0     0     1   \n",
       "\n",
       "        translated_labels  \n",
       "796            Fire,Water  \n",
       "3089           Fire,Water  \n",
       "1204763        Fire,Water  \n",
       "1215371        Fire,Water  \n",
       "1872047        Fire,Water  "
      ]
     },
     "execution_count": 90,
     "metadata": {},
     "output_type": "execute_result"
    }
   ],
   "source": [
    "# Let's check an example for fire-water tuple\n",
    "fw_df[fw_df.translated_labels == 'Fire,Water']"
   ]
  },
  {
   "cell_type": "code",
   "execution_count": 91,
   "metadata": {},
   "outputs": [
    {
     "data": {
      "text/html": [
       "<div>\n",
       "<style>\n",
       "    .dataframe thead tr:only-child th {\n",
       "        text-align: right;\n",
       "    }\n",
       "\n",
       "    .dataframe thead th {\n",
       "        text-align: left;\n",
       "    }\n",
       "\n",
       "    .dataframe tbody tr th {\n",
       "        vertical-align: top;\n",
       "    }\n",
       "</style>\n",
       "<table border=\"1\" class=\"dataframe\">\n",
       "  <thead>\n",
       "    <tr style=\"text-align: right;\">\n",
       "      <th></th>\n",
       "      <th># YTID</th>\n",
       "      <th>start_seconds</th>\n",
       "      <th>end_seconds</th>\n",
       "      <th>positive_labels</th>\n",
       "      <th>label</th>\n",
       "      <th>Water</th>\n",
       "      <th>Thunderstorm</th>\n",
       "      <th>Wind</th>\n",
       "      <th>Fire</th>\n",
       "      <th>translated_labels</th>\n",
       "    </tr>\n",
       "  </thead>\n",
       "  <tbody>\n",
       "    <tr>\n",
       "      <th>16</th>\n",
       "      <td>-1EXhfqLLwQ</td>\n",
       "      <td>150.0</td>\n",
       "      <td>160.0</td>\n",
       "      <td>/m/03dnzn,/m/068hy,/m/07p7b8y,/m/07ptzwd,/m/08...</td>\n",
       "      <td>multi</td>\n",
       "      <td>1</td>\n",
       "      <td>0</td>\n",
       "      <td>0</td>\n",
       "      <td>0</td>\n",
       "      <td>Water</td>\n",
       "    </tr>\n",
       "    <tr>\n",
       "      <th>25</th>\n",
       "      <td>-1pPw9zZopA</td>\n",
       "      <td>190.0</td>\n",
       "      <td>200.0</td>\n",
       "      <td>/m/01jt3m,/m/0838f</td>\n",
       "      <td>multi</td>\n",
       "      <td>1</td>\n",
       "      <td>0</td>\n",
       "      <td>0</td>\n",
       "      <td>0</td>\n",
       "      <td>Water</td>\n",
       "    </tr>\n",
       "    <tr>\n",
       "      <th>34</th>\n",
       "      <td>-3-4qmWSJXU</td>\n",
       "      <td>30.0</td>\n",
       "      <td>40.0</td>\n",
       "      <td>/m/06mb1,/m/0jb2l,/m/0ngt1,/t/dd00038</td>\n",
       "      <td>multi</td>\n",
       "      <td>0</td>\n",
       "      <td>1</td>\n",
       "      <td>0</td>\n",
       "      <td>0</td>\n",
       "      <td>Thunderstorm</td>\n",
       "    </tr>\n",
       "    <tr>\n",
       "      <th>41</th>\n",
       "      <td>-3rHVsIj1M8</td>\n",
       "      <td>30.0</td>\n",
       "      <td>40.0</td>\n",
       "      <td>/m/019jd,/m/03m9d0z,/m/06q74,/t/dd00092</td>\n",
       "      <td>multi</td>\n",
       "      <td>0</td>\n",
       "      <td>0</td>\n",
       "      <td>1</td>\n",
       "      <td>0</td>\n",
       "      <td>Wind</td>\n",
       "    </tr>\n",
       "    <tr>\n",
       "      <th>100</th>\n",
       "      <td>-DSNfC2EJhU</td>\n",
       "      <td>20.0</td>\n",
       "      <td>30.0</td>\n",
       "      <td>/m/01jt3m,/m/0838f</td>\n",
       "      <td>multi</td>\n",
       "      <td>1</td>\n",
       "      <td>0</td>\n",
       "      <td>0</td>\n",
       "      <td>0</td>\n",
       "      <td>Water</td>\n",
       "    </tr>\n",
       "  </tbody>\n",
       "</table>\n",
       "</div>"
      ],
      "text/plain": [
       "          # YTID  start_seconds  end_seconds  \\\n",
       "16   -1EXhfqLLwQ          150.0        160.0   \n",
       "25   -1pPw9zZopA          190.0        200.0   \n",
       "34   -3-4qmWSJXU           30.0         40.0   \n",
       "41   -3rHVsIj1M8           30.0         40.0   \n",
       "100  -DSNfC2EJhU           20.0         30.0   \n",
       "\n",
       "                                       positive_labels  label  Water  \\\n",
       "16   /m/03dnzn,/m/068hy,/m/07p7b8y,/m/07ptzwd,/m/08...  multi      1   \n",
       "25                                  /m/01jt3m,/m/0838f  multi      1   \n",
       "34               /m/06mb1,/m/0jb2l,/m/0ngt1,/t/dd00038  multi      0   \n",
       "41             /m/019jd,/m/03m9d0z,/m/06q74,/t/dd00092  multi      0   \n",
       "100                                 /m/01jt3m,/m/0838f  multi      1   \n",
       "\n",
       "     Thunderstorm  Wind  Fire translated_labels  \n",
       "16              0     0     0             Water  \n",
       "25              0     0     0             Water  \n",
       "34              1     0     0      Thunderstorm  \n",
       "41              0     1     0              Wind  \n",
       "100             0     0     0             Water  "
      ]
     },
     "execution_count": 91,
     "metadata": {},
     "output_type": "execute_result"
    }
   ],
   "source": [
    "fw_df.head()"
   ]
  },
  {
   "cell_type": "code",
   "execution_count": 94,
   "metadata": {},
   "outputs": [
    {
     "data": {
      "text/plain": [
       "Wind                  1100\n",
       "Thunderstorm          1100\n",
       "Water                 1100\n",
       "Fire                  1059\n",
       "Fire,Wind              381\n",
       "Wind,Thunderstorm       27\n",
       "Wind,Water               9\n",
       "Fire,Water               5\n",
       "Water,Thunderstorm       2\n",
       "Name: translated_labels, dtype: int64"
      ]
     },
     "execution_count": 94,
     "metadata": {},
     "output_type": "execute_result"
    }
   ],
   "source": [
    "## Create subset with only around 1K from each type of sound, and all that mix several types.\n",
    "size = 1100        # sample size\n",
    "replace = False  # with replacement\n",
    "subset = fw_df.groupby('translated_labels').apply(lambda x: x.sample(min(size, x.shape[0]), replace = replace)).reset_index(drop=True)\n",
    "subset.translated_labels.value_counts()"
   ]
  },
  {
   "cell_type": "code",
   "execution_count": 97,
   "metadata": {},
   "outputs": [],
   "source": [
    "fw_df.to_csv('../data/interim/firewind_dataset_links.csv')\n",
    "fw_df.to_pickle('../data/interim/firewind_dataset_links.pickle')\n",
    "subset.to_pickle('../data/interim/stratified_dataset_links.pickle')"
   ]
  },
  {
   "cell_type": "code",
   "execution_count": 123,
   "metadata": {},
   "outputs": [],
   "source": [
    "assert(fw_df[fw_df['# YTID'] == \"1icE61afXcY\"].start_seconds.values[0] == 270)"
   ]
  },
  {
   "cell_type": "markdown",
   "metadata": {
    "heading_collapsed": true
   },
   "source": [
    "## Download the 10 sec audio snippets for the filtered classes from youtube videos\n",
    "* Using ffmpeg to get the audio and extract the requried 10s clip\n",
    "* This part takes up lot of time as it involved downloading the entire video. Coudnt figure out a way to extract only the audio for a predefined time period. Any suggestions here would be very helpful"
   ]
  },
  {
   "cell_type": "code",
   "execution_count": 98,
   "metadata": {},
   "outputs": [],
   "source": [
    "meta_df = pd.read_pickle('../data/interim/stratified_dataset_links.pickle')\n",
    "clipsmeta = list(zip(meta_df['# YTID'].values, meta_df.start_seconds.values))\n"
   ]
  },
  {
   "cell_type": "code",
   "execution_count": 101,
   "metadata": {},
   "outputs": [
    {
     "data": {
      "text/plain": [
       "4783"
      ]
     },
     "execution_count": 101,
     "metadata": {},
     "output_type": "execute_result"
    }
   ],
   "source": [
    "len(clipsmeta)"
   ]
  },
  {
   "cell_type": "code",
   "execution_count": 102,
   "metadata": {
    "hidden": true
   },
   "outputs": [],
   "source": [
    "processed_path = '../data/processed/'\n",
    "os.chdir(processed_path)"
   ]
  },
  {
   "cell_type": "code",
   "execution_count": 103,
   "metadata": {},
   "outputs": [
    {
     "name": "stdout",
     "output_type": "stream",
     "text": [
      "/home/sramirez/git/FeuerFreiKiller/data/processed\n"
     ]
    }
   ],
   "source": [
    "!pwd"
   ]
  },
  {
   "cell_type": "code",
   "execution_count": 107,
   "metadata": {
    "hidden": true,
    "scrolled": true
   },
   "outputs": [],
   "source": [
    "def download_audioset(metadata):\n",
    "    i, start = metadata\n",
    "    dur = 10\n",
    "    #print(i, start, dur)\n",
    "    ydl_opts = {'format': 'bestaudio/best',\n",
    "                'outtmpl': './{}'.format(i+ '.mp4'),\n",
    "                'postprocessors': [{'key': 'FFmpegExtractAudio','preferredcodec': 'wav','preferredquality': '192'}],\n",
    "                'prefer_ffmpeg': True,\n",
    "                'keepvideo': True,\n",
    "                'info_dict': {'start_time': start,\n",
    "                'end_time': start + dur}}\n",
    "    try:\n",
    "        with youtube_dl.YoutubeDL(ydl_opts) as ydl:\n",
    "            #ydl.download(['http://www.youtube.com/watch?v={}'.format(i)]);\n",
    "            url = 'http://www.youtube.com/watch?v={}'.format(i)\n",
    "            #command = \"ffmpeg -k -ss {} -t {} -i ./{}.wav ./{}.wav\".format(start, dur, i,i+'_seg')\n",
    "            command = \"./ffmpeg -ss {} -i $(youtube-dl -f mp4 --get-url {}) -t {} -vn -c:v copy -c:a copy {}.aac\".format(int(start), url, dur, i)\n",
    "            print(command)\n",
    "            subprocess.call(command, shell=True)\n",
    "            #os.remove('./{}.wav'.format(i))\n",
    "            #os.rename('./{}_seg.wav'.format(i),'./{}.wav'.format(i))\n",
    "    except:\n",
    "        print('Video not available{}'.format(i))"
   ]
  },
  {
   "cell_type": "code",
   "execution_count": null,
   "metadata": {
    "hidden": true
   },
   "outputs": [
    {
     "name": "stderr",
     "output_type": "stream",
     "text": [
      "  0%|          | 0/4783 [00:00<?, ?it/s]"
     ]
    },
    {
     "name": "stdout",
     "output_type": "stream",
     "text": [
      "./ffmpeg -ss 170 -i $(youtube-dl -f mp4 --get-url http://www.youtube.com/watch?v=2Ckck326IDs) -t 10 -vn -c:v copy -c:a copy 2Ckck326IDs.aac\n",
      "./ffmpeg -ss 220 -i $(youtube-dl -f mp4 --get-url http://www.youtube.com/watch?v=6JF0IbMBFkQ) -t 10 -vn -c:v copy -c:a copy 6JF0IbMBFkQ.aac\n",
      "./ffmpeg -ss 20 -i $(youtube-dl -f mp4 --get-url http://www.youtube.com/watch?v=1Emd2moPfRk) -t 10 -vn -c:v copy -c:a copy 1Emd2moPfRk.aac\n",
      "./ffmpeg -ss 100 -i $(youtube-dl -f mp4 --get-url http://www.youtube.com/watch?v=fn5gRQ87Ga0) -t 10 -vn -c:v copy -c:a copy fn5gRQ87Ga0.aac\n",
      "./ffmpeg -ss 80 -i $(youtube-dl -f mp4 --get-url http://www.youtube.com/watch?v=g7eerVu5gOE) -t 10 -vn -c:v copy -c:a copy g7eerVu5gOE.aac\n",
      "./ffmpeg -ss 20 -i $(youtube-dl -f mp4 --get-url http://www.youtube.com/watch?v=uLQPPdAKp1w) -t 10 -vn -c:v copy -c:a copy uLQPPdAKp1w.aac\n",
      "./ffmpeg -ss 20 -i $(youtube-dl -f mp4 --get-url http://www.youtube.com/watch?v=2H1h6nizICI) -t 10 -vn -c:v copy -c:a copy 2H1h6nizICI.aac\n",
      "./ffmpeg -ss 200 -i $(youtube-dl -f mp4 --get-url http://www.youtube.com/watch?v=90DSJfFfvio) -t 10 -vn -c:v copy -c:a copy 90DSJfFfvio.aac\n",
      "./ffmpeg -ss 260 -i $(youtube-dl -f mp4 --get-url http://www.youtube.com/watch?v=3VjPijSRH14) -t 10 -vn -c:v copy -c:a copy 3VjPijSRH14.aac\n"
     ]
    },
    {
     "name": "stderr",
     "output_type": "stream",
     "text": [
      "  0%|          | 1/4783 [00:02<2:43:48,  2.06s/it]"
     ]
    },
    {
     "name": "stdout",
     "output_type": "stream",
     "text": [
      "./ffmpeg -ss 420 -i $(youtube-dl -f mp4 --get-url http://www.youtube.com/watch?v=tcLEywbBrow) -t 10 -vn -c:v copy -c:a copy tcLEywbBrow.aac\n"
     ]
    },
    {
     "name": "stderr",
     "output_type": "stream",
     "text": [
      "  0%|          | 2/4783 [00:02<2:11:23,  1.65s/it]"
     ]
    },
    {
     "name": "stdout",
     "output_type": "stream",
     "text": [
      "./ffmpeg -ss 70 -i $(youtube-dl -f mp4 --get-url http://www.youtube.com/watch?v=NCNeStHfY58) -t 10 -vn -c:v copy -c:a copy NCNeStHfY58.aac\n"
     ]
    },
    {
     "name": "stderr",
     "output_type": "stream",
     "text": [
      "  0%|          | 3/4783 [00:06<2:53:22,  2.18s/it]"
     ]
    },
    {
     "name": "stdout",
     "output_type": "stream",
     "text": [
      "./ffmpeg -ss 0 -i $(youtube-dl -f mp4 --get-url http://www.youtube.com/watch?v=X2-xX0OtGDM) -t 10 -vn -c:v copy -c:a copy X2-xX0OtGDM.aac\n",
      "./ffmpeg -ss 210 -i $(youtube-dl -f mp4 --get-url http://www.youtube.com/watch?v=H7-8dssYSRM) -t 10 -vn -c:v copy -c:a copy H7-8dssYSRM.aac\n",
      "./ffmpeg -ss 480 -i $(youtube-dl -f mp4 --get-url http://www.youtube.com/watch?v=HSFgO8TzxVs) -t 10 -vn -c:v copy -c:a copy HSFgO8TzxVs.aac\n",
      "./ffmpeg -ss 30 -i $(youtube-dl -f mp4 --get-url http://www.youtube.com/watch?v=VExW2qa5MJs) -t 10 -vn -c:v copy -c:a copy VExW2qa5MJs.aac\n",
      "./ffmpeg -ss 350 -i $(youtube-dl -f mp4 --get-url http://www.youtube.com/watch?v=B5k6TTxstBM) -t 10 -vn -c:v copy -c:a copy B5k6TTxstBM.aac\n",
      "./ffmpeg -ss 40 -i $(youtube-dl -f mp4 --get-url http://www.youtube.com/watch?v=0s-UAhRtq64) -t 10 -vn -c:v copy -c:a copy 0s-UAhRtq64.aac\n",
      "./ffmpeg -ss 160 -i $(youtube-dl -f mp4 --get-url http://www.youtube.com/watch?v=7Nbe69Pmenk) -t 10 -vn -c:v copy -c:a copy 7Nbe69Pmenk.aac\n",
      "./ffmpeg -ss 0 -i $(youtube-dl -f mp4 --get-url http://www.youtube.com/watch?v=VrcpPKYG3Qo) -t 10 -vn -c:v copy -c:a copy VrcpPKYG3Qo.aac\n"
     ]
    },
    {
     "name": "stderr",
     "output_type": "stream",
     "text": [
      "  0%|          | 4/4783 [00:17<6:27:38,  4.87s/it]"
     ]
    },
    {
     "name": "stdout",
     "output_type": "stream",
     "text": [
      "./ffmpeg -ss 30 -i $(youtube-dl -f mp4 --get-url http://www.youtube.com/watch?v=GGyDYS8_xE4) -t 10 -vn -c:v copy -c:a copy GGyDYS8_xE4.aac\n",
      "./ffmpeg -ss 10 -i $(youtube-dl -f mp4 --get-url http://www.youtube.com/watch?v=3Fbw3eeWw2c) -t 10 -vn -c:v copy -c:a copy 3Fbw3eeWw2c.aac\n",
      "./ffmpeg -ss 140 -i $(youtube-dl -f mp4 --get-url http://www.youtube.com/watch?v=PU0vUEje9oU) -t 10 -vn -c:v copy -c:a copy PU0vUEje9oU.aac\n"
     ]
    },
    {
     "name": "stderr",
     "output_type": "stream",
     "text": [
      "  0%|          | 9/4783 [00:18<4:36:37,  3.48s/it]"
     ]
    },
    {
     "name": "stdout",
     "output_type": "stream",
     "text": [
      "./ffmpeg -ss 10 -i $(youtube-dl -f mp4 --get-url http://www.youtube.com/watch?v=CRPti13MTqc) -t 10 -vn -c:v copy -c:a copy CRPti13MTqc.aac\n"
     ]
    },
    {
     "name": "stderr",
     "output_type": "stream",
     "text": [
      "  0%|          | 15/4783 [00:20<3:21:40,  2.54s/it]"
     ]
    },
    {
     "name": "stdout",
     "output_type": "stream",
     "text": [
      "./ffmpeg -ss 60 -i $(youtube-dl -f mp4 --get-url http://www.youtube.com/watch?v=F7zTDiVACNk) -t 10 -vn -c:v copy -c:a copy F7zTDiVACNk.aac\n",
      "./ffmpeg -ss 30 -i $(youtube-dl -f mp4 --get-url http://www.youtube.com/watch?v=fTXgUe1tIEE) -t 10 -vn -c:v copy -c:a copy fTXgUe1tIEE.aac\n",
      "./ffmpeg -ss 400 -i $(youtube-dl -f mp4 --get-url http://www.youtube.com/watch?v=Dq6qveOfxnE) -t 10 -vn -c:v copy -c:a copy Dq6qveOfxnE.aac\n",
      "./ffmpeg -ss 550 -i $(youtube-dl -f mp4 --get-url http://www.youtube.com/watch?v=fH_RL07Dzo0) -t 10 -vn -c:v copy -c:a copy fH_RL07Dzo0.aac\n",
      "./ffmpeg -ss 0 -i $(youtube-dl -f mp4 --get-url http://www.youtube.com/watch?v=o-_KJk1y6pc) -t 10 -vn -c:v copy -c:a copy o-_KJk1y6pc.aac\n",
      "./ffmpeg -ss 190 -i $(youtube-dl -f mp4 --get-url http://www.youtube.com/watch?v=wrLwSUzx0ek) -t 10 -vn -c:v copy -c:a copy wrLwSUzx0ek.aac\n",
      "./ffmpeg -ss 60 -i $(youtube-dl -f mp4 --get-url http://www.youtube.com/watch?v=1DS826K4moE) -t 10 -vn -c:v copy -c:a copy 1DS826K4moE.aac\n",
      "./ffmpeg -ss 340 -i $(youtube-dl -f mp4 --get-url http://www.youtube.com/watch?v=0Ve6AGwuqnY) -t 10 -vn -c:v copy -c:a copy 0Ve6AGwuqnY.aac\n",
      "./ffmpeg -ss 30 -i $(youtube-dl -f mp4 --get-url http://www.youtube.com/watch?v=DuGDyB62z2c) -t 10 -vn -c:v copy -c:a copy DuGDyB62z2c.aac\n"
     ]
    },
    {
     "name": "stderr",
     "output_type": "stream",
     "text": [
      "  0%|          | 16/4783 [00:32<6:54:23,  5.22s/it]"
     ]
    },
    {
     "name": "stdout",
     "output_type": "stream",
     "text": [
      "./ffmpeg -ss 0 -i $(youtube-dl -f mp4 --get-url http://www.youtube.com/watch?v=I8ZKqlVB-yw) -t 10 -vn -c:v copy -c:a copy I8ZKqlVB-yw.aac\n",
      "./ffmpeg -ss 0 -i $(youtube-dl -f mp4 --get-url http://www.youtube.com/watch?v=kSXf_rFfHCI) -t 10 -vn -c:v copy -c:a copy kSXf_rFfHCI.aac\n",
      "./ffmpeg -ss 200 -i $(youtube-dl -f mp4 --get-url http://www.youtube.com/watch?v=VZQUQjn0ljY) -t 10 -vn -c:v copy -c:a copy VZQUQjn0ljY.aac\n"
     ]
    },
    {
     "name": "stderr",
     "output_type": "stream",
     "text": [
      "  0%|          | 21/4783 [00:33<4:57:56,  3.75s/it]"
     ]
    },
    {
     "name": "stdout",
     "output_type": "stream",
     "text": [
      "./ffmpeg -ss 50 -i $(youtube-dl -f mp4 --get-url http://www.youtube.com/watch?v=vRV7bq3gGfg) -t 10 -vn -c:v copy -c:a copy vRV7bq3gGfg.aac\n",
      "./ffmpeg -ss 240 -i $(youtube-dl -f mp4 --get-url http://www.youtube.com/watch?v=stTTtm7ggWo) -t 10 -vn -c:v copy -c:a copy stTTtm7ggWo.aac\n",
      "./ffmpeg -ss 240 -i $(youtube-dl -f mp4 --get-url http://www.youtube.com/watch?v=qcWLP9r1Tf0) -t 10 -vn -c:v copy -c:a copy qcWLP9r1Tf0.aac\n",
      "./ffmpeg -ss 290 -i $(youtube-dl -f mp4 --get-url http://www.youtube.com/watch?v=KmqogLxZHp4) -t 10 -vn -c:v copy -c:a copy KmqogLxZHp4.aac\n",
      "./ffmpeg -ss 120 -i $(youtube-dl -f mp4 --get-url http://www.youtube.com/watch?v=hHFqyvBK8cE) -t 10 -vn -c:v copy -c:a copy hHFqyvBK8cE.aac\n",
      "./ffmpeg -ss 0 -i $(youtube-dl -f mp4 --get-url http://www.youtube.com/watch?v=AU9uzSngjjk) -t 10 -vn -c:v copy -c:a copy AU9uzSngjjk.aac\n",
      "./ffmpeg -ss 100 -i $(youtube-dl -f mp4 --get-url http://www.youtube.com/watch?v=nmxf3LrNqNk) -t 10 -vn -c:v copy -c:a copy nmxf3LrNqNk.aac\n",
      "./ffmpeg -ss 90 -i $(youtube-dl -f mp4 --get-url http://www.youtube.com/watch?v=g6joYfq3kQc) -t 10 -vn -c:v copy -c:a copy g6joYfq3kQc.aac\n"
     ]
    },
    {
     "name": "stderr",
     "output_type": "stream",
     "text": [
      "  0%|          | 22/4783 [00:46<8:37:52,  6.53s/it]"
     ]
    },
    {
     "name": "stdout",
     "output_type": "stream",
     "text": [
      "./ffmpeg -ss 550 -i $(youtube-dl -f mp4 --get-url http://www.youtube.com/watch?v=Y6qq6RG-z0A) -t 10 -vn -c:v copy -c:a copy Y6qq6RG-z0A.aac\n",
      "./ffmpeg -ss 120 -i $(youtube-dl -f mp4 --get-url http://www.youtube.com/watch?v=dR4ya5_yGZg) -t 10 -vn -c:v copy -c:a copy dR4ya5_yGZg.aac\n",
      "./ffmpeg -ss 10 -i $(youtube-dl -f mp4 --get-url http://www.youtube.com/watch?v=EPeB_VsfU-U) -t 10 -vn -c:v copy -c:a copy EPeB_VsfU-U.aac\n"
     ]
    },
    {
     "name": "stderr",
     "output_type": "stream",
     "text": [
      "  1%|          | 35/4783 [00:53<6:13:23,  4.72s/it]"
     ]
    },
    {
     "name": "stdout",
     "output_type": "stream",
     "text": [
      "./ffmpeg -ss 70 -i $(youtube-dl -f mp4 --get-url http://www.youtube.com/watch?v=lPD0JciuboQ) -t 10 -vn -c:v copy -c:a copy lPD0JciuboQ.aac\n",
      "./ffmpeg -ss 200 -i $(youtube-dl -f mp4 --get-url http://www.youtube.com/watch?v=m49-IKdCEUU) -t 10 -vn -c:v copy -c:a copy m49-IKdCEUU.aac\n",
      "./ffmpeg -ss 30 -i $(youtube-dl -f mp4 --get-url http://www.youtube.com/watch?v=M0POHuJRHSM) -t 10 -vn -c:v copy -c:a copy M0POHuJRHSM.aac\n",
      "./ffmpeg -ss 90 -i $(youtube-dl -f mp4 --get-url http://www.youtube.com/watch?v=ITI6JW4fr4w) -t 10 -vn -c:v copy -c:a copy ITI6JW4fr4w.aac\n",
      "./ffmpeg -ss 30 -i $(youtube-dl -f mp4 --get-url http://www.youtube.com/watch?v=4lwK3Ms-_DA) -t 10 -vn -c:v copy -c:a copy 4lwK3Ms-_DA.aac\n",
      "./ffmpeg -ss 180 -i $(youtube-dl -f mp4 --get-url http://www.youtube.com/watch?v=rXdoQ1eeGgo) -t 10 -vn -c:v copy -c:a copy rXdoQ1eeGgo.aac\n",
      "./ffmpeg -ss 140 -i $(youtube-dl -f mp4 --get-url http://www.youtube.com/watch?v=7KbCNLC74ao) -t 10 -vn -c:v copy -c:a copy 7KbCNLC74ao.aac\n"
     ]
    },
    {
     "name": "stderr",
     "output_type": "stream",
     "text": [
      "  1%|          | 36/4783 [01:01<7:37:55,  5.79s/it]"
     ]
    },
    {
     "name": "stdout",
     "output_type": "stream",
     "text": [
      "./ffmpeg -ss 30 -i $(youtube-dl -f mp4 --get-url http://www.youtube.com/watch?v=DWXQ_cSUW98) -t 10 -vn -c:v copy -c:a copy DWXQ_cSUW98.aac\n",
      "./ffmpeg -ss 510 -i $(youtube-dl -f mp4 --get-url http://www.youtube.com/watch?v=7bs-jbtF_Ss) -t 10 -vn -c:v copy -c:a copy 7bs-jbtF_Ss.aac\n",
      "./ffmpeg -ss 30 -i $(youtube-dl -f mp4 --get-url http://www.youtube.com/watch?v=i0eK1QqWKOk) -t 10 -vn -c:v copy -c:a copy i0eK1QqWKOk.aac\n",
      "./ffmpeg -ss 0 -i $(youtube-dl -f mp4 --get-url http://www.youtube.com/watch?v=mne6JnNXWWQ) -t 10 -vn -c:v copy -c:a copy mne6JnNXWWQ.aac\n",
      "./ffmpeg -ss 50 -i $(youtube-dl -f mp4 --get-url http://www.youtube.com/watch?v=mTMM0NVI1pw) -t 10 -vn -c:v copy -c:a copy mTMM0NVI1pw.aac\n"
     ]
    },
    {
     "name": "stderr",
     "output_type": "stream",
     "text": [
      "  1%|          | 44/4783 [01:06<5:36:07,  4.26s/it]"
     ]
    },
    {
     "name": "stdout",
     "output_type": "stream",
     "text": [
      "./ffmpeg -ss 150 -i $(youtube-dl -f mp4 --get-url http://www.youtube.com/watch?v=6Bzgd5M-t4U) -t 10 -vn -c:v copy -c:a copy 6Bzgd5M-t4U.aac\n",
      "./ffmpeg -ss 10 -i $(youtube-dl -f mp4 --get-url http://www.youtube.com/watch?v=JMnc_GHsmZQ) -t 10 -vn -c:v copy -c:a copy JMnc_GHsmZQ.aac\n",
      "./ffmpeg -ss 30 -i $(youtube-dl -f mp4 --get-url http://www.youtube.com/watch?v=8OP-IDpFQqs) -t 10 -vn -c:v copy -c:a copy 8OP-IDpFQqs.aac\n",
      "./ffmpeg -ss 30 -i $(youtube-dl -f mp4 --get-url http://www.youtube.com/watch?v=TsPV80roH14) -t 10 -vn -c:v copy -c:a copy TsPV80roH14.aac\n"
     ]
    },
    {
     "name": "stderr",
     "output_type": "stream",
     "text": [
      "  1%|          | 45/4783 [01:12<6:13:47,  4.73s/it]"
     ]
    },
    {
     "name": "stdout",
     "output_type": "stream",
     "text": [
      "./ffmpeg -ss 0 -i $(youtube-dl -f mp4 --get-url http://www.youtube.com/watch?v=Ga2rCTcMX4w) -t 10 -vn -c:v copy -c:a copy Ga2rCTcMX4w.aac\n",
      "./ffmpeg -ss 70 -i $(youtube-dl -f mp4 --get-url http://www.youtube.com/watch?v=D-oKNC1IQ14) -t 10 -vn -c:v copy -c:a copy D-oKNC1IQ14.aac\n",
      "./ffmpeg -ss 100 -i $(youtube-dl -f mp4 --get-url http://www.youtube.com/watch?v=PRj01d9dq_o) -t 10 -vn -c:v copy -c:a copy PRj01d9dq_o.aac\n",
      "./ffmpeg -ss 60 -i $(youtube-dl -f mp4 --get-url http://www.youtube.com/watch?v=euPSqvsvlvE) -t 10 -vn -c:v copy -c:a copy euPSqvsvlvE.aac\n",
      "./ffmpeg -ss 10 -i $(youtube-dl -f mp4 --get-url http://www.youtube.com/watch?v=UL8RUHNfILk) -t 10 -vn -c:v copy -c:a copy UL8RUHNfILk.aac\n",
      "./ffmpeg -ss 70 -i $(youtube-dl -f mp4 --get-url http://www.youtube.com/watch?v=Gjrc0QpOI5I) -t 10 -vn -c:v copy -c:a copy Gjrc0QpOI5I.aac\n",
      "./ffmpeg -ss 50 -i $(youtube-dl -f mp4 --get-url http://www.youtube.com/watch?v=6fAjfSZ8vEk) -t 10 -vn -c:v copy -c:a copy 6fAjfSZ8vEk.aac\n"
     ]
    },
    {
     "name": "stderr",
     "output_type": "stream",
     "text": [
      "  1%|          | 49/4783 [01:18<4:54:08,  3.73s/it]"
     ]
    },
    {
     "name": "stdout",
     "output_type": "stream",
     "text": [
      "./ffmpeg -ss 410 -i $(youtube-dl -f mp4 --get-url http://www.youtube.com/watch?v=G4ZP4-aeIQ8) -t 10 -vn -c:v copy -c:a copy G4ZP4-aeIQ8.aac\n",
      "./ffmpeg -ss 30 -i $(youtube-dl -f mp4 --get-url http://www.youtube.com/watch?v=0K3bXBlURV0) -t 10 -vn -c:v copy -c:a copy 0K3bXBlURV0.aac\n",
      "./ffmpeg -ss 280 -i $(youtube-dl -f mp4 --get-url http://www.youtube.com/watch?v=6pEslfJwMtY) -t 10 -vn -c:v copy -c:a copy 6pEslfJwMtY.aac\n",
      "./ffmpeg -ss 30 -i $(youtube-dl -f mp4 --get-url http://www.youtube.com/watch?v=h83hM1JUwwk) -t 10 -vn -c:v copy -c:a copy h83hM1JUwwk.aac\n",
      "./ffmpeg -ss 50 -i $(youtube-dl -f mp4 --get-url http://www.youtube.com/watch?v=MvKnqcHC7kQ) -t 10 -vn -c:v copy -c:a copy MvKnqcHC7kQ.aac\n"
     ]
    },
    {
     "name": "stderr",
     "output_type": "stream",
     "text": [
      "  1%|▏         | 63/4783 [01:28<3:42:21,  2.83s/it]"
     ]
    },
    {
     "name": "stdout",
     "output_type": "stream",
     "text": [
      "./ffmpeg -ss 50 -i $(youtube-dl -f mp4 --get-url http://www.youtube.com/watch?v=YMAs6rUbluU) -t 10 -vn -c:v copy -c:a copy YMAs6rUbluU.aac\n",
      "./ffmpeg -ss 260 -i $(youtube-dl -f mp4 --get-url http://www.youtube.com/watch?v=n7dPr6euk6g) -t 10 -vn -c:v copy -c:a copy n7dPr6euk6g.aac\n",
      "./ffmpeg -ss 200 -i $(youtube-dl -f mp4 --get-url http://www.youtube.com/watch?v=04wkD2fwIYM) -t 10 -vn -c:v copy -c:a copy 04wkD2fwIYM.aac\n",
      "./ffmpeg -ss 520 -i $(youtube-dl -f mp4 --get-url http://www.youtube.com/watch?v=v-T3kYUnxlk) -t 10 -vn -c:v copy -c:a copy v-T3kYUnxlk.aac\n",
      "./ffmpeg -ss 70 -i $(youtube-dl -f mp4 --get-url http://www.youtube.com/watch?v=DwZdf6pDSfI) -t 10 -vn -c:v copy -c:a copy DwZdf6pDSfI.aac\n",
      "./ffmpeg -ss 210 -i $(youtube-dl -f mp4 --get-url http://www.youtube.com/watch?v=CvUICKRZeHw) -t 10 -vn -c:v copy -c:a copy CvUICKRZeHw.aac\n",
      "./ffmpeg -ss 10 -i $(youtube-dl -f mp4 --get-url http://www.youtube.com/watch?v=nx2skIsI3tY) -t 10 -vn -c:v copy -c:a copy nx2skIsI3tY.aac\n",
      "./ffmpeg -ss 100 -i $(youtube-dl -f mp4 --get-url http://www.youtube.com/watch?v=pshHygLmbc8) -t 10 -vn -c:v copy -c:a copy pshHygLmbc8.aac\n",
      "./ffmpeg -ss 120 -i $(youtube-dl -f mp4 --get-url http://www.youtube.com/watch?v=EsxsqJV0h5s) -t 10 -vn -c:v copy -c:a copy EsxsqJV0h5s.aac\n",
      "./ffmpeg -ss 80 -i $(youtube-dl -f mp4 --get-url http://www.youtube.com/watch?v=07VeCQKcrf0) -t 10 -vn -c:v copy -c:a copy 07VeCQKcrf0.aac\n",
      "./ffmpeg -ss 80 -i $(youtube-dl -f mp4 --get-url http://www.youtube.com/watch?v=n2uGfWET7AU) -t 10 -vn -c:v copy -c:a copy n2uGfWET7AU.aac\n"
     ]
    },
    {
     "name": "stderr",
     "output_type": "stream",
     "text": [
      "  1%|▏         | 66/4783 [01:43<4:31:36,  3.45s/it]"
     ]
    },
    {
     "name": "stdout",
     "output_type": "stream",
     "text": [
      "./ffmpeg -ss 560 -i $(youtube-dl -f mp4 --get-url http://www.youtube.com/watch?v=BZat9tyrUY4) -t 10 -vn -c:v copy -c:a copy BZat9tyrUY4.aac\n"
     ]
    },
    {
     "name": "stderr",
     "output_type": "stream",
     "text": [
      "  2%|▏         | 77/4783 [01:43<3:10:17,  2.43s/it]"
     ]
    },
    {
     "name": "stdout",
     "output_type": "stream",
     "text": [
      "./ffmpeg -ss 40 -i $(youtube-dl -f mp4 --get-url http://www.youtube.com/watch?v=WqPGZBnNZ-Q) -t 10 -vn -c:v copy -c:a copy WqPGZBnNZ-Q.aac\n",
      "./ffmpeg -ss 10 -i $(youtube-dl -f mp4 --get-url http://www.youtube.com/watch?v=sGBJ8PaCkHQ) -t 10 -vn -c:v copy -c:a copy sGBJ8PaCkHQ.aac\n",
      "./ffmpeg -ss 380 -i $(youtube-dl -f mp4 --get-url http://www.youtube.com/watch?v=RSc2nO1Sv2o) -t 10 -vn -c:v copy -c:a copy RSc2nO1Sv2o.aac\n",
      "./ffmpeg -ss 220 -i $(youtube-dl -f mp4 --get-url http://www.youtube.com/watch?v=M5pMg9qhYj8) -t 10 -vn -c:v copy -c:a copy M5pMg9qhYj8.aac\n",
      "./ffmpeg -ss 70 -i $(youtube-dl -f mp4 --get-url http://www.youtube.com/watch?v=TVE8TAFE8Jc) -t 10 -vn -c:v copy -c:a copy TVE8TAFE8Jc.aac\n"
     ]
    },
    {
     "name": "stderr",
     "output_type": "stream",
     "text": [
      "  2%|▏         | 77/4783 [02:00<3:10:17,  2.43s/it]"
     ]
    },
    {
     "name": "stdout",
     "output_type": "stream",
     "text": [
      "./ffmpeg -ss 80 -i $(youtube-dl -f mp4 --get-url http://www.youtube.com/watch?v=30VU1Etmp-4) -t 10 -vn -c:v copy -c:a copy 30VU1Etmp-4.aac\n",
      "./ffmpeg -ss 30 -i $(youtube-dl -f mp4 --get-url http://www.youtube.com/watch?v=R3jKreMNI1M) -t 10 -vn -c:v copy -c:a copy R3jKreMNI1M.aac\n",
      "./ffmpeg -ss 80 -i $(youtube-dl -f mp4 --get-url http://www.youtube.com/watch?v=Sv3NS2sZF2k) -t 10 -vn -c:v copy -c:a copy Sv3NS2sZF2k.aac\n",
      "./ffmpeg -ss 0 -i $(youtube-dl -f mp4 --get-url http://www.youtube.com/watch?v=tpcV94PMNWo) -t 10 -vn -c:v copy -c:a copy tpcV94PMNWo.aac\n",
      "./ffmpeg -ss 110 -i $(youtube-dl -f mp4 --get-url http://www.youtube.com/watch?v=N_bP9QkW0IQ) -t 10 -vn -c:v copy -c:a copy N_bP9QkW0IQ.aac\n",
      "./ffmpeg -ss 40 -i $(youtube-dl -f mp4 --get-url http://www.youtube.com/watch?v=Jj7jme8PGPI) -t 10 -vn -c:v copy -c:a copy Jj7jme8PGPI.aac\n"
     ]
    },
    {
     "name": "stderr",
     "output_type": "stream",
     "text": [
      "  2%|▏         | 78/4783 [02:04<10:38:30,  8.14s/it]"
     ]
    },
    {
     "name": "stdout",
     "output_type": "stream",
     "text": [
      "./ffmpeg -ss 80 -i $(youtube-dl -f mp4 --get-url http://www.youtube.com/watch?v=Sj41ig6tqB4) -t 10 -vn -c:v copy -c:a copy Sj41ig6tqB4.aac\n"
     ]
    },
    {
     "name": "stderr",
     "output_type": "stream",
     "text": [
      "  2%|▏         | 88/4783 [02:06<7:29:40,  5.75s/it] "
     ]
    },
    {
     "name": "stdout",
     "output_type": "stream",
     "text": [
      "./ffmpeg -ss 0 -i $(youtube-dl -f mp4 --get-url http://www.youtube.com/watch?v=P7lm0m6L9NA) -t 10 -vn -c:v copy -c:a copy P7lm0m6L9NA.aac\n",
      "./ffmpeg -ss 200 -i $(youtube-dl -f mp4 --get-url http://www.youtube.com/watch?v=XO3hV37C5eE) -t 10 -vn -c:v copy -c:a copy XO3hV37C5eE.aac\n",
      "./ffmpeg -ss 30 -i $(youtube-dl -f mp4 --get-url http://www.youtube.com/watch?v=VAFRMhYLyLc) -t 10 -vn -c:v copy -c:a copy VAFRMhYLyLc.aac\n",
      "./ffmpeg -ss 70 -i $(youtube-dl -f mp4 --get-url http://www.youtube.com/watch?v=oGNqg-oRICk) -t 10 -vn -c:v copy -c:a copy oGNqg-oRICk.aac\n",
      "./ffmpeg -ss 30 -i $(youtube-dl -f mp4 --get-url http://www.youtube.com/watch?v=MR0Ps7xCaBQ) -t 10 -vn -c:v copy -c:a copy MR0Ps7xCaBQ.aac\n",
      "./ffmpeg -ss 190 -i $(youtube-dl -f mp4 --get-url http://www.youtube.com/watch?v=RNjnnB9Xabg) -t 10 -vn -c:v copy -c:a copy RNjnnB9Xabg.aac\n",
      "./ffmpeg -ss 0 -i $(youtube-dl -f mp4 --get-url http://www.youtube.com/watch?v=QJRtd4G1V0c) -t 10 -vn -c:v copy -c:a copy QJRtd4G1V0c.aac\n",
      "./ffmpeg -ss 90 -i $(youtube-dl -f mp4 --get-url http://www.youtube.com/watch?v=XYOvuIsXJQk) -t 10 -vn -c:v copy -c:a copy XYOvuIsXJQk.aac\n",
      "./ffmpeg -ss 290 -i $(youtube-dl -f mp4 --get-url http://www.youtube.com/watch?v=ZFXdM0c6Hr4) -t 10 -vn -c:v copy -c:a copy ZFXdM0c6Hr4.aac\n"
     ]
    },
    {
     "name": "stderr",
     "output_type": "stream",
     "text": [
      "  2%|▏         | 91/4783 [02:17<6:39:51,  5.11s/it]"
     ]
    },
    {
     "name": "stdout",
     "output_type": "stream",
     "text": [
      "./ffmpeg -ss 450 -i $(youtube-dl -f mp4 --get-url http://www.youtube.com/watch?v=1wV_2kgFARk) -t 10 -vn -c:v copy -c:a copy 1wV_2kgFARk.aac\n",
      "./ffmpeg -ss 10 -i $(youtube-dl -f mp4 --get-url http://www.youtube.com/watch?v=R6MnhM2omiE) -t 10 -vn -c:v copy -c:a copy R6MnhM2omiE.aac\n"
     ]
    },
    {
     "name": "stderr",
     "output_type": "stream",
     "text": [
      "  2%|▏         | 98/4783 [02:19<4:44:46,  3.65s/it]"
     ]
    },
    {
     "name": "stdout",
     "output_type": "stream",
     "text": [
      "./ffmpeg -ss 140 -i $(youtube-dl -f mp4 --get-url http://www.youtube.com/watch?v=-1ULAOFGdSY) -t 10 -vn -c:v copy -c:a copy -1ULAOFGdSY.aac\n",
      "./ffmpeg -ss 250 -i $(youtube-dl -f mp4 --get-url http://www.youtube.com/watch?v=WoxYnX3s0_8) -t 10 -vn -c:v copy -c:a copy WoxYnX3s0_8.aac\n",
      "./ffmpeg -ss 40 -i $(youtube-dl -f mp4 --get-url http://www.youtube.com/watch?v=5ANAGf2GViQ) -t 10 -vn -c:v copy -c:a copy 5ANAGf2GViQ.aac\n",
      "./ffmpeg -ss 120 -i $(youtube-dl -f mp4 --get-url http://www.youtube.com/watch?v=aruig2uBe6w) -t 10 -vn -c:v copy -c:a copy aruig2uBe6w.aac\n",
      "./ffmpeg -ss 270 -i $(youtube-dl -f mp4 --get-url http://www.youtube.com/watch?v=1icE61afXcY) -t 10 -vn -c:v copy -c:a copy 1icE61afXcY.aac\n",
      "./ffmpeg -ss 150 -i $(youtube-dl -f mp4 --get-url http://www.youtube.com/watch?v=msNRYcU3S_Q) -t 10 -vn -c:v copy -c:a copy msNRYcU3S_Q.aac\n",
      "./ffmpeg -ss 130 -i $(youtube-dl -f mp4 --get-url http://www.youtube.com/watch?v=hZC6ORUbLog) -t 10 -vn -c:v copy -c:a copy hZC6ORUbLog.aac\n",
      "./ffmpeg -ss 0 -i $(youtube-dl -f mp4 --get-url http://www.youtube.com/watch?v=AUBm1TNehQE) -t 10 -vn -c:v copy -c:a copy AUBm1TNehQE.aac\n",
      "./ffmpeg -ss 0 -i $(youtube-dl -f mp4 --get-url http://www.youtube.com/watch?v=K5TkfFZk-ro) -t 10 -vn -c:v copy -c:a copy K5TkfFZk-ro.aac\n",
      "./ffmpeg -ss 10 -i $(youtube-dl -f mp4 --get-url http://www.youtube.com/watch?v=Gbb-4Nb4bqM) -t 10 -vn -c:v copy -c:a copy Gbb-4Nb4bqM.aac\n",
      "./ffmpeg -ss 40 -i $(youtube-dl -f mp4 --get-url http://www.youtube.com/watch?v=sUVUOiVRLDY) -t 10 -vn -c:v copy -c:a copy sUVUOiVRLDY.aac\n"
     ]
    },
    {
     "name": "stderr",
     "output_type": "stream",
     "text": [
      "  2%|▏         | 100/4783 [02:34<6:19:23,  4.86s/it]"
     ]
    },
    {
     "name": "stdout",
     "output_type": "stream",
     "text": [
      "./ffmpeg -ss 230 -i $(youtube-dl -f mp4 --get-url http://www.youtube.com/watch?v=RBbfq7ftaYc) -t 10 -vn -c:v copy -c:a copy RBbfq7ftaYc.aac\n"
     ]
    },
    {
     "name": "stderr",
     "output_type": "stream",
     "text": [
      "  2%|▏         | 111/4783 [02:34<4:25:46,  3.41s/it]"
     ]
    },
    {
     "name": "stdout",
     "output_type": "stream",
     "text": [
      "./ffmpeg -ss 200 -i $(youtube-dl -f mp4 --get-url http://www.youtube.com/watch?v=pjAZTbwUEzI) -t 10 -vn -c:v copy -c:a copy pjAZTbwUEzI.aac\n",
      "./ffmpeg -ss 30 -i $(youtube-dl -f mp4 --get-url http://www.youtube.com/watch?v=I3nRRJLPEZQ) -t 10 -vn -c:v copy -c:a copy I3nRRJLPEZQ.aac\n",
      "./ffmpeg -ss 40 -i $(youtube-dl -f mp4 --get-url http://www.youtube.com/watch?v=_8ZR4r9pFbU) -t 10 -vn -c:v copy -c:a copy _8ZR4r9pFbU.aac\n",
      "./ffmpeg -ss 440 -i $(youtube-dl -f mp4 --get-url http://www.youtube.com/watch?v=Pi3R9TBcWck) -t 10 -vn -c:v copy -c:a copy Pi3R9TBcWck.aac\n"
     ]
    },
    {
     "name": "stderr",
     "output_type": "stream",
     "text": [
      "  2%|▏         | 113/4783 [02:40<4:10:56,  3.22s/it]"
     ]
    },
    {
     "name": "stdout",
     "output_type": "stream",
     "text": [
      "./ffmpeg -ss 20 -i $(youtube-dl -f mp4 --get-url http://www.youtube.com/watch?v=TVxxjXDDXp0) -t 10 -vn -c:v copy -c:a copy TVxxjXDDXp0.aac\n"
     ]
    },
    {
     "name": "stderr",
     "output_type": "stream",
     "text": [
      "  2%|▏         | 117/4783 [02:45<3:27:25,  2.67s/it]"
     ]
    },
    {
     "name": "stdout",
     "output_type": "stream",
     "text": [
      "./ffmpeg -ss 30 -i $(youtube-dl -f mp4 --get-url http://www.youtube.com/watch?v=_yWaRQjKfcU) -t 10 -vn -c:v copy -c:a copy _yWaRQjKfcU.aac\n"
     ]
    },
    {
     "name": "stderr",
     "output_type": "stream",
     "text": [
      "  3%|▎         | 120/4783 [02:48<2:42:47,  2.09s/it]"
     ]
    },
    {
     "name": "stdout",
     "output_type": "stream",
     "text": [
      "./ffmpeg -ss 30 -i $(youtube-dl -f mp4 --get-url http://www.youtube.com/watch?v=OoMrdHDPwTo) -t 10 -vn -c:v copy -c:a copy OoMrdHDPwTo.aac\n",
      "./ffmpeg -ss 130 -i $(youtube-dl -f mp4 --get-url http://www.youtube.com/watch?v=hJuTwAIPMuw) -t 10 -vn -c:v copy -c:a copy hJuTwAIPMuw.aac\n",
      "./ffmpeg -ss 0 -i $(youtube-dl -f mp4 --get-url http://www.youtube.com/watch?v=9lp_p1XOI-4) -t 10 -vn -c:v copy -c:a copy 9lp_p1XOI-4.aac\n"
     ]
    },
    {
     "name": "stderr",
     "output_type": "stream",
     "text": [
      "  3%|▎         | 121/4783 [02:52<3:26:55,  2.66s/it]"
     ]
    },
    {
     "name": "stdout",
     "output_type": "stream",
     "text": [
      "./ffmpeg -ss 240 -i $(youtube-dl -f mp4 --get-url http://www.youtube.com/watch?v=H41km4VSQ9A) -t 10 -vn -c:v copy -c:a copy H41km4VSQ9A.aac\n"
     ]
    },
    {
     "name": "stderr",
     "output_type": "stream",
     "text": [
      "  3%|▎         | 122/4783 [02:53<3:08:37,  2.43s/it]"
     ]
    },
    {
     "name": "stdout",
     "output_type": "stream",
     "text": [
      "./ffmpeg -ss 23 -i $(youtube-dl -f mp4 --get-url http://www.youtube.com/watch?v=IZ5CV3Wv9K4) -t 10 -vn -c:v copy -c:a copy IZ5CV3Wv9K4.aac\n",
      "./ffmpeg -ss 140 -i $(youtube-dl -f mp4 --get-url http://www.youtube.com/watch?v=KjWhEv_t0I8) -t 10 -vn -c:v copy -c:a copy KjWhEv_t0I8.aac\n"
     ]
    },
    {
     "name": "stderr",
     "output_type": "stream",
     "text": [
      "  3%|▎         | 123/4783 [02:54<2:21:51,  1.83s/it]"
     ]
    },
    {
     "name": "stdout",
     "output_type": "stream",
     "text": [
      "./ffmpeg -ss 320 -i $(youtube-dl -f mp4 --get-url http://www.youtube.com/watch?v=jJrP7ZF9_WA) -t 10 -vn -c:v copy -c:a copy jJrP7ZF9_WA.aac\n",
      "./ffmpeg -ss 210 -i $(youtube-dl -f mp4 --get-url http://www.youtube.com/watch?v=-l3Retcka6Q) -t 10 -vn -c:v copy -c:a copy -l3Retcka6Q.aac\n",
      "./ffmpeg -ss 0 -i $(youtube-dl -f mp4 --get-url http://www.youtube.com/watch?v=DI1oCyPIcs0) -t 10 -vn -c:v copy -c:a copy DI1oCyPIcs0.aac\n",
      "./ffmpeg -ss 40 -i $(youtube-dl -f mp4 --get-url http://www.youtube.com/watch?v=5dByRm2LyFI) -t 10 -vn -c:v copy -c:a copy 5dByRm2LyFI.aac\n",
      "./ffmpeg -ss 430 -i $(youtube-dl -f mp4 --get-url http://www.youtube.com/watch?v=lTkSOVbl4rQ) -t 10 -vn -c:v copy -c:a copy lTkSOVbl4rQ.aac\n",
      "./ffmpeg -ss 430 -i $(youtube-dl -f mp4 --get-url http://www.youtube.com/watch?v=fe84Lhms8Ok) -t 10 -vn -c:v copy -c:a copy fe84Lhms8Ok.aac\n"
     ]
    },
    {
     "name": "stderr",
     "output_type": "stream",
     "text": [
      "  3%|▎         | 124/4783 [03:03<5:12:25,  4.02s/it]"
     ]
    },
    {
     "name": "stdout",
     "output_type": "stream",
     "text": [
      "./ffmpeg -ss 30 -i $(youtube-dl -f mp4 --get-url http://www.youtube.com/watch?v=FtTlEP_4_UA) -t 10 -vn -c:v copy -c:a copy FtTlEP_4_UA.aac\n",
      "./ffmpeg -ss 50 -i $(youtube-dl -f mp4 --get-url http://www.youtube.com/watch?v=1Fv96_LGKn4) -t 10 -vn -c:v copy -c:a copy 1Fv96_LGKn4.aac\n",
      "./ffmpeg -ss 510 -i $(youtube-dl -f mp4 --get-url http://www.youtube.com/watch?v=5C6N7PHTqEY) -t 10 -vn -c:v copy -c:a copy 5C6N7PHTqEY.aac\n",
      "./ffmpeg -ss 40 -i $(youtube-dl -f mp4 --get-url http://www.youtube.com/watch?v=F-yVA-9y8PI) -t 10 -vn -c:v copy -c:a copy F-yVA-9y8PI.aac\n",
      "./ffmpeg -ss 160 -i $(youtube-dl -f mp4 --get-url http://www.youtube.com/watch?v=2JdWnTM2phE) -t 10 -vn -c:v copy -c:a copy 2JdWnTM2phE.aac\n",
      "./ffmpeg -ss 340 -i $(youtube-dl -f mp4 --get-url http://www.youtube.com/watch?v=QHjxUiKyh2U) -t 10 -vn -c:v copy -c:a copy QHjxUiKyh2U.aac\n"
     ]
    },
    {
     "name": "stderr",
     "output_type": "stream",
     "text": [
      "  3%|▎         | 128/4783 [03:07<4:02:40,  3.13s/it]"
     ]
    },
    {
     "name": "stdout",
     "output_type": "stream",
     "text": [
      "./ffmpeg -ss 10 -i $(youtube-dl -f mp4 --get-url http://www.youtube.com/watch?v=MKvtd8P_bFQ) -t 10 -vn -c:v copy -c:a copy MKvtd8P_bFQ.aac\n",
      "./ffmpeg -ss 60 -i $(youtube-dl -f mp4 --get-url http://www.youtube.com/watch?v=7Cnhf6ii9BI) -t 10 -vn -c:v copy -c:a copy 7Cnhf6ii9BI.aac\n",
      "./ffmpeg -ss 90 -i $(youtube-dl -f mp4 --get-url http://www.youtube.com/watch?v=ezokWiv4O1k) -t 10 -vn -c:v copy -c:a copy ezokWiv4O1k.aac\n",
      "./ffmpeg -ss 60 -i $(youtube-dl -f mp4 --get-url http://www.youtube.com/watch?v=PNr20mlYtIM) -t 10 -vn -c:v copy -c:a copy PNr20mlYtIM.aac\n",
      "./ffmpeg -ss 570 -i $(youtube-dl -f mp4 --get-url http://www.youtube.com/watch?v=Gy5LpIVP_a8) -t 10 -vn -c:v copy -c:a copy Gy5LpIVP_a8.aac\n"
     ]
    },
    {
     "name": "stderr",
     "output_type": "stream",
     "text": [
      "  3%|▎         | 137/4783 [03:15<3:10:09,  2.46s/it]"
     ]
    },
    {
     "name": "stdout",
     "output_type": "stream",
     "text": [
      "./ffmpeg -ss 0 -i $(youtube-dl -f mp4 --get-url http://www.youtube.com/watch?v=zd6mmRZtRcE) -t 10 -vn -c:v copy -c:a copy zd6mmRZtRcE.aac\n",
      "./ffmpeg -ss 50 -i $(youtube-dl -f mp4 --get-url http://www.youtube.com/watch?v=LJ3Amz87cys) -t 10 -vn -c:v copy -c:a copy LJ3Amz87cys.aac\n",
      "./ffmpeg -ss 0 -i $(youtube-dl -f mp4 --get-url http://www.youtube.com/watch?v=VXxAxgU6AUs) -t 10 -vn -c:v copy -c:a copy VXxAxgU6AUs.aac\n",
      "./ffmpeg -ss 100 -i $(youtube-dl -f mp4 --get-url http://www.youtube.com/watch?v=OIXTvIUk8EM) -t 10 -vn -c:v copy -c:a copy OIXTvIUk8EM.aac\n"
     ]
    },
    {
     "name": "stderr",
     "output_type": "stream",
     "text": [
      "  3%|▎         | 141/4783 [03:21<2:45:43,  2.14s/it]"
     ]
    },
    {
     "name": "stdout",
     "output_type": "stream",
     "text": [
      "./ffmpeg -ss 100 -i $(youtube-dl -f mp4 --get-url http://www.youtube.com/watch?v=bKQDkkMA7UE) -t 10 -vn -c:v copy -c:a copy bKQDkkMA7UE.aac\n",
      "./ffmpeg -ss 190 -i $(youtube-dl -f mp4 --get-url http://www.youtube.com/watch?v=3xRTyu4ZG2A) -t 10 -vn -c:v copy -c:a copy 3xRTyu4ZG2A.aac\n",
      "./ffmpeg -ss 400 -i $(youtube-dl -f mp4 --get-url http://www.youtube.com/watch?v=KHwW6MEAvuw) -t 10 -vn -c:v copy -c:a copy KHwW6MEAvuw.aac\n",
      "./ffmpeg -ss 60 -i $(youtube-dl -f mp4 --get-url http://www.youtube.com/watch?v=d0RHoPCZrWg) -t 10 -vn -c:v copy -c:a copy d0RHoPCZrWg.aac\n",
      "./ffmpeg -ss 110 -i $(youtube-dl -f mp4 --get-url http://www.youtube.com/watch?v=aVys2fDiamQ) -t 10 -vn -c:v copy -c:a copy aVys2fDiamQ.aac\n",
      "./ffmpeg -ss 30 -i $(youtube-dl -f mp4 --get-url http://www.youtube.com/watch?v=ZcQn6edU73I) -t 10 -vn -c:v copy -c:a copy ZcQn6edU73I.aac\n",
      "./ffmpeg -ss 100 -i $(youtube-dl -f mp4 --get-url http://www.youtube.com/watch?v=5SjuRNPE3Qw) -t 10 -vn -c:v copy -c:a copy 5SjuRNPE3Qw.aac\n",
      "./ffmpeg -ss 110 -i $(youtube-dl -f mp4 --get-url http://www.youtube.com/watch?v=xB5ayMWljlk) -t 10 -vn -c:v copy -c:a copy xB5ayMWljlk.aac\n"
     ]
    },
    {
     "name": "stderr",
     "output_type": "stream",
     "text": [
      "  3%|▎         | 142/4783 [03:33<6:39:59,  5.17s/it]"
     ]
    },
    {
     "name": "stdout",
     "output_type": "stream",
     "text": [
      "./ffmpeg -ss 20 -i $(youtube-dl -f mp4 --get-url http://www.youtube.com/watch?v=7NU70aOtOm0) -t 10 -vn -c:v copy -c:a copy 7NU70aOtOm0.aac\n",
      "./ffmpeg -ss 60 -i $(youtube-dl -f mp4 --get-url http://www.youtube.com/watch?v=lF3BmRUYqsM) -t 10 -vn -c:v copy -c:a copy lF3BmRUYqsM.aac\n",
      "./ffmpeg -ss 250 -i $(youtube-dl -f mp4 --get-url http://www.youtube.com/watch?v=KuXu6-TU55w) -t 10 -vn -c:v copy -c:a copy KuXu6-TU55w.aac\n",
      "./ffmpeg -ss 230 -i $(youtube-dl -f mp4 --get-url http://www.youtube.com/watch?v=h6kUtFhJnAc) -t 10 -vn -c:v copy -c:a copy h6kUtFhJnAc.aac\n",
      "./ffmpeg -ss 70 -i $(youtube-dl -f mp4 --get-url http://www.youtube.com/watch?v=fJQwRcF2u5w) -t 10 -vn -c:v copy -c:a copy fJQwRcF2u5w.aac\n",
      "./ffmpeg -ss 50 -i $(youtube-dl -f mp4 --get-url http://www.youtube.com/watch?v=D9dvvD3-dL0) -t 10 -vn -c:v copy -c:a copy D9dvvD3-dL0.aac\n"
     ]
    },
    {
     "name": "stderr",
     "output_type": "stream",
     "text": [
      "  3%|▎         | 148/4783 [03:41<5:11:38,  4.03s/it]"
     ]
    },
    {
     "name": "stdout",
     "output_type": "stream",
     "text": [
      "./ffmpeg -ss 300 -i $(youtube-dl -f mp4 --get-url http://www.youtube.com/watch?v=rJ2e5RJGxrQ) -t 10 -vn -c:v copy -c:a copy rJ2e5RJGxrQ.aac\n",
      "./ffmpeg -ss 110 -i $(youtube-dl -f mp4 --get-url http://www.youtube.com/watch?v=nIl8BprnySM) -t 10 -vn -c:v copy -c:a copy nIl8BprnySM.aac\n",
      "./ffmpeg -ss 260 -i $(youtube-dl -f mp4 --get-url http://www.youtube.com/watch?v=qRSBmQkz_Uk) -t 10 -vn -c:v copy -c:a copy qRSBmQkz_Uk.aac\n",
      "./ffmpeg -ss 140 -i $(youtube-dl -f mp4 --get-url http://www.youtube.com/watch?v=h7faxUS-kOc) -t 10 -vn -c:v copy -c:a copy h7faxUS-kOc.aac\n",
      "./ffmpeg -ss 80 -i $(youtube-dl -f mp4 --get-url http://www.youtube.com/watch?v=-dqVSjWbmlE) -t 10 -vn -c:v copy -c:a copy -dqVSjWbmlE.aac\n",
      "./ffmpeg -ss 320 -i $(youtube-dl -f mp4 --get-url http://www.youtube.com/watch?v=YYq74aMU8V0) -t 10 -vn -c:v copy -c:a copy YYq74aMU8V0.aac\n",
      "./ffmpeg -ss 10 -i $(youtube-dl -f mp4 --get-url http://www.youtube.com/watch?v=OAR5MTctsks) -t 10 -vn -c:v copy -c:a copy OAR5MTctsks.aac\n",
      "./ffmpeg -ss 60 -i $(youtube-dl -f mp4 --get-url http://www.youtube.com/watch?v=W0t1RTDIcgo) -t 10 -vn -c:v copy -c:a copy W0t1RTDIcgo.aac\n"
     ]
    },
    {
     "name": "stderr",
     "output_type": "stream",
     "text": [
      "  3%|▎         | 159/4783 [03:50<3:56:34,  3.07s/it]"
     ]
    },
    {
     "name": "stdout",
     "output_type": "stream",
     "text": [
      "./ffmpeg -ss 30 -i $(youtube-dl -f mp4 --get-url http://www.youtube.com/watch?v=zNswU3Pmyn0) -t 10 -vn -c:v copy -c:a copy zNswU3Pmyn0.aac\n",
      "./ffmpeg -ss 40 -i $(youtube-dl -f mp4 --get-url http://www.youtube.com/watch?v=QBE-5LXgc7g) -t 10 -vn -c:v copy -c:a copy QBE-5LXgc7g.aac\n",
      "./ffmpeg -ss 10 -i $(youtube-dl -f mp4 --get-url http://www.youtube.com/watch?v=W3hmHCYWBlU) -t 10 -vn -c:v copy -c:a copy W3hmHCYWBlU.aac\n"
     ]
    },
    {
     "name": "stderr",
     "output_type": "stream",
     "text": [
      "  3%|▎         | 161/4783 [04:00<4:37:24,  3.60s/it]"
     ]
    },
    {
     "name": "stdout",
     "output_type": "stream",
     "text": [
      "./ffmpeg -ss 0 -i $(youtube-dl -f mp4 --get-url http://www.youtube.com/watch?v=ZatA1G8A_ec) -t 10 -vn -c:v copy -c:a copy ZatA1G8A_ec.aac\n",
      "./ffmpeg -ss 360 -i $(youtube-dl -f mp4 --get-url http://www.youtube.com/watch?v=qjA52a7dE_s) -t 10 -vn -c:v copy -c:a copy qjA52a7dE_s.aac\n"
     ]
    },
    {
     "name": "stderr",
     "output_type": "stream",
     "text": [
      "  4%|▎         | 170/4783 [04:01<3:16:43,  2.56s/it]"
     ]
    },
    {
     "name": "stdout",
     "output_type": "stream",
     "text": [
      "./ffmpeg -ss 150 -i $(youtube-dl -f mp4 --get-url http://www.youtube.com/watch?v=36p9gmJL0uM) -t 10 -vn -c:v copy -c:a copy 36p9gmJL0uM.aac\n"
     ]
    },
    {
     "name": "stderr",
     "output_type": "stream",
     "text": [
      "  4%|▎         | 172/4783 [04:03<2:36:23,  2.04s/it]"
     ]
    },
    {
     "name": "stdout",
     "output_type": "stream",
     "text": [
      "./ffmpeg -ss 340 -i $(youtube-dl -f mp4 --get-url http://www.youtube.com/watch?v=WKABcMOygLo) -t 10 -vn -c:v copy -c:a copy WKABcMOygLo.aac\n",
      "./ffmpeg -ss 130 -i $(youtube-dl -f mp4 --get-url http://www.youtube.com/watch?v=JtlBTAm3ImM) -t 10 -vn -c:v copy -c:a copy JtlBTAm3ImM.aac\n",
      "./ffmpeg -ss 50 -i $(youtube-dl -f mp4 --get-url http://www.youtube.com/watch?v=lQftSjhlF-A) -t 10 -vn -c:v copy -c:a copy lQftSjhlF-A.aac\n",
      "./ffmpeg -ss 80 -i $(youtube-dl -f mp4 --get-url http://www.youtube.com/watch?v=w-AC_zhxJkA) -t 10 -vn -c:v copy -c:a copy w-AC_zhxJkA.aac\n",
      "./ffmpeg -ss 10 -i $(youtube-dl -f mp4 --get-url http://www.youtube.com/watch?v=Ue-lS3DjBIc) -t 10 -vn -c:v copy -c:a copy Ue-lS3DjBIc.aac\n",
      "./ffmpeg -ss 30 -i $(youtube-dl -f mp4 --get-url http://www.youtube.com/watch?v=fGSLYiQRtDY) -t 10 -vn -c:v copy -c:a copy fGSLYiQRtDY.aac\n",
      "./ffmpeg -ss 50 -i $(youtube-dl -f mp4 --get-url http://www.youtube.com/watch?v=I31Rgoh3IG0) -t 10 -vn -c:v copy -c:a copy I31Rgoh3IG0.aac\n",
      "./ffmpeg -ss 80 -i $(youtube-dl -f mp4 --get-url http://www.youtube.com/watch?v=UM0jtD_OWLU) -t 10 -vn -c:v copy -c:a copy UM0jtD_OWLU.aac\n",
      "./ffmpeg -ss 30 -i $(youtube-dl -f mp4 --get-url http://www.youtube.com/watch?v=ELBrNPNni8E) -t 10 -vn -c:v copy -c:a copy ELBrNPNni8E.aac\n"
     ]
    },
    {
     "name": "stderr",
     "output_type": "stream",
     "text": [
      "  4%|▎         | 175/4783 [04:17<3:35:59,  2.81s/it]"
     ]
    },
    {
     "name": "stdout",
     "output_type": "stream",
     "text": [
      "./ffmpeg -ss 250 -i $(youtube-dl -f mp4 --get-url http://www.youtube.com/watch?v=GctsXX2fFHs) -t 10 -vn -c:v copy -c:a copy GctsXX2fFHs.aac\n",
      "./ffmpeg -ss 60 -i $(youtube-dl -f mp4 --get-url http://www.youtube.com/watch?v=78ULhEfyJzM) -t 10 -vn -c:v copy -c:a copy 78ULhEfyJzM.aac\n",
      "./ffmpeg -ss 290 -i $(youtube-dl -f mp4 --get-url http://www.youtube.com/watch?v=cCv7uGu8w8E) -t 10 -vn -c:v copy -c:a copy cCv7uGu8w8E.aac\n",
      "./ffmpeg -ss 50 -i $(youtube-dl -f mp4 --get-url http://www.youtube.com/watch?v=brxn-ABfFmM) -t 10 -vn -c:v copy -c:a copy brxn-ABfFmM.aac\n"
     ]
    },
    {
     "name": "stderr",
     "output_type": "stream",
     "text": [
      "  4%|▎         | 176/4783 [04:19<3:35:12,  2.80s/it]"
     ]
    },
    {
     "name": "stdout",
     "output_type": "stream",
     "text": [
      "./ffmpeg -ss 230 -i $(youtube-dl -f mp4 --get-url http://www.youtube.com/watch?v=_h0oolklKPU) -t 10 -vn -c:v copy -c:a copy _h0oolklKPU.aac\n",
      "./ffmpeg -ss 260 -i $(youtube-dl -f mp4 --get-url http://www.youtube.com/watch?v=vOBwYHOr4Iw) -t 10 -vn -c:v copy -c:a copy vOBwYHOr4Iw.aac\n"
     ]
    },
    {
     "name": "stderr",
     "output_type": "stream",
     "text": [
      "  4%|▍         | 185/4783 [04:22<2:36:20,  2.04s/it]"
     ]
    },
    {
     "name": "stdout",
     "output_type": "stream",
     "text": [
      "./ffmpeg -ss 20 -i $(youtube-dl -f mp4 --get-url http://www.youtube.com/watch?v=6wVdIKsbRR0) -t 10 -vn -c:v copy -c:a copy 6wVdIKsbRR0.aac\n",
      "./ffmpeg -ss 220 -i $(youtube-dl -f mp4 --get-url http://www.youtube.com/watch?v=Ud28-APusGo) -t 10 -vn -c:v copy -c:a copy Ud28-APusGo.aac\n",
      "./ffmpeg -ss 78 -i $(youtube-dl -f mp4 --get-url http://www.youtube.com/watch?v=zCR4hZ5YYao) -t 10 -vn -c:v copy -c:a copy zCR4hZ5YYao.aac\n",
      "./ffmpeg -ss 190 -i $(youtube-dl -f mp4 --get-url http://www.youtube.com/watch?v=n2-PNfp11RQ) -t 10 -vn -c:v copy -c:a copy n2-PNfp11RQ.aac\n"
     ]
    },
    {
     "name": "stderr",
     "output_type": "stream",
     "text": [
      "  4%|▍         | 188/4783 [04:28<2:34:01,  2.01s/it]"
     ]
    },
    {
     "name": "stdout",
     "output_type": "stream",
     "text": [
      "./ffmpeg -ss 70 -i $(youtube-dl -f mp4 --get-url http://www.youtube.com/watch?v=lFCVy_3Larc) -t 10 -vn -c:v copy -c:a copy lFCVy_3Larc.aac\n",
      "./ffmpeg -ss 0 -i $(youtube-dl -f mp4 --get-url http://www.youtube.com/watch?v=q1tXda1q388) -t 10 -vn -c:v copy -c:a copy q1tXda1q388.aac\n",
      "./ffmpeg -ss 140 -i $(youtube-dl -f mp4 --get-url http://www.youtube.com/watch?v=dAFH6RNzw2w) -t 10 -vn -c:v copy -c:a copy dAFH6RNzw2w.aac\n"
     ]
    },
    {
     "name": "stderr",
     "output_type": "stream",
     "text": [
      "  4%|▍         | 189/4783 [04:32<3:18:26,  2.59s/it]"
     ]
    },
    {
     "name": "stdout",
     "output_type": "stream",
     "text": [
      "./ffmpeg -ss 50 -i $(youtube-dl -f mp4 --get-url http://www.youtube.com/watch?v=4l5N3a7sOco) -t 10 -vn -c:v copy -c:a copy 4l5N3a7sOco.aac\n",
      "./ffmpeg -ss 60 -i $(youtube-dl -f mp4 --get-url http://www.youtube.com/watch?v=WI-maJWW-Es) -t 10 -vn -c:v copy -c:a copy WI-maJWW-Es.aac\n"
     ]
    },
    {
     "name": "stderr",
     "output_type": "stream",
     "text": [
      "  4%|▍         | 191/4783 [04:32<2:27:14,  1.92s/it]"
     ]
    },
    {
     "name": "stdout",
     "output_type": "stream",
     "text": [
      "./ffmpeg -ss 0 -i $(youtube-dl -f mp4 --get-url http://www.youtube.com/watch?v=yxFf1MTUAO0) -t 10 -vn -c:v copy -c:a copy yxFf1MTUAO0.aac\n",
      "./ffmpeg -ss 10 -i $(youtube-dl -f mp4 --get-url http://www.youtube.com/watch?v=0i9Iav5d0uc) -t 10 -vn -c:v copy -c:a copy 0i9Iav5d0uc.aac\n",
      "./ffmpeg -ss 330 -i $(youtube-dl -f mp4 --get-url http://www.youtube.com/watch?v=YGXnuDwzB3M) -t 10 -vn -c:v copy -c:a copy YGXnuDwzB3M.aac\n",
      "./ffmpeg -ss 240 -i $(youtube-dl -f mp4 --get-url http://www.youtube.com/watch?v=twxW1Epe3eM) -t 10 -vn -c:v copy -c:a copy twxW1Epe3eM.aac\n"
     ]
    },
    {
     "name": "stderr",
     "output_type": "stream",
     "text": [
      "  4%|▍         | 201/4783 [04:36<1:51:44,  1.46s/it]"
     ]
    },
    {
     "name": "stdout",
     "output_type": "stream",
     "text": [
      "./ffmpeg -ss 400 -i $(youtube-dl -f mp4 --get-url http://www.youtube.com/watch?v=9oyHOr669ew) -t 10 -vn -c:v copy -c:a copy 9oyHOr669ew.aac\n",
      "./ffmpeg -ss 80 -i $(youtube-dl -f mp4 --get-url http://www.youtube.com/watch?v=gbJDlmNOeMk) -t 10 -vn -c:v copy -c:a copy gbJDlmNOeMk.aac\n",
      "./ffmpeg -ss 10 -i $(youtube-dl -f mp4 --get-url http://www.youtube.com/watch?v=LacclAbrjOo) -t 10 -vn -c:v copy -c:a copy LacclAbrjOo.aac\n",
      "./ffmpeg -ss 30 -i $(youtube-dl -f mp4 --get-url http://www.youtube.com/watch?v=dC6npR9tnC0) -t 10 -vn -c:v copy -c:a copy dC6npR9tnC0.aac\n",
      "./ffmpeg -ss 30 -i $(youtube-dl -f mp4 --get-url http://www.youtube.com/watch?v=66LwbmqNvGs) -t 10 -vn -c:v copy -c:a copy 66LwbmqNvGs.aac\n",
      "./ffmpeg -ss 50 -i $(youtube-dl -f mp4 --get-url http://www.youtube.com/watch?v=jGo-VX9F78s) -t 10 -vn -c:v copy -c:a copy jGo-VX9F78s.aac\n",
      "./ffmpeg -ss 110 -i $(youtube-dl -f mp4 --get-url http://www.youtube.com/watch?v=se6ym1967Gg) -t 10 -vn -c:v copy -c:a copy se6ym1967Gg.aac\n",
      "./ffmpeg -ss 30 -i $(youtube-dl -f mp4 --get-url http://www.youtube.com/watch?v=2P-4c_NnpJI) -t 10 -vn -c:v copy -c:a copy 2P-4c_NnpJI.aac\n",
      "./ffmpeg -ss 0 -i $(youtube-dl -f mp4 --get-url http://www.youtube.com/watch?v=wZu3JXupGwY) -t 10 -vn -c:v copy -c:a copy wZu3JXupGwY.aac\n",
      "./ffmpeg -ss 390 -i $(youtube-dl -f mp4 --get-url http://www.youtube.com/watch?v=_gB2zRChAnc) -t 10 -vn -c:v copy -c:a copy _gB2zRChAnc.aac\n",
      "./ffmpeg -ss 30 -i $(youtube-dl -f mp4 --get-url http://www.youtube.com/watch?v=O5tcVBEyvvA) -t 10 -vn -c:v copy -c:a copy O5tcVBEyvvA.aac\n"
     ]
    },
    {
     "name": "stderr",
     "output_type": "stream",
     "text": [
      "  4%|▍         | 204/4783 [04:50<3:02:16,  2.39s/it]"
     ]
    },
    {
     "name": "stdout",
     "output_type": "stream",
     "text": [
      "./ffmpeg -ss 30 -i $(youtube-dl -f mp4 --get-url http://www.youtube.com/watch?v=DaqD3qiytjc) -t 10 -vn -c:v copy -c:a copy DaqD3qiytjc.aac\n",
      "./ffmpeg -ss 20 -i $(youtube-dl -f mp4 --get-url http://www.youtube.com/watch?v=JVs75jOue4M) -t 10 -vn -c:v copy -c:a copy JVs75jOue4M.aac\n",
      "./ffmpeg -ss 110 -i $(youtube-dl -f mp4 --get-url http://www.youtube.com/watch?v=sIcnBG4re4g) -t 10 -vn -c:v copy -c:a copy sIcnBG4re4g.aac\n",
      "./ffmpeg -ss 310 -i $(youtube-dl -f mp4 --get-url http://www.youtube.com/watch?v=Cz6ABlxU3Iw) -t 10 -vn -c:v copy -c:a copy Cz6ABlxU3Iw.aac\n",
      "./ffmpeg -ss 10 -i $(youtube-dl -f mp4 --get-url http://www.youtube.com/watch?v=ua2ZFC3ASSE) -t 10 -vn -c:v copy -c:a copy ua2ZFC3ASSE.aac\n",
      "./ffmpeg -ss 20 -i $(youtube-dl -f mp4 --get-url http://www.youtube.com/watch?v=hETHfrBnyI8) -t 10 -vn -c:v copy -c:a copy hETHfrBnyI8.aac\n"
     ]
    },
    {
     "name": "stderr",
     "output_type": "stream",
     "text": [
      "  4%|▍         | 212/4783 [04:55<2:22:08,  1.87s/it]"
     ]
    },
    {
     "name": "stdout",
     "output_type": "stream",
     "text": [
      "./ffmpeg -ss 110 -i $(youtube-dl -f mp4 --get-url http://www.youtube.com/watch?v=y40KBuFV8Xc) -t 10 -vn -c:v copy -c:a copy y40KBuFV8Xc.aac\n"
     ]
    },
    {
     "name": "stderr",
     "output_type": "stream",
     "text": [
      "  5%|▍         | 221/4783 [04:56<1:41:33,  1.34s/it]"
     ]
    },
    {
     "name": "stdout",
     "output_type": "stream",
     "text": [
      "./ffmpeg -ss 110 -i $(youtube-dl -f mp4 --get-url http://www.youtube.com/watch?v=e-s4f04ebCo) -t 10 -vn -c:v copy -c:a copy e-s4f04ebCo.aac\n",
      "./ffmpeg -ss 0 -i $(youtube-dl -f mp4 --get-url http://www.youtube.com/watch?v=b8GuY4NGIAY) -t 10 -vn -c:v copy -c:a copy b8GuY4NGIAY.aac\n",
      "./ffmpeg -ss 100 -i $(youtube-dl -f mp4 --get-url http://www.youtube.com/watch?v=_G2se_i1dv4) -t 10 -vn -c:v copy -c:a copy _G2se_i1dv4.aac\n",
      "./ffmpeg -ss 40 -i $(youtube-dl -f mp4 --get-url http://www.youtube.com/watch?v=3MQWf11N8XE) -t 10 -vn -c:v copy -c:a copy 3MQWf11N8XE.aac\n",
      "./ffmpeg -ss 190 -i $(youtube-dl -f mp4 --get-url http://www.youtube.com/watch?v=jzUqhGRU2Bk) -t 10 -vn -c:v copy -c:a copy jzUqhGRU2Bk.aac\n",
      "./ffmpeg -ss 10 -i $(youtube-dl -f mp4 --get-url http://www.youtube.com/watch?v=W-JZTPnaAmY) -t 10 -vn -c:v copy -c:a copy W-JZTPnaAmY.aac\n",
      "./ffmpeg -ss 80 -i $(youtube-dl -f mp4 --get-url http://www.youtube.com/watch?v=iDlKptAhpWE) -t 10 -vn -c:v copy -c:a copy iDlKptAhpWE.aac\n",
      "./ffmpeg -ss 250 -i $(youtube-dl -f mp4 --get-url http://www.youtube.com/watch?v=iENHKbwJHiw) -t 10 -vn -c:v copy -c:a copy iENHKbwJHiw.aac\n",
      "./ffmpeg -ss 240 -i $(youtube-dl -f mp4 --get-url http://www.youtube.com/watch?v=68hqYjNVsC0) -t 10 -vn -c:v copy -c:a copy 68hqYjNVsC0.aac\n",
      "./ffmpeg -ss 160 -i $(youtube-dl -f mp4 --get-url http://www.youtube.com/watch?v=JWnI3UvIzQ4) -t 10 -vn -c:v copy -c:a copy JWnI3UvIzQ4.aac\n"
     ]
    },
    {
     "name": "stderr",
     "output_type": "stream",
     "text": [
      "  5%|▍         | 222/4783 [05:11<6:46:41,  5.35s/it]"
     ]
    },
    {
     "name": "stdout",
     "output_type": "stream",
     "text": [
      "./ffmpeg -ss 90 -i $(youtube-dl -f mp4 --get-url http://www.youtube.com/watch?v=BBDbm63XzDc) -t 10 -vn -c:v copy -c:a copy BBDbm63XzDc.aac\n",
      "./ffmpeg -ss 20 -i $(youtube-dl -f mp4 --get-url http://www.youtube.com/watch?v=NynNwv9yu-I) -t 10 -vn -c:v copy -c:a copy NynNwv9yu-I.aac\n",
      "./ffmpeg -ss 160 -i $(youtube-dl -f mp4 --get-url http://www.youtube.com/watch?v=8su6PenYgvE) -t 10 -vn -c:v copy -c:a copy 8su6PenYgvE.aac\n",
      "./ffmpeg -ss 40 -i $(youtube-dl -f mp4 --get-url http://www.youtube.com/watch?v=zq8ZIkMZzww) -t 10 -vn -c:v copy -c:a copy zq8ZIkMZzww.aac\n",
      "./ffmpeg -ss 140 -i $(youtube-dl -f mp4 --get-url http://www.youtube.com/watch?v=FXfo8hIEb70) -t 10 -vn -c:v copy -c:a copy FXfo8hIEb70.aac\n",
      "./ffmpeg -ss 30 -i $(youtube-dl -f mp4 --get-url http://www.youtube.com/watch?v=QzZFG-NvGSg) -t 10 -vn -c:v copy -c:a copy QzZFG-NvGSg.aac\n",
      "./ffmpeg -ss 240 -i $(youtube-dl -f mp4 --get-url http://www.youtube.com/watch?v=kT5rhPQFSms) -t 10 -vn -c:v copy -c:a copy kT5rhPQFSms.aac\n",
      "./ffmpeg -ss 90 -i $(youtube-dl -f mp4 --get-url http://www.youtube.com/watch?v=fLsMqIImvDc) -t 10 -vn -c:v copy -c:a copy fLsMqIImvDc.aac\n"
     ]
    },
    {
     "name": "stderr",
     "output_type": "stream",
     "text": [
      "  5%|▍         | 228/4783 [05:25<5:40:22,  4.48s/it]"
     ]
    },
    {
     "name": "stdout",
     "output_type": "stream",
     "text": [
      "./ffmpeg -ss 30 -i $(youtube-dl -f mp4 --get-url http://www.youtube.com/watch?v=Xlvgzzysfdk) -t 10 -vn -c:v copy -c:a copy Xlvgzzysfdk.aac\n",
      "./ffmpeg -ss 570 -i $(youtube-dl -f mp4 --get-url http://www.youtube.com/watch?v=eTPhEKXZClU) -t 10 -vn -c:v copy -c:a copy eTPhEKXZClU.aac\n",
      "./ffmpeg -ss 20 -i $(youtube-dl -f mp4 --get-url http://www.youtube.com/watch?v=7qTGhzuCnN0) -t 10 -vn -c:v copy -c:a copy 7qTGhzuCnN0.aac\n",
      "./ffmpeg -ss 120 -i $(youtube-dl -f mp4 --get-url http://www.youtube.com/watch?v=NXiODwpltLs) -t 10 -vn -c:v copy -c:a copy NXiODwpltLs.aac\n"
     ]
    },
    {
     "name": "stderr",
     "output_type": "stream",
     "text": [
      "  5%|▍         | 237/4783 [05:32<4:15:13,  3.37s/it]"
     ]
    },
    {
     "name": "stdout",
     "output_type": "stream",
     "text": [
      "./ffmpeg -ss 20 -i $(youtube-dl -f mp4 --get-url http://www.youtube.com/watch?v=61ZWYzDtlMw) -t 10 -vn -c:v copy -c:a copy 61ZWYzDtlMw.aac\n",
      "./ffmpeg -ss 10 -i $(youtube-dl -f mp4 --get-url http://www.youtube.com/watch?v=bXzK4Ob8n8Y) -t 10 -vn -c:v copy -c:a copy bXzK4Ob8n8Y.aac\n",
      "./ffmpeg -ss 0 -i $(youtube-dl -f mp4 --get-url http://www.youtube.com/watch?v=8QmwXbKIwUA) -t 10 -vn -c:v copy -c:a copy 8QmwXbKIwUA.aac\n",
      "./ffmpeg -ss 15 -i $(youtube-dl -f mp4 --get-url http://www.youtube.com/watch?v=YeQzsjKDgKA) -t 10 -vn -c:v copy -c:a copy YeQzsjKDgKA.aac\n"
     ]
    },
    {
     "name": "stderr",
     "output_type": "stream",
     "text": [
      "  5%|▍         | 238/4783 [05:38<5:01:06,  3.98s/it]"
     ]
    },
    {
     "name": "stdout",
     "output_type": "stream",
     "text": [
      "./ffmpeg -ss 10 -i $(youtube-dl -f mp4 --get-url http://www.youtube.com/watch?v=KGHh9NBldUM) -t 10 -vn -c:v copy -c:a copy KGHh9NBldUM.aac\n",
      "./ffmpeg -ss 0 -i $(youtube-dl -f mp4 --get-url http://www.youtube.com/watch?v=jAPpziEL5Kk) -t 10 -vn -c:v copy -c:a copy jAPpziEL5Kk.aac\n",
      "./ffmpeg -ss 10 -i $(youtube-dl -f mp4 --get-url http://www.youtube.com/watch?v=KWA6erHkfsY) -t 10 -vn -c:v copy -c:a copy KWA6erHkfsY.aac\n",
      "./ffmpeg -ss 340 -i $(youtube-dl -f mp4 --get-url http://www.youtube.com/watch?v=_8fCdExID8Q) -t 10 -vn -c:v copy -c:a copy _8fCdExID8Q.aac\n",
      "./ffmpeg -ss 30 -i $(youtube-dl -f mp4 --get-url http://www.youtube.com/watch?v=GW5BbL0XSO4) -t 10 -vn -c:v copy -c:a copy GW5BbL0XSO4.aac\n",
      "./ffmpeg -ss 60 -i $(youtube-dl -f mp4 --get-url http://www.youtube.com/watch?v=_jnNn-RT7vs) -t 10 -vn -c:v copy -c:a copy _jnNn-RT7vs.aac\n",
      "./ffmpeg -ss 0 -i $(youtube-dl -f mp4 --get-url http://www.youtube.com/watch?v=obXgPnk2tsE) -t 10 -vn -c:v copy -c:a copy obXgPnk2tsE.aac\n"
     ]
    },
    {
     "name": "stderr",
     "output_type": "stream",
     "text": [
      "  5%|▌         | 245/4783 [05:47<4:01:17,  3.19s/it]"
     ]
    },
    {
     "name": "stdout",
     "output_type": "stream",
     "text": [
      "./ffmpeg -ss 30 -i $(youtube-dl -f mp4 --get-url http://www.youtube.com/watch?v=CGJhxXww9RU) -t 10 -vn -c:v copy -c:a copy CGJhxXww9RU.aac\n"
     ]
    },
    {
     "name": "stderr",
     "output_type": "stream",
     "text": [
      "  5%|▌         | 252/4783 [05:49<2:54:31,  2.31s/it]"
     ]
    },
    {
     "name": "stdout",
     "output_type": "stream",
     "text": [
      "./ffmpeg -ss 110 -i $(youtube-dl -f mp4 --get-url http://www.youtube.com/watch?v=Rf4vTQMQKLc) -t 10 -vn -c:v copy -c:a copy Rf4vTQMQKLc.aac\n",
      "./ffmpeg -ss 30 -i $(youtube-dl -f mp4 --get-url http://www.youtube.com/watch?v=1OdTtb3dVdA) -t 10 -vn -c:v copy -c:a copy 1OdTtb3dVdA.aac\n",
      "./ffmpeg -ss 60 -i $(youtube-dl -f mp4 --get-url http://www.youtube.com/watch?v=oF6S9dRCPi8) -t 10 -vn -c:v copy -c:a copy oF6S9dRCPi8.aac\n",
      "./ffmpeg -ss 140 -i $(youtube-dl -f mp4 --get-url http://www.youtube.com/watch?v=Gy2i1dfALVU) -t 10 -vn -c:v copy -c:a copy Gy2i1dfALVU.aac\n",
      "./ffmpeg -ss 430 -i $(youtube-dl -f mp4 --get-url http://www.youtube.com/watch?v=i47a20ZprtI) -t 10 -vn -c:v copy -c:a copy i47a20ZprtI.aac\n"
     ]
    },
    {
     "name": "stderr",
     "output_type": "stream",
     "text": [
      "  5%|▌         | 255/4783 [06:01<3:28:59,  2.77s/it]"
     ]
    },
    {
     "name": "stdout",
     "output_type": "stream",
     "text": [
      "./ffmpeg -ss 60 -i $(youtube-dl -f mp4 --get-url http://www.youtube.com/watch?v=-pXeK96wsjk) -t 10 -vn -c:v copy -c:a copy -pXeK96wsjk.aac\n"
     ]
    },
    {
     "name": "stderr",
     "output_type": "stream",
     "text": [
      "  5%|▌         | 260/4783 [06:02<2:32:13,  2.02s/it]"
     ]
    },
    {
     "name": "stdout",
     "output_type": "stream",
     "text": [
      "./ffmpeg -ss 90 -i $(youtube-dl -f mp4 --get-url http://www.youtube.com/watch?v=uqLYukM17hc) -t 10 -vn -c:v copy -c:a copy uqLYukM17hc.aac\n",
      "./ffmpeg -ss 370 -i $(youtube-dl -f mp4 --get-url http://www.youtube.com/watch?v=-T4R1XPLbqg) -t 10 -vn -c:v copy -c:a copy -T4R1XPLbqg.aac\n",
      "./ffmpeg -ss 50 -i $(youtube-dl -f mp4 --get-url http://www.youtube.com/watch?v=Or2Hjfdw9do) -t 10 -vn -c:v copy -c:a copy Or2Hjfdw9do.aac\n",
      "./ffmpeg -ss 20 -i $(youtube-dl -f mp4 --get-url http://www.youtube.com/watch?v=LZhWCjGDFNM) -t 10 -vn -c:v copy -c:a copy LZhWCjGDFNM.aac\n",
      "./ffmpeg -ss 80 -i $(youtube-dl -f mp4 --get-url http://www.youtube.com/watch?v=QVU2r7dR8LU) -t 10 -vn -c:v copy -c:a copy QVU2r7dR8LU.aac\n"
     ]
    },
    {
     "name": "stderr",
     "output_type": "stream",
     "text": [
      "  5%|▌         | 262/4783 [06:04<2:15:35,  1.80s/it]"
     ]
    },
    {
     "name": "stdout",
     "output_type": "stream",
     "text": [
      "./ffmpeg -ss 30 -i $(youtube-dl -f mp4 --get-url http://www.youtube.com/watch?v=rhAYabnOuoI) -t 10 -vn -c:v copy -c:a copy rhAYabnOuoI.aac\n",
      "./ffmpeg -ss 40 -i $(youtube-dl -f mp4 --get-url http://www.youtube.com/watch?v=Ibs4c02zXDo) -t 10 -vn -c:v copy -c:a copy Ibs4c02zXDo.aac\n",
      "./ffmpeg -ss 50 -i $(youtube-dl -f mp4 --get-url http://www.youtube.com/watch?v=F9giMjLgDUs) -t 10 -vn -c:v copy -c:a copy F9giMjLgDUs.aac\n",
      "./ffmpeg -ss 210 -i $(youtube-dl -f mp4 --get-url http://www.youtube.com/watch?v=RgVuotjNBt0) -t 10 -vn -c:v copy -c:a copy RgVuotjNBt0.aac\n"
     ]
    },
    {
     "name": "stderr",
     "output_type": "stream",
     "text": [
      "  6%|▌         | 264/4783 [06:07<2:07:21,  1.69s/it]"
     ]
    },
    {
     "name": "stdout",
     "output_type": "stream",
     "text": [
      "./ffmpeg -ss 150 -i $(youtube-dl -f mp4 --get-url http://www.youtube.com/watch?v=UAQp2_cBmLw) -t 10 -vn -c:v copy -c:a copy UAQp2_cBmLw.aac\n",
      "./ffmpeg -ss 10 -i $(youtube-dl -f mp4 --get-url http://www.youtube.com/watch?v=RSKO2y2lPhQ) -t 10 -vn -c:v copy -c:a copy RSKO2y2lPhQ.aac\n",
      "./ffmpeg -ss 270 -i $(youtube-dl -f mp4 --get-url http://www.youtube.com/watch?v=cOGG6OB0MtM) -t 10 -vn -c:v copy -c:a copy cOGG6OB0MtM.aac\n",
      "./ffmpeg -ss 10 -i $(youtube-dl -f mp4 --get-url http://www.youtube.com/watch?v=ijjqKba7kJY) -t 10 -vn -c:v copy -c:a copy ijjqKba7kJY.aac\n",
      "./ffmpeg -ss 20 -i $(youtube-dl -f mp4 --get-url http://www.youtube.com/watch?v=blqCeMnyhgE) -t 10 -vn -c:v copy -c:a copy blqCeMnyhgE.aac\n",
      "./ffmpeg -ss 110 -i $(youtube-dl -f mp4 --get-url http://www.youtube.com/watch?v=Jds_H5SprE0) -t 10 -vn -c:v copy -c:a copy Jds_H5SprE0.aac\n",
      "./ffmpeg -ss 150 -i $(youtube-dl -f mp4 --get-url http://www.youtube.com/watch?v=gThqYnD3Ths) -t 10 -vn -c:v copy -c:a copy gThqYnD3Ths.aac\n"
     ]
    },
    {
     "name": "stderr",
     "output_type": "stream",
     "text": [
      "  6%|▌         | 267/4783 [06:20<3:07:41,  2.49s/it]"
     ]
    },
    {
     "name": "stdout",
     "output_type": "stream",
     "text": [
      "./ffmpeg -ss 360 -i $(youtube-dl -f mp4 --get-url http://www.youtube.com/watch?v=fDOTsQoJhE0) -t 10 -vn -c:v copy -c:a copy fDOTsQoJhE0.aac\n",
      "./ffmpeg -ss 310 -i $(youtube-dl -f mp4 --get-url http://www.youtube.com/watch?v=icLkZJNpins) -t 10 -vn -c:v copy -c:a copy icLkZJNpins.aac\n",
      "./ffmpeg -ss 220 -i $(youtube-dl -f mp4 --get-url http://www.youtube.com/watch?v=DV4_4JgOmI0) -t 10 -vn -c:v copy -c:a copy DV4_4JgOmI0.aac\n",
      "./ffmpeg -ss 20 -i $(youtube-dl -f mp4 --get-url http://www.youtube.com/watch?v=8ryifCe_sIU) -t 10 -vn -c:v copy -c:a copy 8ryifCe_sIU.aac\n",
      "./ffmpeg -ss 20 -i $(youtube-dl -f mp4 --get-url http://www.youtube.com/watch?v=YicHhj_QUAk) -t 10 -vn -c:v copy -c:a copy YicHhj_QUAk.aac\n"
     ]
    },
    {
     "name": "stderr",
     "output_type": "stream",
     "text": [
      "  6%|▌         | 275/4783 [06:31<2:40:49,  2.14s/it]"
     ]
    },
    {
     "name": "stdout",
     "output_type": "stream",
     "text": [
      "./ffmpeg -ss 60 -i $(youtube-dl -f mp4 --get-url http://www.youtube.com/watch?v=a1UOXidrjb0) -t 10 -vn -c:v copy -c:a copy a1UOXidrjb0.aac\n",
      "./ffmpeg -ss 100 -i $(youtube-dl -f mp4 --get-url http://www.youtube.com/watch?v=Fc1sxCJ9O6U) -t 10 -vn -c:v copy -c:a copy Fc1sxCJ9O6U.aac\n",
      "./ffmpeg -ss 30 -i $(youtube-dl -f mp4 --get-url http://www.youtube.com/watch?v=mlgs_06NUpI) -t 10 -vn -c:v copy -c:a copy mlgs_06NUpI.aac\n"
     ]
    },
    {
     "name": "stderr",
     "output_type": "stream",
     "text": [
      "  6%|▌         | 280/4783 [06:35<2:09:19,  1.72s/it]"
     ]
    },
    {
     "name": "stdout",
     "output_type": "stream",
     "text": [
      "./ffmpeg -ss 110 -i $(youtube-dl -f mp4 --get-url http://www.youtube.com/watch?v=B4D2DajrZ-Y) -t 10 -vn -c:v copy -c:a copy B4D2DajrZ-Y.aac\n",
      "./ffmpeg -ss 60 -i $(youtube-dl -f mp4 --get-url http://www.youtube.com/watch?v=KCejJufAOHQ) -t 10 -vn -c:v copy -c:a copy KCejJufAOHQ.aac\n",
      "./ffmpeg -ss 40 -i $(youtube-dl -f mp4 --get-url http://www.youtube.com/watch?v=JocAxXHMaVw) -t 10 -vn -c:v copy -c:a copy JocAxXHMaVw.aac\n",
      "./ffmpeg -ss 100 -i $(youtube-dl -f mp4 --get-url http://www.youtube.com/watch?v=jrl5AheClRQ) -t 10 -vn -c:v copy -c:a copy jrl5AheClRQ.aac\n",
      "./ffmpeg -ss 50 -i $(youtube-dl -f mp4 --get-url http://www.youtube.com/watch?v=2_KQUcAoy4Q) -t 10 -vn -c:v copy -c:a copy 2_KQUcAoy4Q.aac\n",
      "./ffmpeg -ss 50 -i $(youtube-dl -f mp4 --get-url http://www.youtube.com/watch?v=rkWJNG4N-U4) -t 10 -vn -c:v copy -c:a copy rkWJNG4N-U4.aac\n",
      "./ffmpeg -ss 320 -i $(youtube-dl -f mp4 --get-url http://www.youtube.com/watch?v=nLRVoqWwlkA) -t 10 -vn -c:v copy -c:a copy nLRVoqWwlkA.aac\n"
     ]
    },
    {
     "name": "stderr",
     "output_type": "stream",
     "text": [
      "  6%|▌         | 282/4783 [06:45<3:24:24,  2.72s/it]"
     ]
    },
    {
     "name": "stdout",
     "output_type": "stream",
     "text": [
      "./ffmpeg -ss 90 -i $(youtube-dl -f mp4 --get-url http://www.youtube.com/watch?v=rh1__bks4vY) -t 10 -vn -c:v copy -c:a copy rh1__bks4vY.aac\n"
     ]
    },
    {
     "name": "stderr",
     "output_type": "stream",
     "text": [
      "  6%|▌         | 288/4783 [06:45<2:24:47,  1.93s/it]"
     ]
    },
    {
     "name": "stdout",
     "output_type": "stream",
     "text": [
      "./ffmpeg -ss 10 -i $(youtube-dl -f mp4 --get-url http://www.youtube.com/watch?v=dq5MF8wufw4) -t 10 -vn -c:v copy -c:a copy dq5MF8wufw4.aac\n",
      "./ffmpeg -ss 140 -i $(youtube-dl -f mp4 --get-url http://www.youtube.com/watch?v=aNMIk3KGqcM) -t 10 -vn -c:v copy -c:a copy aNMIk3KGqcM.aac\n",
      "./ffmpeg -ss 70 -i $(youtube-dl -f mp4 --get-url http://www.youtube.com/watch?v=PX0J_ed-4R4) -t 10 -vn -c:v copy -c:a copy PX0J_ed-4R4.aac\n",
      "./ffmpeg -ss 20 -i $(youtube-dl -f mp4 --get-url http://www.youtube.com/watch?v=rZi0sSjadso) -t 10 -vn -c:v copy -c:a copy rZi0sSjadso.aac\n",
      "./ffmpeg -ss 390 -i $(youtube-dl -f mp4 --get-url http://www.youtube.com/watch?v=89LAMd4gzcs) -t 10 -vn -c:v copy -c:a copy 89LAMd4gzcs.aac\n",
      "./ffmpeg -ss 20 -i $(youtube-dl -f mp4 --get-url http://www.youtube.com/watch?v=bpnK58EZx6k) -t 10 -vn -c:v copy -c:a copy bpnK58EZx6k.aac\n",
      "./ffmpeg -ss 120 -i $(youtube-dl -f mp4 --get-url http://www.youtube.com/watch?v=sGeQ7HwBB7s) -t 10 -vn -c:v copy -c:a copy sGeQ7HwBB7s.aac\n",
      "./ffmpeg -ss 60 -i $(youtube-dl -f mp4 --get-url http://www.youtube.com/watch?v=-lRAHCsCM60) -t 10 -vn -c:v copy -c:a copy -lRAHCsCM60.aac\n",
      "./ffmpeg -ss 30 -i $(youtube-dl -f mp4 --get-url http://www.youtube.com/watch?v=-UcGubz6KME) -t 10 -vn -c:v copy -c:a copy -UcGubz6KME.aac\n",
      "./ffmpeg -ss 30 -i $(youtube-dl -f mp4 --get-url http://www.youtube.com/watch?v=CM7t-cHBuiI) -t 10 -vn -c:v copy -c:a copy CM7t-cHBuiI.aac\n",
      "./ffmpeg -ss 0 -i $(youtube-dl -f mp4 --get-url http://www.youtube.com/watch?v=RqbFgFbbJNo) -t 10 -vn -c:v copy -c:a copy RqbFgFbbJNo.aac\n",
      "./ffmpeg -ss 70 -i $(youtube-dl -f mp4 --get-url http://www.youtube.com/watch?v=PxsNNeC79b8) -t 10 -vn -c:v copy -c:a copy PxsNNeC79b8.aac\n",
      "./ffmpeg -ss 290 -i $(youtube-dl -f mp4 --get-url http://www.youtube.com/watch?v=wvmjQS1Jq8g) -t 10 -vn -c:v copy -c:a copy wvmjQS1Jq8g.aac\n",
      "./ffmpeg -ss 50 -i $(youtube-dl -f mp4 --get-url http://www.youtube.com/watch?v=Og-i7dr9kIo) -t 10 -vn -c:v copy -c:a copy Og-i7dr9kIo.aac\n",
      "./ffmpeg -ss 280 -i $(youtube-dl -f mp4 --get-url http://www.youtube.com/watch?v=uuaYA21J3NA) -t 10 -vn -c:v copy -c:a copy uuaYA21J3NA.aac\n"
     ]
    },
    {
     "name": "stderr",
     "output_type": "stream",
     "text": [
      "  6%|▌         | 294/4783 [06:56<2:21:20,  1.89s/it]"
     ]
    },
    {
     "name": "stdout",
     "output_type": "stream",
     "text": [
      "./ffmpeg -ss 10 -i $(youtube-dl -f mp4 --get-url http://www.youtube.com/watch?v=4OqW1uj9F-4) -t 10 -vn -c:v copy -c:a copy 4OqW1uj9F-4.aac\n",
      "./ffmpeg -ss 410 -i $(youtube-dl -f mp4 --get-url http://www.youtube.com/watch?v=rB-S2TuSdQM) -t 10 -vn -c:v copy -c:a copy rB-S2TuSdQM.aac\n",
      "./ffmpeg -ss 540 -i $(youtube-dl -f mp4 --get-url http://www.youtube.com/watch?v=LClZDSUR_f4) -t 10 -vn -c:v copy -c:a copy LClZDSUR_f4.aac\n"
     ]
    },
    {
     "name": "stderr",
     "output_type": "stream",
     "text": [
      "  6%|▋         | 306/4783 [07:05<1:55:10,  1.54s/it]"
     ]
    },
    {
     "name": "stdout",
     "output_type": "stream",
     "text": [
      "./ffmpeg -ss 550 -i $(youtube-dl -f mp4 --get-url http://www.youtube.com/watch?v=ovp6mbl1uCI) -t 10 -vn -c:v copy -c:a copy ovp6mbl1uCI.aac\n",
      "./ffmpeg -ss 80 -i $(youtube-dl -f mp4 --get-url http://www.youtube.com/watch?v=TVtlDcuct4A) -t 10 -vn -c:v copy -c:a copy TVtlDcuct4A.aac\n",
      "./ffmpeg -ss 410 -i $(youtube-dl -f mp4 --get-url http://www.youtube.com/watch?v=y349MdET_js) -t 10 -vn -c:v copy -c:a copy y349MdET_js.aac\n",
      "./ffmpeg -ss 250 -i $(youtube-dl -f mp4 --get-url http://www.youtube.com/watch?v=Ck6c-_tZLVE) -t 10 -vn -c:v copy -c:a copy Ck6c-_tZLVE.aac\n",
      "./ffmpeg -ss 30 -i $(youtube-dl -f mp4 --get-url http://www.youtube.com/watch?v=D6n-T0si2wM) -t 10 -vn -c:v copy -c:a copy D6n-T0si2wM.aac\n"
     ]
    },
    {
     "name": "stderr",
     "output_type": "stream",
     "text": [
      "  6%|▋         | 307/4783 [07:14<4:33:49,  3.67s/it]"
     ]
    },
    {
     "name": "stdout",
     "output_type": "stream",
     "text": [
      "./ffmpeg -ss 40 -i $(youtube-dl -f mp4 --get-url http://www.youtube.com/watch?v=BMBJVGZIRo0) -t 10 -vn -c:v copy -c:a copy BMBJVGZIRo0.aac\n",
      "./ffmpeg -ss 500 -i $(youtube-dl -f mp4 --get-url http://www.youtube.com/watch?v=QLqLRlcjOZE) -t 10 -vn -c:v copy -c:a copy QLqLRlcjOZE.aac\n",
      "./ffmpeg -ss 110 -i $(youtube-dl -f mp4 --get-url http://www.youtube.com/watch?v=HFMY060jA3Q) -t 10 -vn -c:v copy -c:a copy HFMY060jA3Q.aac\n",
      "./ffmpeg -ss 130 -i $(youtube-dl -f mp4 --get-url http://www.youtube.com/watch?v=hZoqIa7vmjw) -t 10 -vn -c:v copy -c:a copy hZoqIa7vmjw.aac\n"
     ]
    },
    {
     "name": "stderr",
     "output_type": "stream",
     "text": [
      "  7%|▋         | 318/4783 [07:16<3:16:09,  2.64s/it]"
     ]
    },
    {
     "name": "stdout",
     "output_type": "stream",
     "text": [
      "./ffmpeg -ss 20 -i $(youtube-dl -f mp4 --get-url http://www.youtube.com/watch?v=OxT_aD7Dy5M) -t 10 -vn -c:v copy -c:a copy OxT_aD7Dy5M.aac\n",
      "./ffmpeg -ss 30 -i $(youtube-dl -f mp4 --get-url http://www.youtube.com/watch?v=QQuwZwjpqTw) -t 10 -vn -c:v copy -c:a copy QQuwZwjpqTw.aac\n",
      "./ffmpeg -ss 0 -i $(youtube-dl -f mp4 --get-url http://www.youtube.com/watch?v=mt4fgRBvbbI) -t 10 -vn -c:v copy -c:a copy mt4fgRBvbbI.aac\n"
     ]
    },
    {
     "name": "stderr",
     "output_type": "stream",
     "text": [
      "  7%|▋         | 320/4783 [07:17<2:31:14,  2.03s/it]"
     ]
    },
    {
     "name": "stdout",
     "output_type": "stream",
     "text": [
      "./ffmpeg -ss 40 -i $(youtube-dl -f mp4 --get-url http://www.youtube.com/watch?v=PoRiHufhTIg) -t 10 -vn -c:v copy -c:a copy PoRiHufhTIg.aac\n",
      "./ffmpeg -ss 280 -i $(youtube-dl -f mp4 --get-url http://www.youtube.com/watch?v=XNqqz8MJjOE) -t 10 -vn -c:v copy -c:a copy XNqqz8MJjOE.aac\n",
      "./ffmpeg -ss 150 -i $(youtube-dl -f mp4 --get-url http://www.youtube.com/watch?v=YM5slYo_HaE) -t 10 -vn -c:v copy -c:a copy YM5slYo_HaE.aac\n",
      "./ffmpeg -ss 180 -i $(youtube-dl -f mp4 --get-url http://www.youtube.com/watch?v=M0muID7sfeQ) -t 10 -vn -c:v copy -c:a copy M0muID7sfeQ.aac\n",
      "./ffmpeg -ss 80 -i $(youtube-dl -f mp4 --get-url http://www.youtube.com/watch?v=9-zZmHjVzio) -t 10 -vn -c:v copy -c:a copy 9-zZmHjVzio.aac\n",
      "./ffmpeg -ss 20 -i $(youtube-dl -f mp4 --get-url http://www.youtube.com/watch?v=rDjdAppNRUU) -t 10 -vn -c:v copy -c:a copy rDjdAppNRUU.aac\n",
      "./ffmpeg -ss 0 -i $(youtube-dl -f mp4 --get-url http://www.youtube.com/watch?v=9f4TNwIZxJU) -t 10 -vn -c:v copy -c:a copy 9f4TNwIZxJU.aac\n"
     ]
    },
    {
     "name": "stderr",
     "output_type": "stream",
     "text": [
      "  7%|▋         | 324/4783 [07:26<2:37:02,  2.11s/it]"
     ]
    },
    {
     "name": "stdout",
     "output_type": "stream",
     "text": [
      "./ffmpeg -ss 420 -i $(youtube-dl -f mp4 --get-url http://www.youtube.com/watch?v=H0NKU8-RsjA) -t 10 -vn -c:v copy -c:a copy H0NKU8-RsjA.aac\n",
      "./ffmpeg -ss 0 -i $(youtube-dl -f mp4 --get-url http://www.youtube.com/watch?v=Jgb-kUbQzOU) -t 10 -vn -c:v copy -c:a copy Jgb-kUbQzOU.aac\n",
      "./ffmpeg -ss 170 -i $(youtube-dl -f mp4 --get-url http://www.youtube.com/watch?v=B4yKArl5Q9c) -t 10 -vn -c:v copy -c:a copy B4yKArl5Q9c.aac\n",
      "./ffmpeg -ss 330 -i $(youtube-dl -f mp4 --get-url http://www.youtube.com/watch?v=RHZ7cHG6zYA) -t 10 -vn -c:v copy -c:a copy RHZ7cHG6zYA.aac\n",
      "./ffmpeg -ss 40 -i $(youtube-dl -f mp4 --get-url http://www.youtube.com/watch?v=ihFJyykYrhg) -t 10 -vn -c:v copy -c:a copy ihFJyykYrhg.aac\n"
     ]
    },
    {
     "name": "stderr",
     "output_type": "stream",
     "text": [
      "  7%|▋         | 329/4783 [07:32<2:16:17,  1.84s/it]"
     ]
    },
    {
     "name": "stdout",
     "output_type": "stream",
     "text": [
      "./ffmpeg -ss 490 -i $(youtube-dl -f mp4 --get-url http://www.youtube.com/watch?v=bnHTT5Z7Mbw) -t 10 -vn -c:v copy -c:a copy bnHTT5Z7Mbw.aac\n",
      "./ffmpeg -ss 40 -i $(youtube-dl -f mp4 --get-url http://www.youtube.com/watch?v=5wnK55rU_kU) -t 10 -vn -c:v copy -c:a copy 5wnK55rU_kU.aac\n"
     ]
    },
    {
     "name": "stderr",
     "output_type": "stream",
     "text": [
      "  7%|▋         | 335/4783 [07:35<1:44:03,  1.40s/it]"
     ]
    },
    {
     "name": "stdout",
     "output_type": "stream",
     "text": [
      "./ffmpeg -ss 20 -i $(youtube-dl -f mp4 --get-url http://www.youtube.com/watch?v=0CDxgZiYKyo) -t 10 -vn -c:v copy -c:a copy 0CDxgZiYKyo.aac\n",
      "./ffmpeg -ss 230 -i $(youtube-dl -f mp4 --get-url http://www.youtube.com/watch?v=i3xRzFpXqUE) -t 10 -vn -c:v copy -c:a copy i3xRzFpXqUE.aac\n",
      "./ffmpeg -ss 20 -i $(youtube-dl -f mp4 --get-url http://www.youtube.com/watch?v=FZuHksmxkpw) -t 10 -vn -c:v copy -c:a copy FZuHksmxkpw.aac\n",
      "./ffmpeg -ss 80 -i $(youtube-dl -f mp4 --get-url http://www.youtube.com/watch?v=943tC8HPVW4) -t 10 -vn -c:v copy -c:a copy 943tC8HPVW4.aac\n"
     ]
    },
    {
     "name": "stderr",
     "output_type": "stream",
     "text": [
      "  7%|▋         | 336/4783 [07:38<2:23:27,  1.94s/it]"
     ]
    },
    {
     "name": "stdout",
     "output_type": "stream",
     "text": [
      "./ffmpeg -ss 10 -i $(youtube-dl -f mp4 --get-url http://www.youtube.com/watch?v=m2tYRtj0cfY) -t 10 -vn -c:v copy -c:a copy m2tYRtj0cfY.aac\n",
      "./ffmpeg -ss 400 -i $(youtube-dl -f mp4 --get-url http://www.youtube.com/watch?v=1a1lsqL5gC0) -t 10 -vn -c:v copy -c:a copy 1a1lsqL5gC0.aac\n",
      "./ffmpeg -ss 40 -i $(youtube-dl -f mp4 --get-url http://www.youtube.com/watch?v=5sy_r91tfSs) -t 10 -vn -c:v copy -c:a copy 5sy_r91tfSs.aac\n",
      "./ffmpeg -ss 170 -i $(youtube-dl -f mp4 --get-url http://www.youtube.com/watch?v=LuJyXlL3S_M) -t 10 -vn -c:v copy -c:a copy LuJyXlL3S_M.aac\n",
      "./ffmpeg -ss 280 -i $(youtube-dl -f mp4 --get-url http://www.youtube.com/watch?v=F6lcKEhSToc) -t 10 -vn -c:v copy -c:a copy F6lcKEhSToc.aac\n",
      "./ffmpeg -ss 0 -i $(youtube-dl -f mp4 --get-url http://www.youtube.com/watch?v=xh_gpbvIL5s) -t 10 -vn -c:v copy -c:a copy xh_gpbvIL5s.aac\n",
      "./ffmpeg -ss 540 -i $(youtube-dl -f mp4 --get-url http://www.youtube.com/watch?v=08uh4pzsyMY) -t 10 -vn -c:v copy -c:a copy 08uh4pzsyMY.aac\n",
      "./ffmpeg -ss 90 -i $(youtube-dl -f mp4 --get-url http://www.youtube.com/watch?v=JG-1WIokUmk) -t 10 -vn -c:v copy -c:a copy JG-1WIokUmk.aac\n",
      "./ffmpeg -ss 20 -i $(youtube-dl -f mp4 --get-url http://www.youtube.com/watch?v=MzbOaEip4qg) -t 10 -vn -c:v copy -c:a copy MzbOaEip4qg.aac\n",
      "./ffmpeg -ss 550 -i $(youtube-dl -f mp4 --get-url http://www.youtube.com/watch?v=i4xjFEzSi3Q) -t 10 -vn -c:v copy -c:a copy i4xjFEzSi3Q.aac\n",
      "./ffmpeg -ss 440 -i $(youtube-dl -f mp4 --get-url http://www.youtube.com/watch?v=h1GenooD9l0) -t 10 -vn -c:v copy -c:a copy h1GenooD9l0.aac\n",
      "./ffmpeg -ss 110 -i $(youtube-dl -f mp4 --get-url http://www.youtube.com/watch?v=gRduVjd2ikg) -t 10 -vn -c:v copy -c:a copy gRduVjd2ikg.aac\n",
      "./ffmpeg -ss 10 -i $(youtube-dl -f mp4 --get-url http://www.youtube.com/watch?v=qi9XeRdgwKI) -t 10 -vn -c:v copy -c:a copy qi9XeRdgwKI.aac\n"
     ]
    },
    {
     "name": "stderr",
     "output_type": "stream",
     "text": [
      "  7%|▋         | 342/4783 [07:58<2:55:49,  2.38s/it]"
     ]
    },
    {
     "name": "stdout",
     "output_type": "stream",
     "text": [
      "./ffmpeg -ss 250 -i $(youtube-dl -f mp4 --get-url http://www.youtube.com/watch?v=8B3cEMueaDc) -t 10 -vn -c:v copy -c:a copy 8B3cEMueaDc.aac\n",
      "./ffmpeg -ss 30 -i $(youtube-dl -f mp4 --get-url http://www.youtube.com/watch?v=AzqfeBtp50Y) -t 10 -vn -c:v copy -c:a copy AzqfeBtp50Y.aac\n",
      "./ffmpeg -ss 160 -i $(youtube-dl -f mp4 --get-url http://www.youtube.com/watch?v=fqq28mYT5MU) -t 10 -vn -c:v copy -c:a copy fqq28mYT5MU.aac\n",
      "./ffmpeg -ss 150 -i $(youtube-dl -f mp4 --get-url http://www.youtube.com/watch?v=VTQaaG_Rdto) -t 10 -vn -c:v copy -c:a copy VTQaaG_Rdto.aac\n",
      "./ffmpeg -ss 290 -i $(youtube-dl -f mp4 --get-url http://www.youtube.com/watch?v=GU4DS4PhZ2I) -t 10 -vn -c:v copy -c:a copy GU4DS4PhZ2I.aac\n",
      "./ffmpeg -ss 210 -i $(youtube-dl -f mp4 --get-url http://www.youtube.com/watch?v=XJyODR3JLdI) -t 10 -vn -c:v copy -c:a copy XJyODR3JLdI.aac\n",
      "./ffmpeg -ss 360 -i $(youtube-dl -f mp4 --get-url http://www.youtube.com/watch?v=etKT3o18aWs) -t 10 -vn -c:v copy -c:a copy etKT3o18aWs.aac\n",
      "./ffmpeg -ss 80 -i $(youtube-dl -f mp4 --get-url http://www.youtube.com/watch?v=YaSJrJ0VDkY) -t 10 -vn -c:v copy -c:a copy YaSJrJ0VDkY.aac\n",
      "./ffmpeg -ss 140 -i $(youtube-dl -f mp4 --get-url http://www.youtube.com/watch?v=6JqK60rZ-CE) -t 10 -vn -c:v copy -c:a copy 6JqK60rZ-CE.aac\n"
     ]
    },
    {
     "name": "stderr",
     "output_type": "stream",
     "text": [
      "  7%|▋         | 348/4783 [08:11<2:48:35,  2.28s/it]"
     ]
    },
    {
     "name": "stdout",
     "output_type": "stream",
     "text": [
      "./ffmpeg -ss 450 -i $(youtube-dl -f mp4 --get-url http://www.youtube.com/watch?v=OWEnrwh_HAY) -t 10 -vn -c:v copy -c:a copy OWEnrwh_HAY.aac\n",
      "./ffmpeg -ss 10 -i $(youtube-dl -f mp4 --get-url http://www.youtube.com/watch?v=oWwyT5hK6oI) -t 10 -vn -c:v copy -c:a copy oWwyT5hK6oI.aac\n"
     ]
    },
    {
     "name": "stderr",
     "output_type": "stream",
     "text": [
      "  7%|▋         | 353/4783 [08:12<2:04:18,  1.68s/it]"
     ]
    },
    {
     "name": "stdout",
     "output_type": "stream",
     "text": [
      "./ffmpeg -ss 10 -i $(youtube-dl -f mp4 --get-url http://www.youtube.com/watch?v=i2ljyykygKM) -t 10 -vn -c:v copy -c:a copy i2ljyykygKM.aac\n",
      "./ffmpeg -ss 0 -i $(youtube-dl -f mp4 --get-url http://www.youtube.com/watch?v=aXzlpc3Hs6E) -t 10 -vn -c:v copy -c:a copy aXzlpc3Hs6E.aac\n"
     ]
    },
    {
     "name": "stderr",
     "output_type": "stream",
     "text": [
      "  8%|▊         | 366/4783 [08:14<1:30:20,  1.23s/it]"
     ]
    },
    {
     "name": "stdout",
     "output_type": "stream",
     "text": [
      "./ffmpeg -ss 270 -i $(youtube-dl -f mp4 --get-url http://www.youtube.com/watch?v=bXhJvuXzjp4) -t 10 -vn -c:v copy -c:a copy bXhJvuXzjp4.aac\n",
      "./ffmpeg -ss 300 -i $(youtube-dl -f mp4 --get-url http://www.youtube.com/watch?v=gfdFesDZ4HE) -t 10 -vn -c:v copy -c:a copy gfdFesDZ4HE.aac\n",
      "./ffmpeg -ss 30 -i $(youtube-dl -f mp4 --get-url http://www.youtube.com/watch?v=mFWEXR5vfms) -t 10 -vn -c:v copy -c:a copy mFWEXR5vfms.aac\n"
     ]
    },
    {
     "name": "stderr",
     "output_type": "stream",
     "text": [
      "  8%|▊         | 367/4783 [08:19<2:55:17,  2.38s/it]"
     ]
    },
    {
     "name": "stdout",
     "output_type": "stream",
     "text": [
      "./ffmpeg -ss 60 -i $(youtube-dl -f mp4 --get-url http://www.youtube.com/watch?v=CRjQVVZMxmE) -t 10 -vn -c:v copy -c:a copy CRjQVVZMxmE.aac\n"
     ]
    },
    {
     "name": "stderr",
     "output_type": "stream",
     "text": [
      "  8%|▊         | 370/4783 [08:21<2:16:45,  1.86s/it]"
     ]
    },
    {
     "name": "stdout",
     "output_type": "stream",
     "text": [
      "./ffmpeg -ss 10 -i $(youtube-dl -f mp4 --get-url http://www.youtube.com/watch?v=bbO-1C_BP_k) -t 10 -vn -c:v copy -c:a copy bbO-1C_BP_k.aac\n",
      "./ffmpeg -ss 100 -i $(youtube-dl -f mp4 --get-url http://www.youtube.com/watch?v=9-Yp6ovBrW8) -t 10 -vn -c:v copy -c:a copy 9-Yp6ovBrW8.aac\n",
      "./ffmpeg -ss 30 -i $(youtube-dl -f mp4 --get-url http://www.youtube.com/watch?v=MOFXl60lL8Y) -t 10 -vn -c:v copy -c:a copy MOFXl60lL8Y.aac\n"
     ]
    },
    {
     "name": "stderr",
     "output_type": "stream",
     "text": [
      "  8%|▊         | 371/4783 [08:26<3:17:45,  2.69s/it]"
     ]
    },
    {
     "name": "stdout",
     "output_type": "stream",
     "text": [
      "./ffmpeg -ss 20 -i $(youtube-dl -f mp4 --get-url http://www.youtube.com/watch?v=gd6E9ObWJAQ) -t 10 -vn -c:v copy -c:a copy gd6E9ObWJAQ.aac\n",
      "./ffmpeg -ss 530 -i $(youtube-dl -f mp4 --get-url http://www.youtube.com/watch?v=peqGE-BKFb4) -t 10 -vn -c:v copy -c:a copy peqGE-BKFb4.aac\n",
      "./ffmpeg -ss 90 -i $(youtube-dl -f mp4 --get-url http://www.youtube.com/watch?v=sDrR9NosnLk) -t 10 -vn -c:v copy -c:a copy sDrR9NosnLk.aac\n",
      "./ffmpeg -ss 40 -i $(youtube-dl -f mp4 --get-url http://www.youtube.com/watch?v=j1rCm8FSpaA) -t 10 -vn -c:v copy -c:a copy j1rCm8FSpaA.aac\n",
      "./ffmpeg -ss 30 -i $(youtube-dl -f mp4 --get-url http://www.youtube.com/watch?v=YhjEQrboW_M) -t 10 -vn -c:v copy -c:a copy YhjEQrboW_M.aac\n",
      "./ffmpeg -ss 50 -i $(youtube-dl -f mp4 --get-url http://www.youtube.com/watch?v=e7sm8YqtceQ) -t 10 -vn -c:v copy -c:a copy e7sm8YqtceQ.aac\n",
      "./ffmpeg -ss 70 -i $(youtube-dl -f mp4 --get-url http://www.youtube.com/watch?v=W91FtuVK2_E) -t 10 -vn -c:v copy -c:a copy W91FtuVK2_E.aac\n",
      "./ffmpeg -ss 50 -i $(youtube-dl -f mp4 --get-url http://www.youtube.com/watch?v=5FH7pEiLcXQ) -t 10 -vn -c:v copy -c:a copy 5FH7pEiLcXQ.aac\n",
      "./ffmpeg -ss 130 -i $(youtube-dl -f mp4 --get-url http://www.youtube.com/watch?v=KVN-YFRHXcM) -t 10 -vn -c:v copy -c:a copy KVN-YFRHXcM.aac\n"
     ]
    },
    {
     "name": "stderr",
     "output_type": "stream",
     "text": [
      "  8%|▊         | 372/4783 [08:39<6:59:13,  5.70s/it]"
     ]
    },
    {
     "name": "stdout",
     "output_type": "stream",
     "text": [
      "./ffmpeg -ss 200 -i $(youtube-dl -f mp4 --get-url http://www.youtube.com/watch?v=ngf76uiXKcI) -t 10 -vn -c:v copy -c:a copy ngf76uiXKcI.aac\n",
      "./ffmpeg -ss 0 -i $(youtube-dl -f mp4 --get-url http://www.youtube.com/watch?v=kmddbwzAR_g) -t 10 -vn -c:v copy -c:a copy kmddbwzAR_g.aac\n"
     ]
    },
    {
     "name": "stderr",
     "output_type": "stream",
     "text": [
      "  8%|▊         | 384/4783 [08:42<4:58:10,  4.07s/it]"
     ]
    },
    {
     "name": "stdout",
     "output_type": "stream",
     "text": [
      "./ffmpeg -ss 35 -i $(youtube-dl -f mp4 --get-url http://www.youtube.com/watch?v=2aPteu35E8s) -t 10 -vn -c:v copy -c:a copy 2aPteu35E8s.aac\n",
      "./ffmpeg -ss 40 -i $(youtube-dl -f mp4 --get-url http://www.youtube.com/watch?v=Mv_gHk3PdAI) -t 10 -vn -c:v copy -c:a copy Mv_gHk3PdAI.aac\n"
     ]
    },
    {
     "name": "stderr",
     "output_type": "stream",
     "text": [
      "  8%|▊         | 385/4783 [08:44<4:10:41,  3.42s/it]"
     ]
    },
    {
     "name": "stdout",
     "output_type": "stream",
     "text": [
      "./ffmpeg -ss 420 -i $(youtube-dl -f mp4 --get-url http://www.youtube.com/watch?v=JX3RHT3EqXU) -t 10 -vn -c:v copy -c:a copy JX3RHT3EqXU.aac\n",
      "./ffmpeg -ss 40 -i $(youtube-dl -f mp4 --get-url http://www.youtube.com/watch?v=A8-9Uvzdj_8) -t 10 -vn -c:v copy -c:a copy A8-9Uvzdj_8.aac\n",
      "./ffmpeg -ss 0 -i $(youtube-dl -f mp4 --get-url http://www.youtube.com/watch?v=-O9D9xY72ZI) -t 10 -vn -c:v copy -c:a copy -O9D9xY72ZI.aac\n",
      "./ffmpeg -ss 10 -i $(youtube-dl -f mp4 --get-url http://www.youtube.com/watch?v=d-GAOodFTO4) -t 10 -vn -c:v copy -c:a copy d-GAOodFTO4.aac\n",
      "./ffmpeg -ss 310 -i $(youtube-dl -f mp4 --get-url http://www.youtube.com/watch?v=icsTNmyckz4) -t 10 -vn -c:v copy -c:a copy icsTNmyckz4.aac\n",
      "./ffmpeg -ss 160 -i $(youtube-dl -f mp4 --get-url http://www.youtube.com/watch?v=QXQygPfdfnE) -t 10 -vn -c:v copy -c:a copy QXQygPfdfnE.aac\n",
      "./ffmpeg -ss 140 -i $(youtube-dl -f mp4 --get-url http://www.youtube.com/watch?v=WbdY3NGxD4U) -t 10 -vn -c:v copy -c:a copy WbdY3NGxD4U.aac\n",
      "./ffmpeg -ss 20 -i $(youtube-dl -f mp4 --get-url http://www.youtube.com/watch?v=msZvt9_kbuU) -t 10 -vn -c:v copy -c:a copy msZvt9_kbuU.aac\n",
      "./ffmpeg -ss 80 -i $(youtube-dl -f mp4 --get-url http://www.youtube.com/watch?v=BqkWUrjBC3M) -t 10 -vn -c:v copy -c:a copy BqkWUrjBC3M.aac\n",
      "./ffmpeg -ss 270 -i $(youtube-dl -f mp4 --get-url http://www.youtube.com/watch?v=rVuF71AyPQo) -t 10 -vn -c:v copy -c:a copy rVuF71AyPQo.aac\n"
     ]
    },
    {
     "name": "stderr",
     "output_type": "stream",
     "text": [
      "  8%|▊         | 386/4783 [08:51<5:30:41,  4.51s/it]"
     ]
    },
    {
     "name": "stdout",
     "output_type": "stream",
     "text": [
      "./ffmpeg -ss 30 -i $(youtube-dl -f mp4 --get-url http://www.youtube.com/watch?v=iRKgAwNtM24) -t 10 -vn -c:v copy -c:a copy iRKgAwNtM24.aac\n"
     ]
    },
    {
     "name": "stderr",
     "output_type": "stream",
     "text": [
      "  8%|▊         | 396/4783 [08:51<3:51:52,  3.17s/it]"
     ]
    },
    {
     "name": "stdout",
     "output_type": "stream",
     "text": [
      "./ffmpeg -ss 30 -i $(youtube-dl -f mp4 --get-url http://www.youtube.com/watch?v=l24EkHj_grU) -t 10 -vn -c:v copy -c:a copy l24EkHj_grU.aac\n"
     ]
    },
    {
     "name": "stderr",
     "output_type": "stream",
     "text": [
      "  8%|▊         | 399/4783 [08:52<2:46:56,  2.28s/it]"
     ]
    },
    {
     "name": "stdout",
     "output_type": "stream",
     "text": [
      "./ffmpeg -ss 130 -i $(youtube-dl -f mp4 --get-url http://www.youtube.com/watch?v=06nBYwH0zjQ) -t 10 -vn -c:v copy -c:a copy 06nBYwH0zjQ.aac\n",
      "./ffmpeg -ss 70 -i $(youtube-dl -f mp4 --get-url http://www.youtube.com/watch?v=-GupnMGk3I8) -t 10 -vn -c:v copy -c:a copy -GupnMGk3I8.aac\n",
      "./ffmpeg -ss 0 -i $(youtube-dl -f mp4 --get-url http://www.youtube.com/watch?v=2mepIQTubMU) -t 10 -vn -c:v copy -c:a copy 2mepIQTubMU.aac\n",
      "./ffmpeg -ss 60 -i $(youtube-dl -f mp4 --get-url http://www.youtube.com/watch?v=WfTKr7BGV_I) -t 10 -vn -c:v copy -c:a copy WfTKr7BGV_I.aac\n"
     ]
    },
    {
     "name": "stderr",
     "output_type": "stream",
     "text": [
      "  8%|▊         | 400/4783 [09:00<4:55:59,  4.05s/it]"
     ]
    },
    {
     "name": "stdout",
     "output_type": "stream",
     "text": [
      "./ffmpeg -ss 10 -i $(youtube-dl -f mp4 --get-url http://www.youtube.com/watch?v=Uhz86Gi1Nz0) -t 10 -vn -c:v copy -c:a copy Uhz86Gi1Nz0.aac\n",
      "./ffmpeg -ss 150 -i $(youtube-dl -f mp4 --get-url http://www.youtube.com/watch?v=A2ojE297P_k) -t 10 -vn -c:v copy -c:a copy A2ojE297P_k.aac\n",
      "./ffmpeg -ss 180 -i $(youtube-dl -f mp4 --get-url http://www.youtube.com/watch?v=TuoDLLkFwBQ) -t 10 -vn -c:v copy -c:a copy TuoDLLkFwBQ.aac\n",
      "./ffmpeg -ss 30 -i $(youtube-dl -f mp4 --get-url http://www.youtube.com/watch?v=kc7zdM__Jxk) -t 10 -vn -c:v copy -c:a copy kc7zdM__Jxk.aac\n",
      "./ffmpeg -ss 90 -i $(youtube-dl -f mp4 --get-url http://www.youtube.com/watch?v=PaopBwfBVTY) -t 10 -vn -c:v copy -c:a copy PaopBwfBVTY.aac\n",
      "./ffmpeg -ss 530 -i $(youtube-dl -f mp4 --get-url http://www.youtube.com/watch?v=xmeEaW8dtCI) -t 10 -vn -c:v copy -c:a copy xmeEaW8dtCI.aac\n",
      "./ffmpeg -ss 70 -i $(youtube-dl -f mp4 --get-url http://www.youtube.com/watch?v=Rnq9PKrNgp0) -t 10 -vn -c:v copy -c:a copy Rnq9PKrNgp0.aac\n",
      "./ffmpeg -ss 110 -i $(youtube-dl -f mp4 --get-url http://www.youtube.com/watch?v=crfev0mjvSE) -t 10 -vn -c:v copy -c:a copy crfev0mjvSE.aac\n",
      "./ffmpeg -ss 170 -i $(youtube-dl -f mp4 --get-url http://www.youtube.com/watch?v=I_1Zckt3kcc) -t 10 -vn -c:v copy -c:a copy I_1Zckt3kcc.aac\n",
      "./ffmpeg -ss 170 -i $(youtube-dl -f mp4 --get-url http://www.youtube.com/watch?v=NMJJvK4-1Z4) -t 10 -vn -c:v copy -c:a copy NMJJvK4-1Z4.aac\n",
      "./ffmpeg -ss 0 -i $(youtube-dl -f mp4 --get-url http://www.youtube.com/watch?v=VYFp_ROGFqc) -t 10 -vn -c:v copy -c:a copy VYFp_ROGFqc.aac\n",
      "./ffmpeg -ss 80 -i $(youtube-dl -f mp4 --get-url http://www.youtube.com/watch?v=gS6EJd0gxx8) -t 10 -vn -c:v copy -c:a copy gS6EJd0gxx8.aac\n",
      "./ffmpeg -ss 30 -i $(youtube-dl -f mp4 --get-url http://www.youtube.com/watch?v=SPKI9UnPmEI) -t 10 -vn -c:v copy -c:a copy SPKI9UnPmEI.aac\n",
      "./ffmpeg -ss 0 -i $(youtube-dl -f mp4 --get-url http://www.youtube.com/watch?v=KNui1hIZiGQ) -t 10 -vn -c:v copy -c:a copy KNui1hIZiGQ.aac\n",
      "./ffmpeg -ss 90 -i $(youtube-dl -f mp4 --get-url http://www.youtube.com/watch?v=INGokTqDS3g) -t 10 -vn -c:v copy -c:a copy INGokTqDS3g.aac\n"
     ]
    }
   ],
   "source": [
    "import multiprocessing as mp\n",
    "mp.cpu_count()\n",
    "\n",
    "with mp.Pool(8) as pool:\n",
    "    list(tqdm.tqdm(pool.imap(download_audioset, clipsmeta), total=len(clipsmeta)))"
   ]
  },
  {
   "cell_type": "code",
   "execution_count": null,
   "metadata": {
    "hidden": true
   },
   "outputs": [],
   "source": [
    "# some clips will be missing due to unavailability of video\n",
    "print(len(os.listdir('./')), len(clipsmeta))"
   ]
  },
  {
   "cell_type": "code",
   "execution_count": null,
   "metadata": {
    "hidden": true
   },
   "outputs": [],
   "source": [
    "fnames = [i[:-4] for i in os.listdir('./')]"
   ]
  },
  {
   "cell_type": "code",
   "execution_count": null,
   "metadata": {
    "hidden": true
   },
   "outputs": [],
   "source": [
    "BMdf.columns"
   ]
  },
  {
   "cell_type": "code",
   "execution_count": null,
   "metadata": {
    "hidden": true
   },
   "outputs": [],
   "source": [
    "BMdf.columns = ['YTID', 'start_seconds', 'end_seconds', 'positive_labels', 'type','Boat', 'Motorcycle', 'Racecar', 'Helicopter', 'Railroadcar']"
   ]
  },
  {
   "cell_type": "code",
   "execution_count": null,
   "metadata": {
    "hidden": true,
    "scrolled": true
   },
   "outputs": [],
   "source": [
    "# Saving the metadata to generate labels.csv file later\n",
    "BMdf[BMdf['YTID'].isin(fnames)].to_csv('./Vehicle_clips_metadata', sep=' ', index=False)"
   ]
  },
  {
   "cell_type": "code",
   "execution_count": null,
   "metadata": {
    "hidden": true
   },
   "outputs": [],
   "source": []
  }
 ],
 "metadata": {
  "kernelspec": {
   "display_name": "Python 3",
   "language": "python",
   "name": "python3"
  },
  "language_info": {
   "codemirror_mode": {
    "name": "ipython",
    "version": 3
   },
   "file_extension": ".py",
   "mimetype": "text/x-python",
   "name": "python",
   "nbconvert_exporter": "python",
   "pygments_lexer": "ipython3",
   "version": "3.4.2"
  },
  "varInspector": {
   "cols": {
    "lenName": 16,
    "lenType": 16,
    "lenVar": 40
   },
   "kernels_config": {
    "python": {
     "delete_cmd_postfix": "",
     "delete_cmd_prefix": "del ",
     "library": "var_list.py",
     "varRefreshCmd": "print(var_dic_list())"
    },
    "r": {
     "delete_cmd_postfix": ") ",
     "delete_cmd_prefix": "rm(",
     "library": "var_list.r",
     "varRefreshCmd": "cat(var_dic_list()) "
    }
   },
   "types_to_exclude": [
    "module",
    "function",
    "builtin_function_or_method",
    "instance",
    "_Feature"
   ],
   "window_display": false
  }
 },
 "nbformat": 4,
 "nbformat_minor": 2
}
